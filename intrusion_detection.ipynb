{
  "nbformat": 4,
  "nbformat_minor": 0,
  "metadata": {
    "colab": {
      "name": "intrusion detection",
      "provenance": [],
      "collapsed_sections": []
    },
    "kernelspec": {
      "name": "python3",
      "display_name": "Python 3"
    }
  },
  "cells": [
    {
      "cell_type": "markdown",
      "metadata": {
        "id": "vrGMi9SjOj5r"
      },
      "source": [
        "INSTALL ALL LIBRARIES"
      ]
    },
    {
      "cell_type": "code",
      "metadata": {
        "id": "SsaUHtXhnHRv",
        "colab": {
          "base_uri": "https://localhost:8080/"
        },
        "outputId": "30f9fc8f-b4e7-4e6a-95b0-9564d7df1ca1"
      },
      "source": [
        "!pwd\n",
        "!wget https://mirrors.estointernet.in/apache/spark/spark-3.0.1/spark-3.0.1-bin-hadoop2.7.tgz"
      ],
      "execution_count": null,
      "outputs": [
        {
          "output_type": "stream",
          "text": [
            "/content\n",
            "--2020-11-02 16:55:03--  https://mirrors.estointernet.in/apache/spark/spark-3.0.1/spark-3.0.1-bin-hadoop2.7.tgz\n",
            "Resolving mirrors.estointernet.in (mirrors.estointernet.in)... 43.255.166.254, 2403:8940:3:1::f\n",
            "Connecting to mirrors.estointernet.in (mirrors.estointernet.in)|43.255.166.254|:443... connected.\n",
            "HTTP request sent, awaiting response... 200 OK\n",
            "Length: 219929956 (210M) [application/octet-stream]\n",
            "Saving to: ‘spark-3.0.1-bin-hadoop2.7.tgz.2’\n",
            "\n",
            "spark-3.0.1-bin-had 100%[===================>] 209.74M  7.07MB/s    in 54s     \n",
            "\n",
            "2020-11-02 16:55:58 (3.88 MB/s) - ‘spark-3.0.1-bin-hadoop2.7.tgz.2’ saved [219929956/219929956]\n",
            "\n"
          ],
          "name": "stdout"
        }
      ]
    },
    {
      "cell_type": "code",
      "metadata": {
        "id": "Pi0N6pMinPEz",
        "colab": {
          "base_uri": "https://localhost:8080/"
        },
        "outputId": "ce15a4cf-1768-4bae-d80f-01f93fe4bba7"
      },
      "source": [
        "!tar -xvzf spark-3.0.1-bin-hadoop2.7.tgz"
      ],
      "execution_count": null,
      "outputs": [
        {
          "output_type": "stream",
          "text": [
            "spark-3.0.1-bin-hadoop2.7/\n",
            "spark-3.0.1-bin-hadoop2.7/RELEASE\n",
            "spark-3.0.1-bin-hadoop2.7/examples/\n",
            "spark-3.0.1-bin-hadoop2.7/examples/src/\n",
            "spark-3.0.1-bin-hadoop2.7/examples/src/main/\n",
            "spark-3.0.1-bin-hadoop2.7/examples/src/main/scala/\n",
            "spark-3.0.1-bin-hadoop2.7/examples/src/main/scala/org/\n",
            "spark-3.0.1-bin-hadoop2.7/examples/src/main/scala/org/apache/\n",
            "spark-3.0.1-bin-hadoop2.7/examples/src/main/scala/org/apache/spark/\n",
            "spark-3.0.1-bin-hadoop2.7/examples/src/main/scala/org/apache/spark/examples/\n",
            "spark-3.0.1-bin-hadoop2.7/examples/src/main/scala/org/apache/spark/examples/ml/\n",
            "spark-3.0.1-bin-hadoop2.7/examples/src/main/scala/org/apache/spark/examples/ml/FPGrowthExample.scala\n",
            "spark-3.0.1-bin-hadoop2.7/examples/src/main/scala/org/apache/spark/examples/ml/GBTExample.scala\n",
            "spark-3.0.1-bin-hadoop2.7/examples/src/main/scala/org/apache/spark/examples/ml/ALSExample.scala\n",
            "spark-3.0.1-bin-hadoop2.7/examples/src/main/scala/org/apache/spark/examples/ml/KMeansExample.scala\n",
            "spark-3.0.1-bin-hadoop2.7/examples/src/main/scala/org/apache/spark/examples/ml/DecisionTreeExample.scala\n",
            "spark-3.0.1-bin-hadoop2.7/examples/src/main/scala/org/apache/spark/examples/ml/LogisticRegressionSummaryExample.scala\n",
            "spark-3.0.1-bin-hadoop2.7/examples/src/main/scala/org/apache/spark/examples/ml/TokenizerExample.scala\n",
            "spark-3.0.1-bin-hadoop2.7/examples/src/main/scala/org/apache/spark/examples/ml/UnaryTransformerExample.scala\n",
            "spark-3.0.1-bin-hadoop2.7/examples/src/main/scala/org/apache/spark/examples/ml/Word2VecExample.scala\n",
            "spark-3.0.1-bin-hadoop2.7/examples/src/main/scala/org/apache/spark/examples/ml/LinearSVCExample.scala\n",
            "spark-3.0.1-bin-hadoop2.7/examples/src/main/scala/org/apache/spark/examples/ml/CorrelationExample.scala\n",
            "spark-3.0.1-bin-hadoop2.7/examples/src/main/scala/org/apache/spark/examples/ml/BucketizerExample.scala\n",
            "spark-3.0.1-bin-hadoop2.7/examples/src/main/scala/org/apache/spark/examples/ml/ImputerExample.scala\n",
            "spark-3.0.1-bin-hadoop2.7/examples/src/main/scala/org/apache/spark/examples/ml/StringIndexerExample.scala\n",
            "spark-3.0.1-bin-hadoop2.7/examples/src/main/scala/org/apache/spark/examples/ml/NGramExample.scala\n",
            "spark-3.0.1-bin-hadoop2.7/examples/src/main/scala/org/apache/spark/examples/ml/IsotonicRegressionExample.scala\n",
            "spark-3.0.1-bin-hadoop2.7/examples/src/main/scala/org/apache/spark/examples/ml/DecisionTreeRegressionExample.scala\n",
            "spark-3.0.1-bin-hadoop2.7/examples/src/main/scala/org/apache/spark/examples/ml/OneHotEncoderExample.scala\n",
            "spark-3.0.1-bin-hadoop2.7/examples/src/main/scala/org/apache/spark/examples/ml/ChiSquareTestExample.scala\n",
            "spark-3.0.1-bin-hadoop2.7/examples/src/main/scala/org/apache/spark/examples/ml/PCAExample.scala\n",
            "spark-3.0.1-bin-hadoop2.7/examples/src/main/scala/org/apache/spark/examples/ml/StopWordsRemoverExample.scala\n",
            "spark-3.0.1-bin-hadoop2.7/examples/src/main/scala/org/apache/spark/examples/ml/DeveloperApiExample.scala\n",
            "spark-3.0.1-bin-hadoop2.7/examples/src/main/scala/org/apache/spark/examples/ml/LDAExample.scala\n",
            "spark-3.0.1-bin-hadoop2.7/examples/src/main/scala/org/apache/spark/examples/ml/StandardScalerExample.scala\n",
            "spark-3.0.1-bin-hadoop2.7/examples/src/main/scala/org/apache/spark/examples/ml/GradientBoostedTreeRegressorExample.scala\n",
            "spark-3.0.1-bin-hadoop2.7/examples/src/main/scala/org/apache/spark/examples/ml/RFormulaExample.scala\n",
            "spark-3.0.1-bin-hadoop2.7/examples/src/main/scala/org/apache/spark/examples/ml/MultilayerPerceptronClassifierExample.scala\n",
            "spark-3.0.1-bin-hadoop2.7/examples/src/main/scala/org/apache/spark/examples/ml/RandomForestRegressorExample.scala\n",
            "spark-3.0.1-bin-hadoop2.7/examples/src/main/scala/org/apache/spark/examples/ml/OneVsRestExample.scala\n",
            "spark-3.0.1-bin-hadoop2.7/examples/src/main/scala/org/apache/spark/examples/ml/PolynomialExpansionExample.scala\n",
            "spark-3.0.1-bin-hadoop2.7/examples/src/main/scala/org/apache/spark/examples/ml/ChiSqSelectorExample.scala\n",
            "spark-3.0.1-bin-hadoop2.7/examples/src/main/scala/org/apache/spark/examples/ml/MinMaxScalerExample.scala\n",
            "spark-3.0.1-bin-hadoop2.7/examples/src/main/scala/org/apache/spark/examples/ml/RobustScalerExample.scala\n",
            "spark-3.0.1-bin-hadoop2.7/examples/src/main/scala/org/apache/spark/examples/ml/FeatureHasherExample.scala\n",
            "spark-3.0.1-bin-hadoop2.7/examples/src/main/scala/org/apache/spark/examples/ml/LogisticRegressionWithElasticNetExample.scala\n",
            "spark-3.0.1-bin-hadoop2.7/examples/src/main/scala/org/apache/spark/examples/ml/FMClassifierExample.scala\n",
            "spark-3.0.1-bin-hadoop2.7/examples/src/main/scala/org/apache/spark/examples/ml/IndexToStringExample.scala\n",
            "spark-3.0.1-bin-hadoop2.7/examples/src/main/scala/org/apache/spark/examples/ml/LinearRegressionWithElasticNetExample.scala\n",
            "spark-3.0.1-bin-hadoop2.7/examples/src/main/scala/org/apache/spark/examples/ml/GeneralizedLinearRegressionExample.scala\n",
            "spark-3.0.1-bin-hadoop2.7/examples/src/main/scala/org/apache/spark/examples/ml/RandomForestExample.scala\n",
            "spark-3.0.1-bin-hadoop2.7/examples/src/main/scala/org/apache/spark/examples/ml/BucketedRandomProjectionLSHExample.scala\n",
            "spark-3.0.1-bin-hadoop2.7/examples/src/main/scala/org/apache/spark/examples/ml/LinearRegressionExample.scala\n",
            "spark-3.0.1-bin-hadoop2.7/examples/src/main/scala/org/apache/spark/examples/ml/BisectingKMeansExample.scala\n",
            "spark-3.0.1-bin-hadoop2.7/examples/src/main/scala/org/apache/spark/examples/ml/MinHashLSHExample.scala\n",
            "spark-3.0.1-bin-hadoop2.7/examples/src/main/scala/org/apache/spark/examples/ml/RandomForestClassifierExample.scala\n",
            "spark-3.0.1-bin-hadoop2.7/examples/src/main/scala/org/apache/spark/examples/ml/GradientBoostedTreeClassifierExample.scala\n",
            "spark-3.0.1-bin-hadoop2.7/examples/src/main/scala/org/apache/spark/examples/ml/LogisticRegressionExample.scala\n",
            "spark-3.0.1-bin-hadoop2.7/examples/src/main/scala/org/apache/spark/examples/ml/PowerIterationClusteringExample.scala\n",
            "spark-3.0.1-bin-hadoop2.7/examples/src/main/scala/org/apache/spark/examples/ml/CountVectorizerExample.scala\n",
            "spark-3.0.1-bin-hadoop2.7/examples/src/main/scala/org/apache/spark/examples/ml/TfIdfExample.scala\n",
            "spark-3.0.1-bin-hadoop2.7/examples/src/main/scala/org/apache/spark/examples/ml/VectorSlicerExample.scala\n",
            "spark-3.0.1-bin-hadoop2.7/examples/src/main/scala/org/apache/spark/examples/ml/MulticlassLogisticRegressionWithElasticNetExample.scala\n",
            "spark-3.0.1-bin-hadoop2.7/examples/src/main/scala/org/apache/spark/examples/ml/MaxAbsScalerExample.scala\n",
            "spark-3.0.1-bin-hadoop2.7/examples/src/main/scala/org/apache/spark/examples/ml/BinarizerExample.scala\n",
            "spark-3.0.1-bin-hadoop2.7/examples/src/main/scala/org/apache/spark/examples/ml/DataFrameExample.scala\n",
            "spark-3.0.1-bin-hadoop2.7/examples/src/main/scala/org/apache/spark/examples/ml/InteractionExample.scala\n",
            "spark-3.0.1-bin-hadoop2.7/examples/src/main/scala/org/apache/spark/examples/ml/VectorIndexerExample.scala\n",
            "spark-3.0.1-bin-hadoop2.7/examples/src/main/scala/org/apache/spark/examples/ml/ModelSelectionViaCrossValidationExample.scala\n",
            "spark-3.0.1-bin-hadoop2.7/examples/src/main/scala/org/apache/spark/examples/ml/EstimatorTransformerParamExample.scala\n",
            "spark-3.0.1-bin-hadoop2.7/examples/src/main/scala/org/apache/spark/examples/ml/PipelineExample.scala\n",
            "spark-3.0.1-bin-hadoop2.7/examples/src/main/scala/org/apache/spark/examples/ml/NaiveBayesExample.scala\n",
            "spark-3.0.1-bin-hadoop2.7/examples/src/main/scala/org/apache/spark/examples/ml/VectorSizeHintExample.scala\n",
            "spark-3.0.1-bin-hadoop2.7/examples/src/main/scala/org/apache/spark/examples/ml/PrefixSpanExample.scala\n",
            "spark-3.0.1-bin-hadoop2.7/examples/src/main/scala/org/apache/spark/examples/ml/SQLTransformerExample.scala\n",
            "spark-3.0.1-bin-hadoop2.7/examples/src/main/scala/org/apache/spark/examples/ml/SummarizerExample.scala\n",
            "spark-3.0.1-bin-hadoop2.7/examples/src/main/scala/org/apache/spark/examples/ml/DCTExample.scala\n",
            "spark-3.0.1-bin-hadoop2.7/examples/src/main/scala/org/apache/spark/examples/ml/AFTSurvivalRegressionExample.scala\n",
            "spark-3.0.1-bin-hadoop2.7/examples/src/main/scala/org/apache/spark/examples/ml/ModelSelectionViaTrainValidationSplitExample.scala\n",
            "spark-3.0.1-bin-hadoop2.7/examples/src/main/scala/org/apache/spark/examples/ml/DecisionTreeClassificationExample.scala\n",
            "spark-3.0.1-bin-hadoop2.7/examples/src/main/scala/org/apache/spark/examples/ml/QuantileDiscretizerExample.scala\n",
            "spark-3.0.1-bin-hadoop2.7/examples/src/main/scala/org/apache/spark/examples/ml/NormalizerExample.scala\n",
            "spark-3.0.1-bin-hadoop2.7/examples/src/main/scala/org/apache/spark/examples/ml/FMRegressorExample.scala\n",
            "spark-3.0.1-bin-hadoop2.7/examples/src/main/scala/org/apache/spark/examples/ml/VectorAssemblerExample.scala\n",
            "spark-3.0.1-bin-hadoop2.7/examples/src/main/scala/org/apache/spark/examples/ml/ElementwiseProductExample.scala\n",
            "spark-3.0.1-bin-hadoop2.7/examples/src/main/scala/org/apache/spark/examples/ml/GaussianMixtureExample.scala\n",
            "spark-3.0.1-bin-hadoop2.7/examples/src/main/scala/org/apache/spark/examples/SkewedGroupByTest.scala\n",
            "spark-3.0.1-bin-hadoop2.7/examples/src/main/scala/org/apache/spark/examples/SparkALS.scala\n",
            "spark-3.0.1-bin-hadoop2.7/examples/src/main/scala/org/apache/spark/examples/mllib/\n",
            "spark-3.0.1-bin-hadoop2.7/examples/src/main/scala/org/apache/spark/examples/mllib/HypothesisTestingExample.scala\n",
            "spark-3.0.1-bin-hadoop2.7/examples/src/main/scala/org/apache/spark/examples/mllib/KernelDensityEstimationExample.scala\n",
            "spark-3.0.1-bin-hadoop2.7/examples/src/main/scala/org/apache/spark/examples/mllib/FPGrowthExample.scala\n",
            "spark-3.0.1-bin-hadoop2.7/examples/src/main/scala/org/apache/spark/examples/mllib/LBFGSExample.scala\n",
            "spark-3.0.1-bin-hadoop2.7/examples/src/main/scala/org/apache/spark/examples/mllib/SVDExample.scala\n",
            "spark-3.0.1-bin-hadoop2.7/examples/src/main/scala/org/apache/spark/examples/mllib/KMeansExample.scala\n",
            "spark-3.0.1-bin-hadoop2.7/examples/src/main/scala/org/apache/spark/examples/mllib/Word2VecExample.scala\n",
            "spark-3.0.1-bin-hadoop2.7/examples/src/main/scala/org/apache/spark/examples/mllib/StratifiedSamplingExample.scala\n",
            "spark-3.0.1-bin-hadoop2.7/examples/src/main/scala/org/apache/spark/examples/mllib/LogisticRegressionWithLBFGSExample.scala\n",
            "spark-3.0.1-bin-hadoop2.7/examples/src/main/scala/org/apache/spark/examples/mllib/IsotonicRegressionExample.scala\n",
            "spark-3.0.1-bin-hadoop2.7/examples/src/main/scala/org/apache/spark/examples/mllib/RandomRDDGeneration.scala\n",
            "spark-3.0.1-bin-hadoop2.7/examples/src/main/scala/org/apache/spark/examples/mllib/DecisionTreeRegressionExample.scala\n",
            "spark-3.0.1-bin-hadoop2.7/examples/src/main/scala/org/apache/spark/examples/mllib/SummaryStatisticsExample.scala\n",
            "spark-3.0.1-bin-hadoop2.7/examples/src/main/scala/org/apache/spark/examples/mllib/StreamingTestExample.scala\n",
            "spark-3.0.1-bin-hadoop2.7/examples/src/main/scala/org/apache/spark/examples/mllib/PMMLModelExportExample.scala\n",
            "spark-3.0.1-bin-hadoop2.7/examples/src/main/scala/org/apache/spark/examples/mllib/BinaryClassificationMetricsExample.scala\n",
            "spark-3.0.1-bin-hadoop2.7/examples/src/main/scala/org/apache/spark/examples/mllib/MulticlassMetricsExample.scala\n",
            "spark-3.0.1-bin-hadoop2.7/examples/src/main/scala/org/apache/spark/examples/mllib/LDAExample.scala\n",
            "spark-3.0.1-bin-hadoop2.7/examples/src/main/scala/org/apache/spark/examples/mllib/StreamingKMeansExample.scala\n",
            "spark-3.0.1-bin-hadoop2.7/examples/src/main/scala/org/apache/spark/examples/mllib/StandardScalerExample.scala\n",
            "spark-3.0.1-bin-hadoop2.7/examples/src/main/scala/org/apache/spark/examples/mllib/SimpleFPGrowth.scala\n",
            "spark-3.0.1-bin-hadoop2.7/examples/src/main/scala/org/apache/spark/examples/mllib/PCAOnRowMatrixExample.scala\n",
            "spark-3.0.1-bin-hadoop2.7/examples/src/main/scala/org/apache/spark/examples/mllib/Correlations.scala\n",
            "spark-3.0.1-bin-hadoop2.7/examples/src/main/scala/org/apache/spark/examples/mllib/ChiSqSelectorExample.scala\n",
            "spark-3.0.1-bin-hadoop2.7/examples/src/main/scala/org/apache/spark/examples/mllib/SparseNaiveBayes.scala\n",
            "spark-3.0.1-bin-hadoop2.7/examples/src/main/scala/org/apache/spark/examples/mllib/StreamingLinearRegressionExample.scala\n",
            "spark-3.0.1-bin-hadoop2.7/examples/src/main/scala/org/apache/spark/examples/mllib/SVMWithSGDExample.scala\n",
            "spark-3.0.1-bin-hadoop2.7/examples/src/main/scala/org/apache/spark/examples/mllib/MultivariateSummarizer.scala\n",
            "spark-3.0.1-bin-hadoop2.7/examples/src/main/scala/org/apache/spark/examples/mllib/TallSkinnySVD.scala\n",
            "spark-3.0.1-bin-hadoop2.7/examples/src/main/scala/org/apache/spark/examples/mllib/TFIDFExample.scala\n",
            "spark-3.0.1-bin-hadoop2.7/examples/src/main/scala/org/apache/spark/examples/mllib/GradientBoostedTreesRunner.scala\n",
            "spark-3.0.1-bin-hadoop2.7/examples/src/main/scala/org/apache/spark/examples/mllib/MovieLensALS.scala\n",
            "spark-3.0.1-bin-hadoop2.7/examples/src/main/scala/org/apache/spark/examples/mllib/PCAOnSourceVectorExample.scala\n",
            "spark-3.0.1-bin-hadoop2.7/examples/src/main/scala/org/apache/spark/examples/mllib/MultiLabelMetricsExample.scala\n",
            "spark-3.0.1-bin-hadoop2.7/examples/src/main/scala/org/apache/spark/examples/mllib/RecommendationExample.scala\n",
            "spark-3.0.1-bin-hadoop2.7/examples/src/main/scala/org/apache/spark/examples/mllib/BisectingKMeansExample.scala\n",
            "spark-3.0.1-bin-hadoop2.7/examples/src/main/scala/org/apache/spark/examples/mllib/GradientBoostingClassificationExample.scala\n",
            "spark-3.0.1-bin-hadoop2.7/examples/src/main/scala/org/apache/spark/examples/mllib/PowerIterationClusteringExample.scala\n",
            "spark-3.0.1-bin-hadoop2.7/examples/src/main/scala/org/apache/spark/examples/mllib/LatentDirichletAllocationExample.scala\n",
            "spark-3.0.1-bin-hadoop2.7/examples/src/main/scala/org/apache/spark/examples/mllib/RankingMetricsExample.scala\n",
            "spark-3.0.1-bin-hadoop2.7/examples/src/main/scala/org/apache/spark/examples/mllib/DenseKMeans.scala\n",
            "spark-3.0.1-bin-hadoop2.7/examples/src/main/scala/org/apache/spark/examples/mllib/RandomForestClassificationExample.scala\n",
            "spark-3.0.1-bin-hadoop2.7/examples/src/main/scala/org/apache/spark/examples/mllib/TallSkinnyPCA.scala\n",
            "spark-3.0.1-bin-hadoop2.7/examples/src/main/scala/org/apache/spark/examples/mllib/AbstractParams.scala\n",
            "spark-3.0.1-bin-hadoop2.7/examples/src/main/scala/org/apache/spark/examples/mllib/NaiveBayesExample.scala\n",
            "spark-3.0.1-bin-hadoop2.7/examples/src/main/scala/org/apache/spark/examples/mllib/PrefixSpanExample.scala\n",
            "spark-3.0.1-bin-hadoop2.7/examples/src/main/scala/org/apache/spark/examples/mllib/GradientBoostingRegressionExample.scala\n",
            "spark-3.0.1-bin-hadoop2.7/examples/src/main/scala/org/apache/spark/examples/mllib/DecisionTreeRunner.scala\n",
            "spark-3.0.1-bin-hadoop2.7/examples/src/main/scala/org/apache/spark/examples/mllib/StreamingLogisticRegression.scala\n",
            "spark-3.0.1-bin-hadoop2.7/examples/src/main/scala/org/apache/spark/examples/mllib/HypothesisTestingKolmogorovSmirnovTestExample.scala\n",
            "spark-3.0.1-bin-hadoop2.7/examples/src/main/scala/org/apache/spark/examples/mllib/BinaryClassification.scala\n",
            "spark-3.0.1-bin-hadoop2.7/examples/src/main/scala/org/apache/spark/examples/mllib/DecisionTreeClassificationExample.scala\n",
            "spark-3.0.1-bin-hadoop2.7/examples/src/main/scala/org/apache/spark/examples/mllib/SampledRDDs.scala\n",
            "spark-3.0.1-bin-hadoop2.7/examples/src/main/scala/org/apache/spark/examples/mllib/AssociationRulesExample.scala\n",
            "spark-3.0.1-bin-hadoop2.7/examples/src/main/scala/org/apache/spark/examples/mllib/CosineSimilarity.scala\n",
            "spark-3.0.1-bin-hadoop2.7/examples/src/main/scala/org/apache/spark/examples/mllib/RandomForestRegressionExample.scala\n",
            "spark-3.0.1-bin-hadoop2.7/examples/src/main/scala/org/apache/spark/examples/mllib/CorrelationsExample.scala\n",
            "spark-3.0.1-bin-hadoop2.7/examples/src/main/scala/org/apache/spark/examples/mllib/NormalizerExample.scala\n",
            "spark-3.0.1-bin-hadoop2.7/examples/src/main/scala/org/apache/spark/examples/mllib/ElementwiseProductExample.scala\n",
            "spark-3.0.1-bin-hadoop2.7/examples/src/main/scala/org/apache/spark/examples/mllib/GaussianMixtureExample.scala\n",
            "spark-3.0.1-bin-hadoop2.7/examples/src/main/scala/org/apache/spark/examples/ExceptionHandlingTest.scala\n",
            "spark-3.0.1-bin-hadoop2.7/examples/src/main/scala/org/apache/spark/examples/BroadcastTest.scala\n",
            "spark-3.0.1-bin-hadoop2.7/examples/src/main/scala/org/apache/spark/examples/HdfsTest.scala\n",
            "spark-3.0.1-bin-hadoop2.7/examples/src/main/scala/org/apache/spark/examples/SparkHdfsLR.scala\n",
            "spark-3.0.1-bin-hadoop2.7/examples/src/main/scala/org/apache/spark/examples/streaming/\n",
            "spark-3.0.1-bin-hadoop2.7/examples/src/main/scala/org/apache/spark/examples/streaming/SqlNetworkWordCount.scala\n",
            "spark-3.0.1-bin-hadoop2.7/examples/src/main/scala/org/apache/spark/examples/streaming/QueueStream.scala\n",
            "spark-3.0.1-bin-hadoop2.7/examples/src/main/scala/org/apache/spark/examples/streaming/RawNetworkGrep.scala\n",
            "spark-3.0.1-bin-hadoop2.7/examples/src/main/scala/org/apache/spark/examples/streaming/DirectKafkaWordCount.scala\n",
            "spark-3.0.1-bin-hadoop2.7/examples/src/main/scala/org/apache/spark/examples/streaming/StatefulNetworkWordCount.scala\n",
            "spark-3.0.1-bin-hadoop2.7/examples/src/main/scala/org/apache/spark/examples/streaming/DirectKerberizedKafkaWordCount.scala\n",
            "spark-3.0.1-bin-hadoop2.7/examples/src/main/scala/org/apache/spark/examples/streaming/HdfsWordCount.scala\n",
            "spark-3.0.1-bin-hadoop2.7/examples/src/main/scala/org/apache/spark/examples/streaming/CustomReceiver.scala\n",
            "spark-3.0.1-bin-hadoop2.7/examples/src/main/scala/org/apache/spark/examples/streaming/StreamingExamples.scala\n",
            "spark-3.0.1-bin-hadoop2.7/examples/src/main/scala/org/apache/spark/examples/streaming/clickstream/\n",
            "spark-3.0.1-bin-hadoop2.7/examples/src/main/scala/org/apache/spark/examples/streaming/clickstream/PageViewStream.scala\n",
            "spark-3.0.1-bin-hadoop2.7/examples/src/main/scala/org/apache/spark/examples/streaming/clickstream/PageViewGenerator.scala\n",
            "spark-3.0.1-bin-hadoop2.7/examples/src/main/scala/org/apache/spark/examples/streaming/RecoverableNetworkWordCount.scala\n",
            "spark-3.0.1-bin-hadoop2.7/examples/src/main/scala/org/apache/spark/examples/streaming/NetworkWordCount.scala\n",
            "spark-3.0.1-bin-hadoop2.7/examples/src/main/scala/org/apache/spark/examples/LocalLR.scala\n",
            "spark-3.0.1-bin-hadoop2.7/examples/src/main/scala/org/apache/spark/examples/SparkKMeans.scala\n",
            "spark-3.0.1-bin-hadoop2.7/examples/src/main/scala/org/apache/spark/examples/MultiBroadcastTest.scala\n",
            "spark-3.0.1-bin-hadoop2.7/examples/src/main/scala/org/apache/spark/examples/SparkLR.scala\n",
            "spark-3.0.1-bin-hadoop2.7/examples/src/main/scala/org/apache/spark/examples/LocalPi.scala\n",
            "spark-3.0.1-bin-hadoop2.7/examples/src/main/scala/org/apache/spark/examples/graphx/\n",
            "spark-3.0.1-bin-hadoop2.7/examples/src/main/scala/org/apache/spark/examples/graphx/Analytics.scala\n",
            "spark-3.0.1-bin-hadoop2.7/examples/src/main/scala/org/apache/spark/examples/graphx/SynthBenchmark.scala\n",
            "spark-3.0.1-bin-hadoop2.7/examples/src/main/scala/org/apache/spark/examples/graphx/ComprehensiveExample.scala\n",
            "spark-3.0.1-bin-hadoop2.7/examples/src/main/scala/org/apache/spark/examples/graphx/AggregateMessagesExample.scala\n",
            "spark-3.0.1-bin-hadoop2.7/examples/src/main/scala/org/apache/spark/examples/graphx/SSSPExample.scala\n",
            "spark-3.0.1-bin-hadoop2.7/examples/src/main/scala/org/apache/spark/examples/graphx/PageRankExample.scala\n",
            "spark-3.0.1-bin-hadoop2.7/examples/src/main/scala/org/apache/spark/examples/graphx/ConnectedComponentsExample.scala\n",
            "spark-3.0.1-bin-hadoop2.7/examples/src/main/scala/org/apache/spark/examples/graphx/LiveJournalPageRank.scala\n",
            "spark-3.0.1-bin-hadoop2.7/examples/src/main/scala/org/apache/spark/examples/graphx/TriangleCountingExample.scala\n",
            "spark-3.0.1-bin-hadoop2.7/examples/src/main/scala/org/apache/spark/examples/LocalFileLR.scala\n",
            "spark-3.0.1-bin-hadoop2.7/examples/src/main/scala/org/apache/spark/examples/SparkPageRank.scala\n",
            "spark-3.0.1-bin-hadoop2.7/examples/src/main/scala/org/apache/spark/examples/sql/\n",
            "spark-3.0.1-bin-hadoop2.7/examples/src/main/scala/org/apache/spark/examples/sql/RDDRelation.scala\n",
            "spark-3.0.1-bin-hadoop2.7/examples/src/main/scala/org/apache/spark/examples/sql/SimpleTypedAggregator.scala\n",
            "spark-3.0.1-bin-hadoop2.7/examples/src/main/scala/org/apache/spark/examples/sql/streaming/\n",
            "spark-3.0.1-bin-hadoop2.7/examples/src/main/scala/org/apache/spark/examples/sql/streaming/StructuredNetworkWordCount.scala\n",
            "spark-3.0.1-bin-hadoop2.7/examples/src/main/scala/org/apache/spark/examples/sql/streaming/StructuredNetworkWordCountWindowed.scala\n",
            "spark-3.0.1-bin-hadoop2.7/examples/src/main/scala/org/apache/spark/examples/sql/streaming/StructuredSessionization.scala\n",
            "spark-3.0.1-bin-hadoop2.7/examples/src/main/scala/org/apache/spark/examples/sql/streaming/StructuredKafkaWordCount.scala\n",
            "spark-3.0.1-bin-hadoop2.7/examples/src/main/scala/org/apache/spark/examples/sql/streaming/StructuredKerberizedKafkaWordCount.scala\n",
            "spark-3.0.1-bin-hadoop2.7/examples/src/main/scala/org/apache/spark/examples/sql/hive/\n",
            "spark-3.0.1-bin-hadoop2.7/examples/src/main/scala/org/apache/spark/examples/sql/hive/SparkHiveExample.scala\n",
            "spark-3.0.1-bin-hadoop2.7/examples/src/main/scala/org/apache/spark/examples/sql/UserDefinedScalar.scala\n",
            "spark-3.0.1-bin-hadoop2.7/examples/src/main/scala/org/apache/spark/examples/sql/UserDefinedTypedAggregation.scala\n",
            "spark-3.0.1-bin-hadoop2.7/examples/src/main/scala/org/apache/spark/examples/sql/SparkSQLExample.scala\n",
            "spark-3.0.1-bin-hadoop2.7/examples/src/main/scala/org/apache/spark/examples/sql/SQLDataSourceExample.scala\n",
            "spark-3.0.1-bin-hadoop2.7/examples/src/main/scala/org/apache/spark/examples/sql/UserDefinedUntypedAggregation.scala\n",
            "spark-3.0.1-bin-hadoop2.7/examples/src/main/scala/org/apache/spark/examples/SimpleSkewedGroupByTest.scala\n",
            "spark-3.0.1-bin-hadoop2.7/examples/src/main/scala/org/apache/spark/examples/LocalKMeans.scala\n",
            "spark-3.0.1-bin-hadoop2.7/examples/src/main/scala/org/apache/spark/examples/AccumulatorMetricsTest.scala\n",
            "spark-3.0.1-bin-hadoop2.7/examples/src/main/scala/org/apache/spark/examples/pythonconverters/\n",
            "spark-3.0.1-bin-hadoop2.7/examples/src/main/scala/org/apache/spark/examples/pythonconverters/AvroConverters.scala\n",
            "spark-3.0.1-bin-hadoop2.7/examples/src/main/scala/org/apache/spark/examples/SparkPi.scala\n",
            "spark-3.0.1-bin-hadoop2.7/examples/src/main/scala/org/apache/spark/examples/LocalALS.scala\n",
            "spark-3.0.1-bin-hadoop2.7/examples/src/main/scala/org/apache/spark/examples/GroupByTest.scala\n",
            "spark-3.0.1-bin-hadoop2.7/examples/src/main/scala/org/apache/spark/examples/LogQuery.scala\n",
            "spark-3.0.1-bin-hadoop2.7/examples/src/main/scala/org/apache/spark/examples/DriverSubmissionTest.scala\n",
            "spark-3.0.1-bin-hadoop2.7/examples/src/main/scala/org/apache/spark/examples/DFSReadWriteTest.scala\n",
            "spark-3.0.1-bin-hadoop2.7/examples/src/main/scala/org/apache/spark/examples/SparkRemoteFileTest.scala\n",
            "spark-3.0.1-bin-hadoop2.7/examples/src/main/scala/org/apache/spark/examples/SparkTC.scala\n",
            "spark-3.0.1-bin-hadoop2.7/examples/src/main/resources/\n",
            "spark-3.0.1-bin-hadoop2.7/examples/src/main/resources/users.avro\n",
            "spark-3.0.1-bin-hadoop2.7/examples/src/main/resources/full_user.avsc\n",
            "spark-3.0.1-bin-hadoop2.7/examples/src/main/resources/dir1/\n",
            "spark-3.0.1-bin-hadoop2.7/examples/src/main/resources/dir1/file1.parquet\n",
            "spark-3.0.1-bin-hadoop2.7/examples/src/main/resources/dir1/file3.json\n",
            "spark-3.0.1-bin-hadoop2.7/examples/src/main/resources/dir1/dir2/\n",
            "spark-3.0.1-bin-hadoop2.7/examples/src/main/resources/dir1/dir2/file2.parquet\n",
            "spark-3.0.1-bin-hadoop2.7/examples/src/main/resources/users.orc\n",
            "spark-3.0.1-bin-hadoop2.7/examples/src/main/resources/kv1.txt\n",
            "spark-3.0.1-bin-hadoop2.7/examples/src/main/resources/users.parquet\n",
            "spark-3.0.1-bin-hadoop2.7/examples/src/main/resources/people.txt\n",
            "spark-3.0.1-bin-hadoop2.7/examples/src/main/resources/user.avsc\n",
            "spark-3.0.1-bin-hadoop2.7/examples/src/main/resources/people.csv\n",
            "spark-3.0.1-bin-hadoop2.7/examples/src/main/resources/employees.json\n",
            "spark-3.0.1-bin-hadoop2.7/examples/src/main/resources/people.json\n",
            "spark-3.0.1-bin-hadoop2.7/examples/src/main/scripts/\n",
            "spark-3.0.1-bin-hadoop2.7/examples/src/main/scripts/getGpusResources.sh\n",
            "spark-3.0.1-bin-hadoop2.7/examples/src/main/java/\n",
            "spark-3.0.1-bin-hadoop2.7/examples/src/main/java/org/\n",
            "spark-3.0.1-bin-hadoop2.7/examples/src/main/java/org/apache/\n",
            "spark-3.0.1-bin-hadoop2.7/examples/src/main/java/org/apache/spark/\n",
            "spark-3.0.1-bin-hadoop2.7/examples/src/main/java/org/apache/spark/examples/\n",
            "spark-3.0.1-bin-hadoop2.7/examples/src/main/java/org/apache/spark/examples/ml/\n",
            "spark-3.0.1-bin-hadoop2.7/examples/src/main/java/org/apache/spark/examples/ml/JavaInteractionExample.java\n",
            "spark-3.0.1-bin-hadoop2.7/examples/src/main/java/org/apache/spark/examples/ml/JavaRFormulaExample.java\n",
            "spark-3.0.1-bin-hadoop2.7/examples/src/main/java/org/apache/spark/examples/ml/JavaNaiveBayesExample.java\n",
            "spark-3.0.1-bin-hadoop2.7/examples/src/main/java/org/apache/spark/examples/ml/JavaImputerExample.java\n",
            "spark-3.0.1-bin-hadoop2.7/examples/src/main/java/org/apache/spark/examples/ml/JavaMultilayerPerceptronClassifierExample.java\n",
            "spark-3.0.1-bin-hadoop2.7/examples/src/main/java/org/apache/spark/examples/ml/JavaRandomForestRegressorExample.java\n",
            "spark-3.0.1-bin-hadoop2.7/examples/src/main/java/org/apache/spark/examples/ml/JavaRandomForestClassifierExample.java\n",
            "spark-3.0.1-bin-hadoop2.7/examples/src/main/java/org/apache/spark/examples/ml/JavaTfIdfExample.java\n",
            "spark-3.0.1-bin-hadoop2.7/examples/src/main/java/org/apache/spark/examples/ml/JavaGradientBoostedTreeClassifierExample.java\n",
            "spark-3.0.1-bin-hadoop2.7/examples/src/main/java/org/apache/spark/examples/ml/JavaCountVectorizerExample.java\n",
            "spark-3.0.1-bin-hadoop2.7/examples/src/main/java/org/apache/spark/examples/ml/JavaRobustScalerExample.java\n",
            "spark-3.0.1-bin-hadoop2.7/examples/src/main/java/org/apache/spark/examples/ml/JavaLogisticRegressionWithElasticNetExample.java\n",
            "spark-3.0.1-bin-hadoop2.7/examples/src/main/java/org/apache/spark/examples/ml/JavaVectorSizeHintExample.java\n",
            "spark-3.0.1-bin-hadoop2.7/examples/src/main/java/org/apache/spark/examples/ml/JavaMulticlassLogisticRegressionWithElasticNetExample.java\n",
            "spark-3.0.1-bin-hadoop2.7/examples/src/main/java/org/apache/spark/examples/ml/JavaKMeansExample.java\n",
            "spark-3.0.1-bin-hadoop2.7/examples/src/main/java/org/apache/spark/examples/ml/JavaVectorIndexerExample.java\n",
            "spark-3.0.1-bin-hadoop2.7/examples/src/main/java/org/apache/spark/examples/ml/JavaBinarizerExample.java\n",
            "spark-3.0.1-bin-hadoop2.7/examples/src/main/java/org/apache/spark/examples/ml/JavaPolynomialExpansionExample.java\n",
            "spark-3.0.1-bin-hadoop2.7/examples/src/main/java/org/apache/spark/examples/ml/JavaStringIndexerExample.java\n",
            "spark-3.0.1-bin-hadoop2.7/examples/src/main/java/org/apache/spark/examples/ml/JavaPCAExample.java\n",
            "spark-3.0.1-bin-hadoop2.7/examples/src/main/java/org/apache/spark/examples/ml/JavaOneVsRestExample.java\n",
            "spark-3.0.1-bin-hadoop2.7/examples/src/main/java/org/apache/spark/examples/ml/JavaLabeledDocument.java\n",
            "spark-3.0.1-bin-hadoop2.7/examples/src/main/java/org/apache/spark/examples/ml/JavaFeatureHasherExample.java\n",
            "spark-3.0.1-bin-hadoop2.7/examples/src/main/java/org/apache/spark/examples/ml/JavaFMRegressorExample.java\n",
            "spark-3.0.1-bin-hadoop2.7/examples/src/main/java/org/apache/spark/examples/ml/JavaVectorAssemblerExample.java\n",
            "spark-3.0.1-bin-hadoop2.7/examples/src/main/java/org/apache/spark/examples/ml/JavaSummarizerExample.java\n",
            "spark-3.0.1-bin-hadoop2.7/examples/src/main/java/org/apache/spark/examples/ml/JavaBisectingKMeansExample.java\n",
            "spark-3.0.1-bin-hadoop2.7/examples/src/main/java/org/apache/spark/examples/ml/JavaPrefixSpanExample.java\n",
            "spark-3.0.1-bin-hadoop2.7/examples/src/main/java/org/apache/spark/examples/ml/JavaBucketedRandomProjectionLSHExample.java\n",
            "spark-3.0.1-bin-hadoop2.7/examples/src/main/java/org/apache/spark/examples/ml/JavaWord2VecExample.java\n",
            "spark-3.0.1-bin-hadoop2.7/examples/src/main/java/org/apache/spark/examples/ml/JavaVectorSlicerExample.java\n",
            "spark-3.0.1-bin-hadoop2.7/examples/src/main/java/org/apache/spark/examples/ml/JavaLinearRegressionWithElasticNetExample.java\n",
            "spark-3.0.1-bin-hadoop2.7/examples/src/main/java/org/apache/spark/examples/ml/JavaIndexToStringExample.java\n",
            "spark-3.0.1-bin-hadoop2.7/examples/src/main/java/org/apache/spark/examples/ml/JavaDecisionTreeClassificationExample.java\n",
            "spark-3.0.1-bin-hadoop2.7/examples/src/main/java/org/apache/spark/examples/ml/JavaDCTExample.java\n",
            "spark-3.0.1-bin-hadoop2.7/examples/src/main/java/org/apache/spark/examples/ml/JavaTokenizerExample.java\n",
            "spark-3.0.1-bin-hadoop2.7/examples/src/main/java/org/apache/spark/examples/ml/JavaALSExample.java\n",
            "spark-3.0.1-bin-hadoop2.7/examples/src/main/java/org/apache/spark/examples/ml/JavaFMClassifierExample.java\n",
            "spark-3.0.1-bin-hadoop2.7/examples/src/main/java/org/apache/spark/examples/ml/JavaEstimatorTransformerParamExample.java\n",
            "spark-3.0.1-bin-hadoop2.7/examples/src/main/java/org/apache/spark/examples/ml/JavaSQLTransformerExample.java\n",
            "spark-3.0.1-bin-hadoop2.7/examples/src/main/java/org/apache/spark/examples/ml/JavaModelSelectionViaTrainValidationSplitExample.java\n",
            "spark-3.0.1-bin-hadoop2.7/examples/src/main/java/org/apache/spark/examples/ml/JavaQuantileDiscretizerExample.java\n",
            "spark-3.0.1-bin-hadoop2.7/examples/src/main/java/org/apache/spark/examples/ml/JavaCorrelationExample.java\n",
            "spark-3.0.1-bin-hadoop2.7/examples/src/main/java/org/apache/spark/examples/ml/JavaNGramExample.java\n",
            "spark-3.0.1-bin-hadoop2.7/examples/src/main/java/org/apache/spark/examples/ml/JavaGradientBoostedTreeRegressorExample.java\n",
            "spark-3.0.1-bin-hadoop2.7/examples/src/main/java/org/apache/spark/examples/ml/JavaModelSelectionViaCrossValidationExample.java\n",
            "spark-3.0.1-bin-hadoop2.7/examples/src/main/java/org/apache/spark/examples/ml/JavaIsotonicRegressionExample.java\n",
            "spark-3.0.1-bin-hadoop2.7/examples/src/main/java/org/apache/spark/examples/ml/JavaMinMaxScalerExample.java\n",
            "spark-3.0.1-bin-hadoop2.7/examples/src/main/java/org/apache/spark/examples/ml/JavaChiSquareTestExample.java\n",
            "spark-3.0.1-bin-hadoop2.7/examples/src/main/java/org/apache/spark/examples/ml/JavaElementwiseProductExample.java\n",
            "spark-3.0.1-bin-hadoop2.7/examples/src/main/java/org/apache/spark/examples/ml/JavaAFTSurvivalRegressionExample.java\n",
            "spark-3.0.1-bin-hadoop2.7/examples/src/main/java/org/apache/spark/examples/ml/JavaStandardScalerExample.java\n",
            "spark-3.0.1-bin-hadoop2.7/examples/src/main/java/org/apache/spark/examples/ml/JavaDecisionTreeRegressionExample.java\n",
            "spark-3.0.1-bin-hadoop2.7/examples/src/main/java/org/apache/spark/examples/ml/JavaOneHotEncoderExample.java\n",
            "spark-3.0.1-bin-hadoop2.7/examples/src/main/java/org/apache/spark/examples/ml/JavaDocument.java\n",
            "spark-3.0.1-bin-hadoop2.7/examples/src/main/java/org/apache/spark/examples/ml/JavaFPGrowthExample.java\n",
            "spark-3.0.1-bin-hadoop2.7/examples/src/main/java/org/apache/spark/examples/ml/JavaLDAExample.java\n",
            "spark-3.0.1-bin-hadoop2.7/examples/src/main/java/org/apache/spark/examples/ml/JavaMinHashLSHExample.java\n",
            "spark-3.0.1-bin-hadoop2.7/examples/src/main/java/org/apache/spark/examples/ml/JavaChiSqSelectorExample.java\n",
            "spark-3.0.1-bin-hadoop2.7/examples/src/main/java/org/apache/spark/examples/ml/JavaNormalizerExample.java\n",
            "spark-3.0.1-bin-hadoop2.7/examples/src/main/java/org/apache/spark/examples/ml/JavaGaussianMixtureExample.java\n",
            "spark-3.0.1-bin-hadoop2.7/examples/src/main/java/org/apache/spark/examples/ml/JavaStopWordsRemoverExample.java\n",
            "spark-3.0.1-bin-hadoop2.7/examples/src/main/java/org/apache/spark/examples/ml/JavaPipelineExample.java\n",
            "spark-3.0.1-bin-hadoop2.7/examples/src/main/java/org/apache/spark/examples/ml/JavaGeneralizedLinearRegressionExample.java\n",
            "spark-3.0.1-bin-hadoop2.7/examples/src/main/java/org/apache/spark/examples/ml/JavaLinearSVCExample.java\n",
            "spark-3.0.1-bin-hadoop2.7/examples/src/main/java/org/apache/spark/examples/ml/JavaLogisticRegressionSummaryExample.java\n",
            "spark-3.0.1-bin-hadoop2.7/examples/src/main/java/org/apache/spark/examples/ml/JavaPowerIterationClusteringExample.java\n",
            "spark-3.0.1-bin-hadoop2.7/examples/src/main/java/org/apache/spark/examples/ml/JavaMaxAbsScalerExample.java\n",
            "spark-3.0.1-bin-hadoop2.7/examples/src/main/java/org/apache/spark/examples/ml/JavaBucketizerExample.java\n",
            "spark-3.0.1-bin-hadoop2.7/examples/src/main/java/org/apache/spark/examples/JavaHdfsLR.java\n",
            "spark-3.0.1-bin-hadoop2.7/examples/src/main/java/org/apache/spark/examples/mllib/\n",
            "spark-3.0.1-bin-hadoop2.7/examples/src/main/java/org/apache/spark/examples/mllib/JavaNaiveBayesExample.java\n",
            "spark-3.0.1-bin-hadoop2.7/examples/src/main/java/org/apache/spark/examples/mllib/JavaSVDExample.java\n",
            "spark-3.0.1-bin-hadoop2.7/examples/src/main/java/org/apache/spark/examples/mllib/JavaKernelDensityEstimationExample.java\n",
            "spark-3.0.1-bin-hadoop2.7/examples/src/main/java/org/apache/spark/examples/mllib/JavaHypothesisTestingKolmogorovSmirnovTestExample.java\n",
            "spark-3.0.1-bin-hadoop2.7/examples/src/main/java/org/apache/spark/examples/mllib/JavaKMeansExample.java\n",
            "spark-3.0.1-bin-hadoop2.7/examples/src/main/java/org/apache/spark/examples/mllib/JavaPCAExample.java\n",
            "spark-3.0.1-bin-hadoop2.7/examples/src/main/java/org/apache/spark/examples/mllib/JavaRandomForestClassificationExample.java\n",
            "spark-3.0.1-bin-hadoop2.7/examples/src/main/java/org/apache/spark/examples/mllib/JavaCorrelationsExample.java\n",
            "spark-3.0.1-bin-hadoop2.7/examples/src/main/java/org/apache/spark/examples/mllib/JavaLatentDirichletAllocationExample.java\n",
            "spark-3.0.1-bin-hadoop2.7/examples/src/main/java/org/apache/spark/examples/mllib/JavaBisectingKMeansExample.java\n",
            "spark-3.0.1-bin-hadoop2.7/examples/src/main/java/org/apache/spark/examples/mllib/JavaPrefixSpanExample.java\n",
            "spark-3.0.1-bin-hadoop2.7/examples/src/main/java/org/apache/spark/examples/mllib/JavaSummaryStatisticsExample.java\n",
            "spark-3.0.1-bin-hadoop2.7/examples/src/main/java/org/apache/spark/examples/mllib/JavaSVMWithSGDExample.java\n",
            "spark-3.0.1-bin-hadoop2.7/examples/src/main/java/org/apache/spark/examples/mllib/JavaGradientBoostingRegressionExample.java\n",
            "spark-3.0.1-bin-hadoop2.7/examples/src/main/java/org/apache/spark/examples/mllib/JavaDecisionTreeClassificationExample.java\n",
            "spark-3.0.1-bin-hadoop2.7/examples/src/main/java/org/apache/spark/examples/mllib/JavaBinaryClassificationMetricsExample.java\n",
            "spark-3.0.1-bin-hadoop2.7/examples/src/main/java/org/apache/spark/examples/mllib/JavaSimpleFPGrowth.java\n",
            "spark-3.0.1-bin-hadoop2.7/examples/src/main/java/org/apache/spark/examples/mllib/JavaALS.java\n",
            "spark-3.0.1-bin-hadoop2.7/examples/src/main/java/org/apache/spark/examples/mllib/JavaIsotonicRegressionExample.java\n",
            "spark-3.0.1-bin-hadoop2.7/examples/src/main/java/org/apache/spark/examples/mllib/JavaElementwiseProductExample.java\n",
            "spark-3.0.1-bin-hadoop2.7/examples/src/main/java/org/apache/spark/examples/mllib/JavaGradientBoostingClassificationExample.java\n",
            "spark-3.0.1-bin-hadoop2.7/examples/src/main/java/org/apache/spark/examples/mllib/JavaMulticlassClassificationMetricsExample.java\n",
            "spark-3.0.1-bin-hadoop2.7/examples/src/main/java/org/apache/spark/examples/mllib/JavaLogisticRegressionWithLBFGSExample.java\n",
            "spark-3.0.1-bin-hadoop2.7/examples/src/main/java/org/apache/spark/examples/mllib/JavaRecommendationExample.java\n",
            "spark-3.0.1-bin-hadoop2.7/examples/src/main/java/org/apache/spark/examples/mllib/JavaAssociationRulesExample.java\n",
            "spark-3.0.1-bin-hadoop2.7/examples/src/main/java/org/apache/spark/examples/mllib/JavaDecisionTreeRegressionExample.java\n",
            "spark-3.0.1-bin-hadoop2.7/examples/src/main/java/org/apache/spark/examples/mllib/JavaLBFGSExample.java\n",
            "spark-3.0.1-bin-hadoop2.7/examples/src/main/java/org/apache/spark/examples/mllib/JavaHypothesisTestingExample.java\n",
            "spark-3.0.1-bin-hadoop2.7/examples/src/main/java/org/apache/spark/examples/mllib/JavaRankingMetricsExample.java\n",
            "spark-3.0.1-bin-hadoop2.7/examples/src/main/java/org/apache/spark/examples/mllib/JavaMultiLabelClassificationMetricsExample.java\n",
            "spark-3.0.1-bin-hadoop2.7/examples/src/main/java/org/apache/spark/examples/mllib/JavaStratifiedSamplingExample.java\n",
            "spark-3.0.1-bin-hadoop2.7/examples/src/main/java/org/apache/spark/examples/mllib/JavaChiSqSelectorExample.java\n",
            "spark-3.0.1-bin-hadoop2.7/examples/src/main/java/org/apache/spark/examples/mllib/JavaGaussianMixtureExample.java\n",
            "spark-3.0.1-bin-hadoop2.7/examples/src/main/java/org/apache/spark/examples/mllib/JavaRandomForestRegressionExample.java\n",
            "spark-3.0.1-bin-hadoop2.7/examples/src/main/java/org/apache/spark/examples/mllib/JavaStreamingTestExample.java\n",
            "spark-3.0.1-bin-hadoop2.7/examples/src/main/java/org/apache/spark/examples/mllib/JavaPowerIterationClusteringExample.java\n",
            "spark-3.0.1-bin-hadoop2.7/examples/src/main/java/org/apache/spark/examples/JavaLogQuery.java\n",
            "spark-3.0.1-bin-hadoop2.7/examples/src/main/java/org/apache/spark/examples/streaming/\n",
            "spark-3.0.1-bin-hadoop2.7/examples/src/main/java/org/apache/spark/examples/streaming/JavaDirectKafkaWordCount.java\n",
            "spark-3.0.1-bin-hadoop2.7/examples/src/main/java/org/apache/spark/examples/streaming/JavaRecoverableNetworkWordCount.java\n",
            "spark-3.0.1-bin-hadoop2.7/examples/src/main/java/org/apache/spark/examples/streaming/JavaQueueStream.java\n",
            "spark-3.0.1-bin-hadoop2.7/examples/src/main/java/org/apache/spark/examples/streaming/JavaRecord.java\n",
            "spark-3.0.1-bin-hadoop2.7/examples/src/main/java/org/apache/spark/examples/streaming/JavaCustomReceiver.java\n",
            "spark-3.0.1-bin-hadoop2.7/examples/src/main/java/org/apache/spark/examples/streaming/JavaNetworkWordCount.java\n",
            "spark-3.0.1-bin-hadoop2.7/examples/src/main/java/org/apache/spark/examples/streaming/JavaSqlNetworkWordCount.java\n",
            "spark-3.0.1-bin-hadoop2.7/examples/src/main/java/org/apache/spark/examples/streaming/JavaDirectKerberizedKafkaWordCount.java\n",
            "spark-3.0.1-bin-hadoop2.7/examples/src/main/java/org/apache/spark/examples/streaming/JavaStatefulNetworkWordCount.java\n",
            "spark-3.0.1-bin-hadoop2.7/examples/src/main/java/org/apache/spark/examples/JavaStatusTrackerDemo.java\n",
            "spark-3.0.1-bin-hadoop2.7/examples/src/main/java/org/apache/spark/examples/sql/\n",
            "spark-3.0.1-bin-hadoop2.7/examples/src/main/java/org/apache/spark/examples/sql/streaming/\n",
            "spark-3.0.1-bin-hadoop2.7/examples/src/main/java/org/apache/spark/examples/sql/streaming/JavaStructuredNetworkWordCount.java\n",
            "spark-3.0.1-bin-hadoop2.7/examples/src/main/java/org/apache/spark/examples/sql/streaming/JavaStructuredSessionization.java\n",
            "spark-3.0.1-bin-hadoop2.7/examples/src/main/java/org/apache/spark/examples/sql/streaming/JavaStructuredKerberizedKafkaWordCount.java\n",
            "spark-3.0.1-bin-hadoop2.7/examples/src/main/java/org/apache/spark/examples/sql/streaming/JavaStructuredNetworkWordCountWindowed.java\n",
            "spark-3.0.1-bin-hadoop2.7/examples/src/main/java/org/apache/spark/examples/sql/streaming/JavaStructuredKafkaWordCount.java\n",
            "spark-3.0.1-bin-hadoop2.7/examples/src/main/java/org/apache/spark/examples/sql/hive/\n",
            "spark-3.0.1-bin-hadoop2.7/examples/src/main/java/org/apache/spark/examples/sql/hive/JavaSparkHiveExample.java\n",
            "spark-3.0.1-bin-hadoop2.7/examples/src/main/java/org/apache/spark/examples/sql/JavaSparkSQLExample.java\n",
            "spark-3.0.1-bin-hadoop2.7/examples/src/main/java/org/apache/spark/examples/sql/JavaSQLDataSourceExample.java\n",
            "spark-3.0.1-bin-hadoop2.7/examples/src/main/java/org/apache/spark/examples/sql/JavaUserDefinedScalar.java\n",
            "spark-3.0.1-bin-hadoop2.7/examples/src/main/java/org/apache/spark/examples/sql/JavaUserDefinedUntypedAggregation.java\n",
            "spark-3.0.1-bin-hadoop2.7/examples/src/main/java/org/apache/spark/examples/sql/JavaUserDefinedTypedAggregation.java\n",
            "spark-3.0.1-bin-hadoop2.7/examples/src/main/java/org/apache/spark/examples/JavaTC.java\n",
            "spark-3.0.1-bin-hadoop2.7/examples/src/main/java/org/apache/spark/examples/JavaWordCount.java\n",
            "spark-3.0.1-bin-hadoop2.7/examples/src/main/java/org/apache/spark/examples/JavaPageRank.java\n",
            "spark-3.0.1-bin-hadoop2.7/examples/src/main/java/org/apache/spark/examples/JavaSparkPi.java\n",
            "spark-3.0.1-bin-hadoop2.7/examples/src/main/r/\n",
            "spark-3.0.1-bin-hadoop2.7/examples/src/main/r/ml/\n",
            "spark-3.0.1-bin-hadoop2.7/examples/src/main/r/ml/lda.R\n",
            "spark-3.0.1-bin-hadoop2.7/examples/src/main/r/ml/logit.R\n",
            "spark-3.0.1-bin-hadoop2.7/examples/src/main/r/ml/gaussianMixture.R\n",
            "spark-3.0.1-bin-hadoop2.7/examples/src/main/r/ml/survreg.R\n",
            "spark-3.0.1-bin-hadoop2.7/examples/src/main/r/ml/glm.R\n",
            "spark-3.0.1-bin-hadoop2.7/examples/src/main/r/ml/powerIterationClustering.R\n",
            "spark-3.0.1-bin-hadoop2.7/examples/src/main/r/ml/als.R\n",
            "spark-3.0.1-bin-hadoop2.7/examples/src/main/r/ml/ml.R\n",
            "spark-3.0.1-bin-hadoop2.7/examples/src/main/r/ml/fpm.R\n",
            "spark-3.0.1-bin-hadoop2.7/examples/src/main/r/ml/bisectingKmeans.R\n",
            "spark-3.0.1-bin-hadoop2.7/examples/src/main/r/ml/isoreg.R\n",
            "spark-3.0.1-bin-hadoop2.7/examples/src/main/r/ml/mlp.R\n",
            "spark-3.0.1-bin-hadoop2.7/examples/src/main/r/ml/kmeans.R\n",
            "spark-3.0.1-bin-hadoop2.7/examples/src/main/r/ml/randomForest.R\n",
            "spark-3.0.1-bin-hadoop2.7/examples/src/main/r/ml/gbt.R\n",
            "spark-3.0.1-bin-hadoop2.7/examples/src/main/r/ml/kstest.R\n",
            "spark-3.0.1-bin-hadoop2.7/examples/src/main/r/ml/svmLinear.R\n",
            "spark-3.0.1-bin-hadoop2.7/examples/src/main/r/ml/decisionTree.R\n",
            "spark-3.0.1-bin-hadoop2.7/examples/src/main/r/ml/naiveBayes.R\n",
            "spark-3.0.1-bin-hadoop2.7/examples/src/main/r/ml/prefixSpan.R\n",
            "spark-3.0.1-bin-hadoop2.7/examples/src/main/r/data-manipulation.R\n",
            "spark-3.0.1-bin-hadoop2.7/examples/src/main/r/streaming/\n",
            "spark-3.0.1-bin-hadoop2.7/examples/src/main/r/streaming/structured_network_wordcount.R\n",
            "spark-3.0.1-bin-hadoop2.7/examples/src/main/r/RSparkSQLExample.R\n",
            "spark-3.0.1-bin-hadoop2.7/examples/src/main/r/dataframe.R\n",
            "spark-3.0.1-bin-hadoop2.7/examples/src/main/python/\n",
            "spark-3.0.1-bin-hadoop2.7/examples/src/main/python/ml/\n",
            "spark-3.0.1-bin-hadoop2.7/examples/src/main/python/ml/bisecting_k_means_example.py\n",
            "spark-3.0.1-bin-hadoop2.7/examples/src/main/python/ml/stopwords_remover_example.py\n",
            "spark-3.0.1-bin-hadoop2.7/examples/src/main/python/ml/chisq_selector_example.py\n",
            "spark-3.0.1-bin-hadoop2.7/examples/src/main/python/ml/cross_validator.py\n",
            "spark-3.0.1-bin-hadoop2.7/examples/src/main/python/ml/vector_indexer_example.py\n",
            "spark-3.0.1-bin-hadoop2.7/examples/src/main/python/ml/binarizer_example.py\n",
            "spark-3.0.1-bin-hadoop2.7/examples/src/main/python/ml/tokenizer_example.py\n",
            "spark-3.0.1-bin-hadoop2.7/examples/src/main/python/ml/quantile_discretizer_example.py\n",
            "spark-3.0.1-bin-hadoop2.7/examples/src/main/python/ml/vector_size_hint_example.py\n",
            "spark-3.0.1-bin-hadoop2.7/examples/src/main/python/ml/elementwise_product_example.py\n",
            "spark-3.0.1-bin-hadoop2.7/examples/src/main/python/ml/tf_idf_example.py\n",
            "spark-3.0.1-bin-hadoop2.7/examples/src/main/python/ml/pca_example.py\n",
            "spark-3.0.1-bin-hadoop2.7/examples/src/main/python/ml/chi_square_test_example.py\n",
            "spark-3.0.1-bin-hadoop2.7/examples/src/main/python/ml/correlation_example.py\n",
            "spark-3.0.1-bin-hadoop2.7/examples/src/main/python/ml/rformula_example.py\n",
            "spark-3.0.1-bin-hadoop2.7/examples/src/main/python/ml/fpgrowth_example.py\n",
            "spark-3.0.1-bin-hadoop2.7/examples/src/main/python/ml/dataframe_example.py\n",
            "spark-3.0.1-bin-hadoop2.7/examples/src/main/python/ml/train_validation_split.py\n",
            "spark-3.0.1-bin-hadoop2.7/examples/src/main/python/ml/fm_classifier_example.py\n",
            "spark-3.0.1-bin-hadoop2.7/examples/src/main/python/ml/index_to_string_example.py\n",
            "spark-3.0.1-bin-hadoop2.7/examples/src/main/python/ml/gradient_boosted_tree_regressor_example.py\n",
            "spark-3.0.1-bin-hadoop2.7/examples/src/main/python/ml/logistic_regression_summary_example.py\n",
            "spark-3.0.1-bin-hadoop2.7/examples/src/main/python/ml/feature_hasher_example.py\n",
            "spark-3.0.1-bin-hadoop2.7/examples/src/main/python/ml/vector_slicer_example.py\n",
            "spark-3.0.1-bin-hadoop2.7/examples/src/main/python/ml/kmeans_example.py\n",
            "spark-3.0.1-bin-hadoop2.7/examples/src/main/python/ml/robust_scaler_example.py\n",
            "spark-3.0.1-bin-hadoop2.7/examples/src/main/python/ml/als_example.py\n",
            "spark-3.0.1-bin-hadoop2.7/examples/src/main/python/ml/decision_tree_classification_example.py\n",
            "spark-3.0.1-bin-hadoop2.7/examples/src/main/python/ml/generalized_linear_regression_example.py\n",
            "spark-3.0.1-bin-hadoop2.7/examples/src/main/python/ml/fm_regressor_example.py\n",
            "spark-3.0.1-bin-hadoop2.7/examples/src/main/python/ml/multiclass_logistic_regression_with_elastic_net.py\n",
            "spark-3.0.1-bin-hadoop2.7/examples/src/main/python/ml/imputer_example.py\n",
            "spark-3.0.1-bin-hadoop2.7/examples/src/main/python/ml/interaction_example.py\n",
            "spark-3.0.1-bin-hadoop2.7/examples/src/main/python/ml/naive_bayes_example.py\n",
            "spark-3.0.1-bin-hadoop2.7/examples/src/main/python/ml/string_indexer_example.py\n",
            "spark-3.0.1-bin-hadoop2.7/examples/src/main/python/ml/gradient_boosted_tree_classifier_example.py\n",
            "spark-3.0.1-bin-hadoop2.7/examples/src/main/python/ml/sql_transformer.py\n",
            "spark-3.0.1-bin-hadoop2.7/examples/src/main/python/ml/logistic_regression_with_elastic_net.py\n",
            "spark-3.0.1-bin-hadoop2.7/examples/src/main/python/ml/decision_tree_regression_example.py\n",
            "spark-3.0.1-bin-hadoop2.7/examples/src/main/python/ml/lda_example.py\n",
            "spark-3.0.1-bin-hadoop2.7/examples/src/main/python/ml/min_hash_lsh_example.py\n",
            "spark-3.0.1-bin-hadoop2.7/examples/src/main/python/ml/estimator_transformer_param_example.py\n",
            "spark-3.0.1-bin-hadoop2.7/examples/src/main/python/ml/gaussian_mixture_example.py\n",
            "spark-3.0.1-bin-hadoop2.7/examples/src/main/python/ml/prefixspan_example.py\n",
            "spark-3.0.1-bin-hadoop2.7/examples/src/main/python/ml/summarizer_example.py\n",
            "spark-3.0.1-bin-hadoop2.7/examples/src/main/python/ml/max_abs_scaler_example.py\n",
            "spark-3.0.1-bin-hadoop2.7/examples/src/main/python/ml/aft_survival_regression.py\n",
            "spark-3.0.1-bin-hadoop2.7/examples/src/main/python/ml/onehot_encoder_example.py\n",
            "spark-3.0.1-bin-hadoop2.7/examples/src/main/python/ml/normalizer_example.py\n",
            "spark-3.0.1-bin-hadoop2.7/examples/src/main/python/ml/random_forest_regressor_example.py\n",
            "spark-3.0.1-bin-hadoop2.7/examples/src/main/python/ml/random_forest_classifier_example.py\n",
            "spark-3.0.1-bin-hadoop2.7/examples/src/main/python/ml/vector_assembler_example.py\n",
            "spark-3.0.1-bin-hadoop2.7/examples/src/main/python/ml/power_iteration_clustering_example.py\n",
            "spark-3.0.1-bin-hadoop2.7/examples/src/main/python/ml/linear_regression_with_elastic_net.py\n",
            "spark-3.0.1-bin-hadoop2.7/examples/src/main/python/ml/count_vectorizer_example.py\n",
            "spark-3.0.1-bin-hadoop2.7/examples/src/main/python/ml/standard_scaler_example.py\n",
            "spark-3.0.1-bin-hadoop2.7/examples/src/main/python/ml/bucketizer_example.py\n",
            "spark-3.0.1-bin-hadoop2.7/examples/src/main/python/ml/multilayer_perceptron_classification.py\n",
            "spark-3.0.1-bin-hadoop2.7/examples/src/main/python/ml/dct_example.py\n",
            "spark-3.0.1-bin-hadoop2.7/examples/src/main/python/ml/linearsvc.py\n",
            "spark-3.0.1-bin-hadoop2.7/examples/src/main/python/ml/polynomial_expansion_example.py\n",
            "spark-3.0.1-bin-hadoop2.7/examples/src/main/python/ml/isotonic_regression_example.py\n",
            "spark-3.0.1-bin-hadoop2.7/examples/src/main/python/ml/n_gram_example.py\n",
            "spark-3.0.1-bin-hadoop2.7/examples/src/main/python/ml/word2vec_example.py\n",
            "spark-3.0.1-bin-hadoop2.7/examples/src/main/python/ml/min_max_scaler_example.py\n",
            "spark-3.0.1-bin-hadoop2.7/examples/src/main/python/ml/bucketed_random_projection_lsh_example.py\n",
            "spark-3.0.1-bin-hadoop2.7/examples/src/main/python/ml/one_vs_rest_example.py\n",
            "spark-3.0.1-bin-hadoop2.7/examples/src/main/python/ml/pipeline_example.py\n",
            "spark-3.0.1-bin-hadoop2.7/examples/src/main/python/mllib/\n",
            "spark-3.0.1-bin-hadoop2.7/examples/src/main/python/mllib/bisecting_k_means_example.py\n",
            "spark-3.0.1-bin-hadoop2.7/examples/src/main/python/mllib/multi_class_metrics_example.py\n",
            "spark-3.0.1-bin-hadoop2.7/examples/src/main/python/mllib/regression_metrics_example.py\n",
            "spark-3.0.1-bin-hadoop2.7/examples/src/main/python/mllib/correlations.py\n",
            "spark-3.0.1-bin-hadoop2.7/examples/src/main/python/mllib/elementwise_product_example.py\n",
            "spark-3.0.1-bin-hadoop2.7/examples/src/main/python/mllib/svd_example.py\n",
            "spark-3.0.1-bin-hadoop2.7/examples/src/main/python/mllib/tf_idf_example.py\n",
            "spark-3.0.1-bin-hadoop2.7/examples/src/main/python/mllib/kernel_density_estimation_example.py\n",
            "spark-3.0.1-bin-hadoop2.7/examples/src/main/python/mllib/pca_rowmatrix_example.py\n",
            "spark-3.0.1-bin-hadoop2.7/examples/src/main/python/mllib/ranking_metrics_example.py\n",
            "spark-3.0.1-bin-hadoop2.7/examples/src/main/python/mllib/gradient_boosting_regression_example.py\n",
            "spark-3.0.1-bin-hadoop2.7/examples/src/main/python/mllib/fpgrowth_example.py\n",
            "spark-3.0.1-bin-hadoop2.7/examples/src/main/python/mllib/random_rdd_generation.py\n",
            "spark-3.0.1-bin-hadoop2.7/examples/src/main/python/mllib/word2vec.py\n",
            "spark-3.0.1-bin-hadoop2.7/examples/src/main/python/mllib/linear_regression_with_sgd_example.py\n",
            "spark-3.0.1-bin-hadoop2.7/examples/src/main/python/mllib/logistic_regression_with_lbfgs_example.py\n",
            "spark-3.0.1-bin-hadoop2.7/examples/src/main/python/mllib/kmeans.py\n",
            "spark-3.0.1-bin-hadoop2.7/examples/src/main/python/mllib/streaming_k_means_example.py\n",
            "spark-3.0.1-bin-hadoop2.7/examples/src/main/python/mllib/decision_tree_classification_example.py\n",
            "spark-3.0.1-bin-hadoop2.7/examples/src/main/python/mllib/correlations_example.py\n",
            "spark-3.0.1-bin-hadoop2.7/examples/src/main/python/mllib/naive_bayes_example.py\n",
            "spark-3.0.1-bin-hadoop2.7/examples/src/main/python/mllib/decision_tree_regression_example.py\n",
            "spark-3.0.1-bin-hadoop2.7/examples/src/main/python/mllib/sampled_rdds.py\n",
            "spark-3.0.1-bin-hadoop2.7/examples/src/main/python/mllib/gaussian_mixture_example.py\n",
            "spark-3.0.1-bin-hadoop2.7/examples/src/main/python/mllib/hypothesis_testing_example.py\n",
            "spark-3.0.1-bin-hadoop2.7/examples/src/main/python/mllib/streaming_linear_regression_example.py\n",
            "spark-3.0.1-bin-hadoop2.7/examples/src/main/python/mllib/stratified_sampling_example.py\n",
            "spark-3.0.1-bin-hadoop2.7/examples/src/main/python/mllib/gaussian_mixture_model.py\n",
            "spark-3.0.1-bin-hadoop2.7/examples/src/main/python/mllib/normalizer_example.py\n",
            "spark-3.0.1-bin-hadoop2.7/examples/src/main/python/mllib/summary_statistics_example.py\n",
            "spark-3.0.1-bin-hadoop2.7/examples/src/main/python/mllib/svm_with_sgd_example.py\n",
            "spark-3.0.1-bin-hadoop2.7/examples/src/main/python/mllib/logistic_regression.py\n",
            "spark-3.0.1-bin-hadoop2.7/examples/src/main/python/mllib/power_iteration_clustering_example.py\n",
            "spark-3.0.1-bin-hadoop2.7/examples/src/main/python/mllib/standard_scaler_example.py\n",
            "spark-3.0.1-bin-hadoop2.7/examples/src/main/python/mllib/random_forest_classification_example.py\n",
            "spark-3.0.1-bin-hadoop2.7/examples/src/main/python/mllib/gradient_boosting_classification_example.py\n",
            "spark-3.0.1-bin-hadoop2.7/examples/src/main/python/mllib/random_forest_regression_example.py\n",
            "spark-3.0.1-bin-hadoop2.7/examples/src/main/python/mllib/isotonic_regression_example.py\n",
            "spark-3.0.1-bin-hadoop2.7/examples/src/main/python/mllib/k_means_example.py\n",
            "spark-3.0.1-bin-hadoop2.7/examples/src/main/python/mllib/word2vec_example.py\n",
            "spark-3.0.1-bin-hadoop2.7/examples/src/main/python/mllib/binary_classification_metrics_example.py\n",
            "spark-3.0.1-bin-hadoop2.7/examples/src/main/python/mllib/multi_label_metrics_example.py\n",
            "spark-3.0.1-bin-hadoop2.7/examples/src/main/python/mllib/hypothesis_testing_kolmogorov_smirnov_test_example.py\n",
            "spark-3.0.1-bin-hadoop2.7/examples/src/main/python/mllib/latent_dirichlet_allocation_example.py\n",
            "spark-3.0.1-bin-hadoop2.7/examples/src/main/python/mllib/recommendation_example.py\n",
            "spark-3.0.1-bin-hadoop2.7/examples/src/main/python/transitive_closure.py\n",
            "spark-3.0.1-bin-hadoop2.7/examples/src/main/python/parquet_inputformat.py\n",
            "spark-3.0.1-bin-hadoop2.7/examples/src/main/python/streaming/\n",
            "spark-3.0.1-bin-hadoop2.7/examples/src/main/python/streaming/sql_network_wordcount.py\n",
            "spark-3.0.1-bin-hadoop2.7/examples/src/main/python/streaming/queue_stream.py\n",
            "spark-3.0.1-bin-hadoop2.7/examples/src/main/python/streaming/recoverable_network_wordcount.py\n",
            "spark-3.0.1-bin-hadoop2.7/examples/src/main/python/streaming/network_wordjoinsentiments.py\n",
            "spark-3.0.1-bin-hadoop2.7/examples/src/main/python/streaming/network_wordcount.py\n",
            "spark-3.0.1-bin-hadoop2.7/examples/src/main/python/streaming/hdfs_wordcount.py\n",
            "spark-3.0.1-bin-hadoop2.7/examples/src/main/python/streaming/stateful_network_wordcount.py\n",
            "spark-3.0.1-bin-hadoop2.7/examples/src/main/python/kmeans.py\n",
            "spark-3.0.1-bin-hadoop2.7/examples/src/main/python/als.py\n",
            "spark-3.0.1-bin-hadoop2.7/examples/src/main/python/sql/\n",
            "spark-3.0.1-bin-hadoop2.7/examples/src/main/python/sql/streaming/\n",
            "spark-3.0.1-bin-hadoop2.7/examples/src/main/python/sql/streaming/structured_kafka_wordcount.py\n",
            "spark-3.0.1-bin-hadoop2.7/examples/src/main/python/sql/streaming/structured_network_wordcount_windowed.py\n",
            "spark-3.0.1-bin-hadoop2.7/examples/src/main/python/sql/streaming/structured_network_wordcount.py\n",
            "spark-3.0.1-bin-hadoop2.7/examples/src/main/python/sql/basic.py\n",
            "spark-3.0.1-bin-hadoop2.7/examples/src/main/python/sql/datasource.py\n",
            "spark-3.0.1-bin-hadoop2.7/examples/src/main/python/sql/hive.py\n",
            "spark-3.0.1-bin-hadoop2.7/examples/src/main/python/sql/arrow.py\n",
            "spark-3.0.1-bin-hadoop2.7/examples/src/main/python/pagerank.py\n",
            "spark-3.0.1-bin-hadoop2.7/examples/src/main/python/logistic_regression.py\n",
            "spark-3.0.1-bin-hadoop2.7/examples/src/main/python/wordcount.py\n",
            "spark-3.0.1-bin-hadoop2.7/examples/src/main/python/status_api_demo.py\n",
            "spark-3.0.1-bin-hadoop2.7/examples/src/main/python/avro_inputformat.py\n",
            "spark-3.0.1-bin-hadoop2.7/examples/src/main/python/pi.py\n",
            "spark-3.0.1-bin-hadoop2.7/examples/src/main/python/sort.py\n",
            "spark-3.0.1-bin-hadoop2.7/examples/jars/\n",
            "spark-3.0.1-bin-hadoop2.7/examples/jars/spark-examples_2.12-3.0.1.jar\n",
            "spark-3.0.1-bin-hadoop2.7/examples/jars/scopt_2.12-3.7.1.jar\n",
            "spark-3.0.1-bin-hadoop2.7/data/\n",
            "spark-3.0.1-bin-hadoop2.7/data/mllib/\n",
            "spark-3.0.1-bin-hadoop2.7/data/mllib/ridge-data/\n",
            "spark-3.0.1-bin-hadoop2.7/data/mllib/ridge-data/lpsa.data\n",
            "spark-3.0.1-bin-hadoop2.7/data/mllib/streaming_kmeans_data_test.txt\n",
            "spark-3.0.1-bin-hadoop2.7/data/mllib/sample_multiclass_classification_data.txt\n",
            "spark-3.0.1-bin-hadoop2.7/data/mllib/sample_isotonic_regression_libsvm_data.txt\n",
            "spark-3.0.1-bin-hadoop2.7/data/mllib/sample_svm_data.txt\n",
            "spark-3.0.1-bin-hadoop2.7/data/mllib/iris_libsvm.txt\n",
            "spark-3.0.1-bin-hadoop2.7/data/mllib/sample_lda_data.txt\n",
            "spark-3.0.1-bin-hadoop2.7/data/mllib/sample_lda_libsvm_data.txt\n",
            "spark-3.0.1-bin-hadoop2.7/data/mllib/sample_movielens_data.txt\n",
            "spark-3.0.1-bin-hadoop2.7/data/mllib/sample_libsvm_data.txt\n",
            "spark-3.0.1-bin-hadoop2.7/data/mllib/sample_binary_classification_data.txt\n",
            "spark-3.0.1-bin-hadoop2.7/data/mllib/sample_fpgrowth.txt\n",
            "spark-3.0.1-bin-hadoop2.7/data/mllib/images/\n",
            "spark-3.0.1-bin-hadoop2.7/data/mllib/images/partitioned/\n",
            "spark-3.0.1-bin-hadoop2.7/data/mllib/images/partitioned/cls=multichannel/\n",
            "spark-3.0.1-bin-hadoop2.7/data/mllib/images/partitioned/cls=multichannel/date=2018-01/\n",
            "spark-3.0.1-bin-hadoop2.7/data/mllib/images/partitioned/cls=multichannel/date=2018-01/BGRA_alpha_60.png\n",
            "spark-3.0.1-bin-hadoop2.7/data/mllib/images/partitioned/cls=multichannel/date=2018-01/BGRA.png\n",
            "spark-3.0.1-bin-hadoop2.7/data/mllib/images/partitioned/cls=multichannel/date=2018-02/\n",
            "spark-3.0.1-bin-hadoop2.7/data/mllib/images/partitioned/cls=multichannel/date=2018-02/chr30.4.184.jpg\n",
            "spark-3.0.1-bin-hadoop2.7/data/mllib/images/partitioned/cls=multichannel/date=2018-02/grayscale.jpg\n",
            "spark-3.0.1-bin-hadoop2.7/data/mllib/images/partitioned/cls=kittens/\n",
            "spark-3.0.1-bin-hadoop2.7/data/mllib/images/partitioned/cls=kittens/date=2018-01/\n",
            "spark-3.0.1-bin-hadoop2.7/data/mllib/images/partitioned/cls=kittens/date=2018-01/not-image.txt\n",
            "spark-3.0.1-bin-hadoop2.7/data/mllib/images/partitioned/cls=kittens/date=2018-01/29.5.a_b_EGDP022204.jpg\n",
            "spark-3.0.1-bin-hadoop2.7/data/mllib/images/partitioned/cls=kittens/date=2018-02/\n",
            "spark-3.0.1-bin-hadoop2.7/data/mllib/images/partitioned/cls=kittens/date=2018-02/DP153539.jpg\n",
            "spark-3.0.1-bin-hadoop2.7/data/mllib/images/partitioned/cls=kittens/date=2018-02/54893.jpg\n",
            "spark-3.0.1-bin-hadoop2.7/data/mllib/images/partitioned/cls=kittens/date=2018-02/DP802813.jpg\n",
            "spark-3.0.1-bin-hadoop2.7/data/mllib/images/origin/\n",
            "spark-3.0.1-bin-hadoop2.7/data/mllib/images/origin/multi-channel/\n",
            "spark-3.0.1-bin-hadoop2.7/data/mllib/images/origin/multi-channel/BGRA_alpha_60.png\n",
            "spark-3.0.1-bin-hadoop2.7/data/mllib/images/origin/multi-channel/chr30.4.184.jpg\n",
            "spark-3.0.1-bin-hadoop2.7/data/mllib/images/origin/multi-channel/BGRA.png\n",
            "spark-3.0.1-bin-hadoop2.7/data/mllib/images/origin/multi-channel/grayscale.jpg\n",
            "spark-3.0.1-bin-hadoop2.7/data/mllib/images/origin/license.txt\n",
            "spark-3.0.1-bin-hadoop2.7/data/mllib/images/origin/kittens/\n",
            "spark-3.0.1-bin-hadoop2.7/data/mllib/images/origin/kittens/not-image.txt\n",
            "spark-3.0.1-bin-hadoop2.7/data/mllib/images/origin/kittens/DP153539.jpg\n",
            "spark-3.0.1-bin-hadoop2.7/data/mllib/images/origin/kittens/54893.jpg\n",
            "spark-3.0.1-bin-hadoop2.7/data/mllib/images/origin/kittens/29.5.a_b_EGDP022204.jpg\n",
            "spark-3.0.1-bin-hadoop2.7/data/mllib/images/origin/kittens/DP802813.jpg\n",
            "spark-3.0.1-bin-hadoop2.7/data/mllib/images/license.txt\n",
            "spark-3.0.1-bin-hadoop2.7/data/mllib/gmm_data.txt\n",
            "spark-3.0.1-bin-hadoop2.7/data/mllib/sample_linear_regression_data.txt\n",
            "spark-3.0.1-bin-hadoop2.7/data/mllib/kmeans_data.txt\n",
            "spark-3.0.1-bin-hadoop2.7/data/mllib/pagerank_data.txt\n",
            "spark-3.0.1-bin-hadoop2.7/data/mllib/pic_data.txt\n",
            "spark-3.0.1-bin-hadoop2.7/data/mllib/sample_kmeans_data.txt\n",
            "spark-3.0.1-bin-hadoop2.7/data/mllib/als/\n",
            "spark-3.0.1-bin-hadoop2.7/data/mllib/als/sample_movielens_ratings.txt\n",
            "spark-3.0.1-bin-hadoop2.7/data/mllib/als/test.data\n",
            "spark-3.0.1-bin-hadoop2.7/data/streaming/\n",
            "spark-3.0.1-bin-hadoop2.7/data/streaming/AFINN-111.txt\n",
            "spark-3.0.1-bin-hadoop2.7/data/graphx/\n",
            "spark-3.0.1-bin-hadoop2.7/data/graphx/followers.txt\n",
            "spark-3.0.1-bin-hadoop2.7/data/graphx/users.txt\n",
            "spark-3.0.1-bin-hadoop2.7/yarn/\n",
            "spark-3.0.1-bin-hadoop2.7/yarn/spark-3.0.1-yarn-shuffle.jar\n",
            "spark-3.0.1-bin-hadoop2.7/bin/\n",
            "spark-3.0.1-bin-hadoop2.7/bin/spark-class.cmd\n",
            "spark-3.0.1-bin-hadoop2.7/bin/run-example\n",
            "spark-3.0.1-bin-hadoop2.7/bin/run-example.cmd\n",
            "spark-3.0.1-bin-hadoop2.7/bin/spark-class\n",
            "spark-3.0.1-bin-hadoop2.7/bin/spark-class2.cmd\n",
            "spark-3.0.1-bin-hadoop2.7/bin/find-spark-home\n",
            "spark-3.0.1-bin-hadoop2.7/bin/spark-submit\n",
            "spark-3.0.1-bin-hadoop2.7/bin/pyspark\n",
            "spark-3.0.1-bin-hadoop2.7/bin/find-spark-home.cmd\n",
            "spark-3.0.1-bin-hadoop2.7/bin/docker-image-tool.sh\n",
            "spark-3.0.1-bin-hadoop2.7/bin/spark-shell.cmd\n",
            "spark-3.0.1-bin-hadoop2.7/bin/spark-sql.cmd\n",
            "spark-3.0.1-bin-hadoop2.7/bin/load-spark-env.cmd\n",
            "spark-3.0.1-bin-hadoop2.7/bin/sparkR2.cmd\n",
            "spark-3.0.1-bin-hadoop2.7/bin/beeline.cmd\n",
            "spark-3.0.1-bin-hadoop2.7/bin/pyspark.cmd\n",
            "spark-3.0.1-bin-hadoop2.7/bin/spark-shell2.cmd\n",
            "spark-3.0.1-bin-hadoop2.7/bin/spark-sql2.cmd\n",
            "spark-3.0.1-bin-hadoop2.7/bin/sparkR\n",
            "spark-3.0.1-bin-hadoop2.7/bin/spark-sql\n",
            "spark-3.0.1-bin-hadoop2.7/bin/spark-shell\n",
            "spark-3.0.1-bin-hadoop2.7/bin/spark-submit.cmd\n",
            "spark-3.0.1-bin-hadoop2.7/bin/load-spark-env.sh\n",
            "spark-3.0.1-bin-hadoop2.7/bin/beeline\n",
            "spark-3.0.1-bin-hadoop2.7/bin/sparkR.cmd\n",
            "spark-3.0.1-bin-hadoop2.7/bin/pyspark2.cmd\n",
            "spark-3.0.1-bin-hadoop2.7/bin/spark-submit2.cmd\n",
            "spark-3.0.1-bin-hadoop2.7/sbin/\n",
            "spark-3.0.1-bin-hadoop2.7/sbin/stop-thriftserver.sh\n",
            "spark-3.0.1-bin-hadoop2.7/sbin/stop-slaves.sh\n",
            "spark-3.0.1-bin-hadoop2.7/sbin/spark-config.sh\n",
            "spark-3.0.1-bin-hadoop2.7/sbin/start-mesos-dispatcher.sh\n",
            "spark-3.0.1-bin-hadoop2.7/sbin/stop-mesos-dispatcher.sh\n",
            "spark-3.0.1-bin-hadoop2.7/sbin/stop-master.sh\n",
            "spark-3.0.1-bin-hadoop2.7/sbin/start-thriftserver.sh\n",
            "spark-3.0.1-bin-hadoop2.7/sbin/spark-daemons.sh\n",
            "spark-3.0.1-bin-hadoop2.7/sbin/stop-all.sh\n",
            "spark-3.0.1-bin-hadoop2.7/sbin/start-master.sh\n",
            "spark-3.0.1-bin-hadoop2.7/sbin/start-slave.sh\n",
            "spark-3.0.1-bin-hadoop2.7/sbin/stop-slave.sh\n",
            "spark-3.0.1-bin-hadoop2.7/sbin/start-slaves.sh\n",
            "spark-3.0.1-bin-hadoop2.7/sbin/start-history-server.sh\n",
            "spark-3.0.1-bin-hadoop2.7/sbin/stop-mesos-shuffle-service.sh\n",
            "spark-3.0.1-bin-hadoop2.7/sbin/stop-history-server.sh\n",
            "spark-3.0.1-bin-hadoop2.7/sbin/start-all.sh\n",
            "spark-3.0.1-bin-hadoop2.7/sbin/start-mesos-shuffle-service.sh\n",
            "spark-3.0.1-bin-hadoop2.7/sbin/slaves.sh\n",
            "spark-3.0.1-bin-hadoop2.7/sbin/spark-daemon.sh\n",
            "spark-3.0.1-bin-hadoop2.7/README.md\n",
            "spark-3.0.1-bin-hadoop2.7/licenses/\n",
            "spark-3.0.1-bin-hadoop2.7/licenses/LICENSE-zstd.txt\n",
            "spark-3.0.1-bin-hadoop2.7/licenses/LICENSE-scala.txt\n",
            "spark-3.0.1-bin-hadoop2.7/licenses/LICENSE-JTransforms.txt\n",
            "spark-3.0.1-bin-hadoop2.7/licenses/LICENSE-pyrolite.txt\n",
            "spark-3.0.1-bin-hadoop2.7/licenses/LICENSE-mustache.txt\n",
            "spark-3.0.1-bin-hadoop2.7/licenses/LICENSE-scopt.txt\n",
            "spark-3.0.1-bin-hadoop2.7/licenses/LICENSE-paranamer.txt\n",
            "spark-3.0.1-bin-hadoop2.7/licenses/LICENSE-istack-commons-runtime.txt\n",
            "spark-3.0.1-bin-hadoop2.7/licenses/LICENSE-vis-timeline.txt\n",
            "spark-3.0.1-bin-hadoop2.7/licenses/LICENSE-bootstrap.txt\n",
            "spark-3.0.1-bin-hadoop2.7/licenses/LICENSE-javax-transaction-transaction-api.txt\n",
            "spark-3.0.1-bin-hadoop2.7/licenses/LICENSE-arpack.txt\n",
            "spark-3.0.1-bin-hadoop2.7/licenses/LICENSE-xmlenc.txt\n",
            "spark-3.0.1-bin-hadoop2.7/licenses/LICENSE-zstd-jni.txt\n",
            "spark-3.0.1-bin-hadoop2.7/licenses/LICENSE-spire.txt\n",
            "spark-3.0.1-bin-hadoop2.7/licenses/LICENSE-cloudpickle.txt\n",
            "spark-3.0.1-bin-hadoop2.7/licenses/LICENSE-automaton.txt\n",
            "spark-3.0.1-bin-hadoop2.7/licenses/LICENSE-sbt-launch-lib.txt\n",
            "spark-3.0.1-bin-hadoop2.7/licenses/LICENSE-slf4j.txt\n",
            "spark-3.0.1-bin-hadoop2.7/licenses/LICENSE-jquery.txt\n",
            "spark-3.0.1-bin-hadoop2.7/licenses/LICENSE-jakarta.activation-api.txt\n",
            "spark-3.0.1-bin-hadoop2.7/licenses/LICENSE-matchMedia-polyfill.txt\n",
            "spark-3.0.1-bin-hadoop2.7/licenses/LICENSE-kryo.txt\n",
            "spark-3.0.1-bin-hadoop2.7/licenses/LICENSE-JLargeArrays.txt\n",
            "spark-3.0.1-bin-hadoop2.7/licenses/LICENSE-netlib.txt\n",
            "spark-3.0.1-bin-hadoop2.7/licenses/LICENSE-jakarta.xml.bind-api.txt\n",
            "spark-3.0.1-bin-hadoop2.7/licenses/LICENSE-graphlib-dot.txt\n",
            "spark-3.0.1-bin-hadoop2.7/licenses/LICENSE-jakarta-ws-rs-api\n",
            "spark-3.0.1-bin-hadoop2.7/licenses/LICENSE-f2j.txt\n",
            "spark-3.0.1-bin-hadoop2.7/licenses/LICENSE-d3.min.js.txt\n",
            "spark-3.0.1-bin-hadoop2.7/licenses/LICENSE-javolution.txt\n",
            "spark-3.0.1-bin-hadoop2.7/licenses/LICENSE-modernizr.txt\n",
            "spark-3.0.1-bin-hadoop2.7/licenses/LICENSE-join.txt\n",
            "spark-3.0.1-bin-hadoop2.7/licenses/LICENSE-py4j.txt\n",
            "spark-3.0.1-bin-hadoop2.7/licenses/LICENSE-javassist.html\n",
            "spark-3.0.1-bin-hadoop2.7/licenses/LICENSE-respond.txt\n",
            "spark-3.0.1-bin-hadoop2.7/licenses/LICENSE-jakarta-annotation-api\n",
            "spark-3.0.1-bin-hadoop2.7/licenses/LICENSE-datatables.txt\n",
            "spark-3.0.1-bin-hadoop2.7/licenses/LICENSE-re2j.txt\n",
            "spark-3.0.1-bin-hadoop2.7/licenses/LICENSE-janino.txt\n",
            "spark-3.0.1-bin-hadoop2.7/licenses/LICENSE-CC0.txt\n",
            "spark-3.0.1-bin-hadoop2.7/licenses/LICENSE-json-formatter.txt\n",
            "spark-3.0.1-bin-hadoop2.7/licenses/LICENSE-heapq.txt\n",
            "spark-3.0.1-bin-hadoop2.7/licenses/LICENSE-jodd.txt\n",
            "spark-3.0.1-bin-hadoop2.7/licenses/LICENSE-jsp-api.txt\n",
            "spark-3.0.1-bin-hadoop2.7/licenses/LICENSE-reflectasm.txt\n",
            "spark-3.0.1-bin-hadoop2.7/licenses/LICENSE-jline.txt\n",
            "spark-3.0.1-bin-hadoop2.7/licenses/LICENSE-pmml-model.txt\n",
            "spark-3.0.1-bin-hadoop2.7/licenses/LICENSE-machinist.txt\n",
            "spark-3.0.1-bin-hadoop2.7/licenses/LICENSE-sorttable.js.txt\n",
            "spark-3.0.1-bin-hadoop2.7/licenses/LICENSE-leveldbjni.txt\n",
            "spark-3.0.1-bin-hadoop2.7/licenses/LICENSE-protobuf.txt\n",
            "spark-3.0.1-bin-hadoop2.7/licenses/LICENSE-dagre-d3.txt\n",
            "spark-3.0.1-bin-hadoop2.7/licenses/LICENSE-jaxb-runtime.txt\n",
            "spark-3.0.1-bin-hadoop2.7/licenses/LICENSE-antlr.txt\n",
            "spark-3.0.1-bin-hadoop2.7/licenses/LICENSE-minlog.txt\n",
            "spark-3.0.1-bin-hadoop2.7/licenses/LICENSE-AnchorJS.txt\n",
            "spark-3.0.1-bin-hadoop2.7/licenses/LICENSE-dnsjava.txt\n",
            "spark-3.0.1-bin-hadoop2.7/LICENSE\n",
            "spark-3.0.1-bin-hadoop2.7/kubernetes/\n",
            "spark-3.0.1-bin-hadoop2.7/kubernetes/dockerfiles/\n",
            "spark-3.0.1-bin-hadoop2.7/kubernetes/dockerfiles/spark/\n",
            "spark-3.0.1-bin-hadoop2.7/kubernetes/dockerfiles/spark/entrypoint.sh\n",
            "spark-3.0.1-bin-hadoop2.7/kubernetes/dockerfiles/spark/bindings/\n",
            "spark-3.0.1-bin-hadoop2.7/kubernetes/dockerfiles/spark/bindings/R/\n",
            "spark-3.0.1-bin-hadoop2.7/kubernetes/dockerfiles/spark/bindings/R/Dockerfile\n",
            "spark-3.0.1-bin-hadoop2.7/kubernetes/dockerfiles/spark/bindings/python/\n",
            "spark-3.0.1-bin-hadoop2.7/kubernetes/dockerfiles/spark/bindings/python/Dockerfile\n",
            "spark-3.0.1-bin-hadoop2.7/kubernetes/dockerfiles/spark/Dockerfile\n",
            "spark-3.0.1-bin-hadoop2.7/kubernetes/tests/\n",
            "spark-3.0.1-bin-hadoop2.7/kubernetes/tests/pyfiles.py\n",
            "spark-3.0.1-bin-hadoop2.7/kubernetes/tests/worker_memory_check.py\n",
            "spark-3.0.1-bin-hadoop2.7/kubernetes/tests/py_container_checks.py\n",
            "spark-3.0.1-bin-hadoop2.7/R/\n",
            "spark-3.0.1-bin-hadoop2.7/R/lib/\n",
            "spark-3.0.1-bin-hadoop2.7/R/lib/sparkr.zip\n",
            "spark-3.0.1-bin-hadoop2.7/R/lib/SparkR/\n",
            "spark-3.0.1-bin-hadoop2.7/R/lib/SparkR/html/\n",
            "spark-3.0.1-bin-hadoop2.7/R/lib/SparkR/html/00Index.html\n",
            "spark-3.0.1-bin-hadoop2.7/R/lib/SparkR/html/R.css\n",
            "spark-3.0.1-bin-hadoop2.7/R/lib/SparkR/help/\n",
            "spark-3.0.1-bin-hadoop2.7/R/lib/SparkR/help/aliases.rds\n",
            "spark-3.0.1-bin-hadoop2.7/R/lib/SparkR/help/AnIndex\n",
            "spark-3.0.1-bin-hadoop2.7/R/lib/SparkR/help/paths.rds\n",
            "spark-3.0.1-bin-hadoop2.7/R/lib/SparkR/help/SparkR.rdx\n",
            "spark-3.0.1-bin-hadoop2.7/R/lib/SparkR/help/SparkR.rdb\n",
            "spark-3.0.1-bin-hadoop2.7/R/lib/SparkR/DESCRIPTION\n",
            "spark-3.0.1-bin-hadoop2.7/R/lib/SparkR/Meta/\n",
            "spark-3.0.1-bin-hadoop2.7/R/lib/SparkR/Meta/vignette.rds\n",
            "spark-3.0.1-bin-hadoop2.7/R/lib/SparkR/Meta/features.rds\n",
            "spark-3.0.1-bin-hadoop2.7/R/lib/SparkR/Meta/nsInfo.rds\n",
            "spark-3.0.1-bin-hadoop2.7/R/lib/SparkR/Meta/links.rds\n",
            "spark-3.0.1-bin-hadoop2.7/R/lib/SparkR/Meta/Rd.rds\n",
            "spark-3.0.1-bin-hadoop2.7/R/lib/SparkR/Meta/package.rds\n",
            "spark-3.0.1-bin-hadoop2.7/R/lib/SparkR/Meta/hsearch.rds\n",
            "spark-3.0.1-bin-hadoop2.7/R/lib/SparkR/doc/\n",
            "spark-3.0.1-bin-hadoop2.7/R/lib/SparkR/doc/sparkr-vignettes.R\n",
            "spark-3.0.1-bin-hadoop2.7/R/lib/SparkR/doc/sparkr-vignettes.Rmd\n",
            "spark-3.0.1-bin-hadoop2.7/R/lib/SparkR/doc/sparkr-vignettes.html\n",
            "spark-3.0.1-bin-hadoop2.7/R/lib/SparkR/doc/index.html\n",
            "spark-3.0.1-bin-hadoop2.7/R/lib/SparkR/INDEX\n",
            "spark-3.0.1-bin-hadoop2.7/R/lib/SparkR/profile/\n",
            "spark-3.0.1-bin-hadoop2.7/R/lib/SparkR/profile/general.R\n",
            "spark-3.0.1-bin-hadoop2.7/R/lib/SparkR/profile/shell.R\n",
            "spark-3.0.1-bin-hadoop2.7/R/lib/SparkR/R/\n",
            "spark-3.0.1-bin-hadoop2.7/R/lib/SparkR/R/SparkR\n",
            "spark-3.0.1-bin-hadoop2.7/R/lib/SparkR/R/SparkR.rdx\n",
            "spark-3.0.1-bin-hadoop2.7/R/lib/SparkR/R/SparkR.rdb\n",
            "spark-3.0.1-bin-hadoop2.7/R/lib/SparkR/worker/\n",
            "spark-3.0.1-bin-hadoop2.7/R/lib/SparkR/worker/worker.R\n",
            "spark-3.0.1-bin-hadoop2.7/R/lib/SparkR/worker/daemon.R\n",
            "spark-3.0.1-bin-hadoop2.7/R/lib/SparkR/NAMESPACE\n",
            "spark-3.0.1-bin-hadoop2.7/R/lib/SparkR/tests/\n",
            "spark-3.0.1-bin-hadoop2.7/R/lib/SparkR/tests/testthat/\n",
            "spark-3.0.1-bin-hadoop2.7/R/lib/SparkR/tests/testthat/test_basic.R\n",
            "spark-3.0.1-bin-hadoop2.7/NOTICE\n",
            "spark-3.0.1-bin-hadoop2.7/jars/\n",
            "spark-3.0.1-bin-hadoop2.7/jars/pyrolite-4.30.jar\n",
            "spark-3.0.1-bin-hadoop2.7/jars/parquet-hadoop-1.10.1.jar\n",
            "spark-3.0.1-bin-hadoop2.7/jars/apacheds-kerberos-codec-2.0.0-M15.jar\n",
            "spark-3.0.1-bin-hadoop2.7/jars/hive-shims-2.3.7.jar\n",
            "spark-3.0.1-bin-hadoop2.7/jars/jackson-databind-2.10.0.jar\n",
            "spark-3.0.1-bin-hadoop2.7/jars/spire_2.12-0.17.0-M1.jar\n",
            "spark-3.0.1-bin-hadoop2.7/jars/jul-to-slf4j-1.7.30.jar\n",
            "spark-3.0.1-bin-hadoop2.7/jars/json4s-ast_2.12-3.6.6.jar\n",
            "spark-3.0.1-bin-hadoop2.7/jars/jersey-media-jaxb-2.30.jar\n",
            "spark-3.0.1-bin-hadoop2.7/jars/hadoop-common-2.7.4.jar\n",
            "spark-3.0.1-bin-hadoop2.7/jars/xbean-asm7-shaded-4.15.jar\n",
            "spark-3.0.1-bin-hadoop2.7/jars/spark-catalyst_2.12-3.0.1.jar\n",
            "spark-3.0.1-bin-hadoop2.7/jars/commons-logging-1.1.3.jar\n",
            "spark-3.0.1-bin-hadoop2.7/jars/RoaringBitmap-0.7.45.jar\n",
            "spark-3.0.1-bin-hadoop2.7/jars/hadoop-mapreduce-client-common-2.7.4.jar\n",
            "spark-3.0.1-bin-hadoop2.7/jars/jakarta.inject-2.6.1.jar\n",
            "spark-3.0.1-bin-hadoop2.7/jars/jackson-xc-1.9.13.jar\n",
            "spark-3.0.1-bin-hadoop2.7/jars/flatbuffers-java-1.9.0.jar\n",
            "spark-3.0.1-bin-hadoop2.7/jars/kubernetes-model-common-4.9.2.jar\n",
            "spark-3.0.1-bin-hadoop2.7/jars/json-1.8.jar\n",
            "spark-3.0.1-bin-hadoop2.7/jars/jaxb-runtime-2.3.2.jar\n",
            "spark-3.0.1-bin-hadoop2.7/jars/hadoop-hdfs-2.7.4.jar\n",
            "spark-3.0.1-bin-hadoop2.7/jars/hadoop-client-2.7.4.jar\n",
            "spark-3.0.1-bin-hadoop2.7/jars/mesos-1.4.0-shaded-protobuf.jar\n",
            "spark-3.0.1-bin-hadoop2.7/jars/orc-core-1.5.10.jar\n",
            "spark-3.0.1-bin-hadoop2.7/jars/commons-configuration-1.6.jar\n",
            "spark-3.0.1-bin-hadoop2.7/jars/chill_2.12-0.9.5.jar\n",
            "spark-3.0.1-bin-hadoop2.7/jars/hadoop-yarn-api-2.7.4.jar\n",
            "spark-3.0.1-bin-hadoop2.7/jars/leveldbjni-all-1.8.jar\n",
            "spark-3.0.1-bin-hadoop2.7/jars/kryo-shaded-4.0.2.jar\n",
            "spark-3.0.1-bin-hadoop2.7/jars/jackson-annotations-2.10.0.jar\n",
            "spark-3.0.1-bin-hadoop2.7/jars/hk2-api-2.6.1.jar\n",
            "spark-3.0.1-bin-hadoop2.7/jars/hadoop-annotations-2.7.4.jar\n",
            "spark-3.0.1-bin-hadoop2.7/jars/hadoop-yarn-client-2.7.4.jar\n",
            "spark-3.0.1-bin-hadoop2.7/jars/hk2-locator-2.6.1.jar\n",
            "spark-3.0.1-bin-hadoop2.7/jars/commons-beanutils-1.9.4.jar\n",
            "spark-3.0.1-bin-hadoop2.7/jars/osgi-resource-locator-1.0.3.jar\n",
            "spark-3.0.1-bin-hadoop2.7/jars/antlr4-runtime-4.7.1.jar\n",
            "spark-3.0.1-bin-hadoop2.7/jars/jersey-client-2.30.jar\n",
            "spark-3.0.1-bin-hadoop2.7/jars/json4s-scalap_2.12-3.6.6.jar\n",
            "spark-3.0.1-bin-hadoop2.7/jars/joda-time-2.10.5.jar\n",
            "spark-3.0.1-bin-hadoop2.7/jars/okio-1.15.0.jar\n",
            "spark-3.0.1-bin-hadoop2.7/jars/libthrift-0.12.0.jar\n",
            "spark-3.0.1-bin-hadoop2.7/jars/hadoop-yarn-server-web-proxy-2.7.4.jar\n",
            "spark-3.0.1-bin-hadoop2.7/jars/gson-2.2.4.jar\n",
            "spark-3.0.1-bin-hadoop2.7/jars/jta-1.1.jar\n",
            "spark-3.0.1-bin-hadoop2.7/jars/parquet-jackson-1.10.1.jar\n",
            "spark-3.0.1-bin-hadoop2.7/jars/super-csv-2.2.0.jar\n",
            "spark-3.0.1-bin-hadoop2.7/jars/commons-httpclient-3.1.jar\n",
            "spark-3.0.1-bin-hadoop2.7/jars/javax.jdo-3.2.0-m3.jar\n",
            "spark-3.0.1-bin-hadoop2.7/jars/httpclient-4.5.6.jar\n",
            "spark-3.0.1-bin-hadoop2.7/jars/datanucleus-api-jdo-4.2.4.jar\n",
            "spark-3.0.1-bin-hadoop2.7/jars/aopalliance-1.0.jar\n",
            "spark-3.0.1-bin-hadoop2.7/jars/commons-digester-1.8.jar\n",
            "spark-3.0.1-bin-hadoop2.7/jars/hadoop-yarn-common-2.7.4.jar\n",
            "spark-3.0.1-bin-hadoop2.7/jars/jetty-6.1.26.jar\n",
            "spark-3.0.1-bin-hadoop2.7/jars/slf4j-api-1.7.30.jar\n",
            "spark-3.0.1-bin-hadoop2.7/jars/univocity-parsers-2.9.0.jar\n",
            "spark-3.0.1-bin-hadoop2.7/jars/scala-compiler-2.12.10.jar\n",
            "spark-3.0.1-bin-hadoop2.7/jars/transaction-api-1.1.jar\n",
            "spark-3.0.1-bin-hadoop2.7/jars/curator-client-2.7.1.jar\n",
            "spark-3.0.1-bin-hadoop2.7/jars/hive-serde-2.3.7.jar\n",
            "spark-3.0.1-bin-hadoop2.7/jars/JLargeArrays-1.5.jar\n",
            "spark-3.0.1-bin-hadoop2.7/jars/libfb303-0.9.3.jar\n",
            "spark-3.0.1-bin-hadoop2.7/jars/jakarta.ws.rs-api-2.1.6.jar\n",
            "spark-3.0.1-bin-hadoop2.7/jars/hive-shims-0.23-2.3.7.jar\n",
            "spark-3.0.1-bin-hadoop2.7/jars/snappy-java-1.1.7.5.jar\n",
            "spark-3.0.1-bin-hadoop2.7/jars/compress-lzf-1.0.3.jar\n",
            "spark-3.0.1-bin-hadoop2.7/jars/commons-io-2.4.jar\n",
            "spark-3.0.1-bin-hadoop2.7/jars/hadoop-yarn-server-common-2.7.4.jar\n",
            "spark-3.0.1-bin-hadoop2.7/jars/snakeyaml-1.24.jar\n",
            "spark-3.0.1-bin-hadoop2.7/jars/spark-hive-thriftserver_2.12-3.0.1.jar\n",
            "spark-3.0.1-bin-hadoop2.7/jars/breeze-macros_2.12-1.0.jar\n",
            "spark-3.0.1-bin-hadoop2.7/jars/metrics-json-4.1.1.jar\n",
            "spark-3.0.1-bin-hadoop2.7/jars/hk2-utils-2.6.1.jar\n",
            "spark-3.0.1-bin-hadoop2.7/jars/bonecp-0.8.0.RELEASE.jar\n",
            "spark-3.0.1-bin-hadoop2.7/jars/automaton-1.11-8.jar\n",
            "spark-3.0.1-bin-hadoop2.7/jars/avro-ipc-1.8.2.jar\n",
            "spark-3.0.1-bin-hadoop2.7/jars/jetty-util-6.1.26.jar\n",
            "spark-3.0.1-bin-hadoop2.7/jars/spark-core_2.12-3.0.1.jar\n",
            "spark-3.0.1-bin-hadoop2.7/jars/htrace-core-3.1.0-incubating.jar\n",
            "spark-3.0.1-bin-hadoop2.7/jars/okhttp-3.12.6.jar\n",
            "spark-3.0.1-bin-hadoop2.7/jars/jackson-datatype-jsr310-2.10.3.jar\n",
            "spark-3.0.1-bin-hadoop2.7/jars/metrics-jvm-4.1.1.jar\n",
            "spark-3.0.1-bin-hadoop2.7/jars/avro-mapred-1.8.2-hadoop2.jar\n",
            "spark-3.0.1-bin-hadoop2.7/jars/guava-14.0.1.jar\n",
            "spark-3.0.1-bin-hadoop2.7/jars/algebra_2.12-2.0.0-M2.jar\n",
            "spark-3.0.1-bin-hadoop2.7/jars/protobuf-java-2.5.0.jar\n",
            "spark-3.0.1-bin-hadoop2.7/jars/stream-2.9.6.jar\n",
            "spark-3.0.1-bin-hadoop2.7/jars/spark-tags_2.12-3.0.1.jar\n",
            "spark-3.0.1-bin-hadoop2.7/jars/metrics-core-4.1.1.jar\n",
            "spark-3.0.1-bin-hadoop2.7/jars/stax-api-1.0.1.jar\n",
            "spark-3.0.1-bin-hadoop2.7/jars/jackson-module-scala_2.12-2.10.0.jar\n",
            "spark-3.0.1-bin-hadoop2.7/jars/commons-cli-1.2.jar\n",
            "spark-3.0.1-bin-hadoop2.7/jars/spark-kvstore_2.12-3.0.1.jar\n",
            "spark-3.0.1-bin-hadoop2.7/jars/aopalliance-repackaged-2.6.1.jar\n",
            "spark-3.0.1-bin-hadoop2.7/jars/arrow-vector-0.15.1.jar\n",
            "spark-3.0.1-bin-hadoop2.7/jars/datanucleus-core-4.1.17.jar\n",
            "spark-3.0.1-bin-hadoop2.7/jars/spark-network-shuffle_2.12-3.0.1.jar\n",
            "spark-3.0.1-bin-hadoop2.7/jars/lz4-java-1.7.1.jar\n",
            "spark-3.0.1-bin-hadoop2.7/jars/hive-jdbc-2.3.7.jar\n",
            "spark-3.0.1-bin-hadoop2.7/jars/janino-3.0.16.jar\n",
            "spark-3.0.1-bin-hadoop2.7/jars/jackson-jaxrs-1.9.13.jar\n",
            "spark-3.0.1-bin-hadoop2.7/jars/ivy-2.4.0.jar\n",
            "spark-3.0.1-bin-hadoop2.7/jars/commons-lang3-3.9.jar\n",
            "spark-3.0.1-bin-hadoop2.7/jars/arpack_combined_all-0.1.jar\n",
            "spark-3.0.1-bin-hadoop2.7/jars/spark-hive_2.12-3.0.1.jar\n",
            "spark-3.0.1-bin-hadoop2.7/jars/xml-apis-1.4.01.jar\n",
            "spark-3.0.1-bin-hadoop2.7/jars/stax-api-1.0-2.jar\n",
            "spark-3.0.1-bin-hadoop2.7/jars/derby-10.12.1.1.jar\n",
            "spark-3.0.1-bin-hadoop2.7/jars/commons-text-1.6.jar\n",
            "spark-3.0.1-bin-hadoop2.7/jars/macro-compat_2.12-1.1.1.jar\n",
            "spark-3.0.1-bin-hadoop2.7/jars/hive-beeline-2.3.7.jar\n",
            "spark-3.0.1-bin-hadoop2.7/jars/slf4j-log4j12-1.7.30.jar\n",
            "spark-3.0.1-bin-hadoop2.7/jars/scala-collection-compat_2.12-2.1.1.jar\n",
            "spark-3.0.1-bin-hadoop2.7/jars/hive-llap-common-2.3.7.jar\n",
            "spark-3.0.1-bin-hadoop2.7/jars/jakarta.xml.bind-api-2.3.2.jar\n",
            "spark-3.0.1-bin-hadoop2.7/jars/hive-shims-common-2.3.7.jar\n",
            "spark-3.0.1-bin-hadoop2.7/jars/generex-1.0.2.jar\n",
            "spark-3.0.1-bin-hadoop2.7/jars/objenesis-2.5.1.jar\n",
            "spark-3.0.1-bin-hadoop2.7/jars/commons-math3-3.4.1.jar\n",
            "spark-3.0.1-bin-hadoop2.7/jars/metrics-graphite-4.1.1.jar\n",
            "spark-3.0.1-bin-hadoop2.7/jars/logging-interceptor-3.12.6.jar\n",
            "spark-3.0.1-bin-hadoop2.7/jars/commons-codec-1.10.jar\n",
            "spark-3.0.1-bin-hadoop2.7/jars/HikariCP-2.5.1.jar\n",
            "spark-3.0.1-bin-hadoop2.7/jars/jackson-core-asl-1.9.13.jar\n",
            "spark-3.0.1-bin-hadoop2.7/jars/core-1.1.2.jar\n",
            "spark-3.0.1-bin-hadoop2.7/jars/hadoop-mapreduce-client-jobclient-2.7.4.jar\n",
            "spark-3.0.1-bin-hadoop2.7/jars/spark-tags_2.12-3.0.1-tests.jar\n",
            "spark-3.0.1-bin-hadoop2.7/jars/arrow-format-0.15.1.jar\n",
            "spark-3.0.1-bin-hadoop2.7/jars/orc-shims-1.5.10.jar\n",
            "spark-3.0.1-bin-hadoop2.7/jars/jdo-api-3.0.1.jar\n",
            "spark-3.0.1-bin-hadoop2.7/jars/log4j-1.2.17.jar\n",
            "spark-3.0.1-bin-hadoop2.7/jars/paranamer-2.8.jar\n",
            "spark-3.0.1-bin-hadoop2.7/jars/jodd-core-3.5.2.jar\n",
            "spark-3.0.1-bin-hadoop2.7/jars/kubernetes-model-4.9.2.jar\n",
            "spark-3.0.1-bin-hadoop2.7/jars/curator-framework-2.7.1.jar\n",
            "spark-3.0.1-bin-hadoop2.7/jars/spire-util_2.12-0.17.0-M1.jar\n",
            "spark-3.0.1-bin-hadoop2.7/jars/jcl-over-slf4j-1.7.30.jar\n",
            "spark-3.0.1-bin-hadoop2.7/jars/shapeless_2.12-2.3.3.jar\n",
            "spark-3.0.1-bin-hadoop2.7/jars/hive-metastore-2.3.7.jar\n",
            "spark-3.0.1-bin-hadoop2.7/jars/parquet-common-1.10.1.jar\n",
            "spark-3.0.1-bin-hadoop2.7/jars/zstd-jni-1.4.4-3.jar\n",
            "spark-3.0.1-bin-hadoop2.7/jars/hive-vector-code-gen-2.3.7.jar\n",
            "spark-3.0.1-bin-hadoop2.7/jars/jakarta.validation-api-2.0.2.jar\n",
            "spark-3.0.1-bin-hadoop2.7/jars/jersey-container-servlet-core-2.30.jar\n",
            "spark-3.0.1-bin-hadoop2.7/jars/scala-parser-combinators_2.12-1.1.2.jar\n",
            "spark-3.0.1-bin-hadoop2.7/jars/curator-recipes-2.7.1.jar\n",
            "spark-3.0.1-bin-hadoop2.7/jars/javassist-3.25.0-GA.jar\n",
            "spark-3.0.1-bin-hadoop2.7/jars/commons-lang-2.6.jar\n",
            "spark-3.0.1-bin-hadoop2.7/jars/hive-shims-scheduler-2.3.7.jar\n",
            "spark-3.0.1-bin-hadoop2.7/jars/spire-macros_2.12-0.17.0-M1.jar\n",
            "spark-3.0.1-bin-hadoop2.7/jars/xercesImpl-2.12.0.jar\n",
            "spark-3.0.1-bin-hadoop2.7/jars/parquet-format-2.4.0.jar\n",
            "spark-3.0.1-bin-hadoop2.7/jars/commons-compiler-3.0.16.jar\n",
            "spark-3.0.1-bin-hadoop2.7/jars/opencsv-2.3.jar\n",
            "spark-3.0.1-bin-hadoop2.7/jars/guice-servlet-3.0.jar\n",
            "spark-3.0.1-bin-hadoop2.7/jars/jakarta.annotation-api-1.3.5.jar\n",
            "spark-3.0.1-bin-hadoop2.7/jars/jpam-1.1.jar\n",
            "spark-3.0.1-bin-hadoop2.7/jars/py4j-0.10.9.jar\n",
            "spark-3.0.1-bin-hadoop2.7/jars/istack-commons-runtime-3.0.8.jar\n",
            "spark-3.0.1-bin-hadoop2.7/jars/spire-platform_2.12-0.17.0-M1.jar\n",
            "spark-3.0.1-bin-hadoop2.7/jars/datanucleus-rdbms-4.1.19.jar\n",
            "spark-3.0.1-bin-hadoop2.7/jars/spark-repl_2.12-3.0.1.jar\n",
            "spark-3.0.1-bin-hadoop2.7/jars/spark-mesos_2.12-3.0.1.jar\n",
            "spark-3.0.1-bin-hadoop2.7/jars/json4s-jackson_2.12-3.6.6.jar\n",
            "spark-3.0.1-bin-hadoop2.7/jars/jackson-module-paranamer-2.10.0.jar\n",
            "spark-3.0.1-bin-hadoop2.7/jars/jetty-sslengine-6.1.26.jar\n",
            "spark-3.0.1-bin-hadoop2.7/jars/hive-cli-2.3.7.jar\n",
            "spark-3.0.1-bin-hadoop2.7/jars/javax.inject-1.jar\n",
            "spark-3.0.1-bin-hadoop2.7/jars/jersey-container-servlet-2.30.jar\n",
            "spark-3.0.1-bin-hadoop2.7/jars/jersey-common-2.30.jar\n",
            "spark-3.0.1-bin-hadoop2.7/jars/api-asn1-api-1.0.0-M20.jar\n",
            "spark-3.0.1-bin-hadoop2.7/jars/commons-pool-1.5.4.jar\n",
            "spark-3.0.1-bin-hadoop2.7/jars/shims-0.7.45.jar\n",
            "spark-3.0.1-bin-hadoop2.7/jars/jackson-core-2.10.0.jar\n",
            "spark-3.0.1-bin-hadoop2.7/jars/jline-2.14.6.jar\n",
            "spark-3.0.1-bin-hadoop2.7/jars/jsp-api-2.1.jar\n",
            "spark-3.0.1-bin-hadoop2.7/jars/jakarta.activation-api-1.2.1.jar\n",
            "spark-3.0.1-bin-hadoop2.7/jars/httpcore-4.4.12.jar\n",
            "spark-3.0.1-bin-hadoop2.7/jars/ST4-4.0.4.jar\n",
            "spark-3.0.1-bin-hadoop2.7/jars/metrics-jmx-4.1.1.jar\n",
            "spark-3.0.1-bin-hadoop2.7/jars/apacheds-i18n-2.0.0-M15.jar\n",
            "spark-3.0.1-bin-hadoop2.7/jars/jackson-module-jaxb-annotations-2.10.0.jar\n",
            "spark-3.0.1-bin-hadoop2.7/jars/jersey-hk2-2.30.jar\n",
            "spark-3.0.1-bin-hadoop2.7/jars/hadoop-auth-2.7.4.jar\n",
            "spark-3.0.1-bin-hadoop2.7/jars/orc-mapreduce-1.5.10.jar\n",
            "spark-3.0.1-bin-hadoop2.7/jars/jersey-server-2.30.jar\n",
            "spark-3.0.1-bin-hadoop2.7/jars/JTransforms-3.1.jar\n",
            "spark-3.0.1-bin-hadoop2.7/jars/javax.servlet-api-3.1.0.jar\n",
            "spark-3.0.1-bin-hadoop2.7/jars/spark-graphx_2.12-3.0.1.jar\n",
            "spark-3.0.1-bin-hadoop2.7/jars/spark-unsafe_2.12-3.0.1.jar\n",
            "spark-3.0.1-bin-hadoop2.7/jars/guice-3.0.jar\n",
            "spark-3.0.1-bin-hadoop2.7/jars/arrow-memory-0.15.1.jar\n",
            "spark-3.0.1-bin-hadoop2.7/jars/spark-sketch_2.12-3.0.1.jar\n",
            "spark-3.0.1-bin-hadoop2.7/jars/hive-exec-2.3.7-core.jar\n",
            "spark-3.0.1-bin-hadoop2.7/jars/machinist_2.12-0.6.8.jar\n",
            "spark-3.0.1-bin-hadoop2.7/jars/antlr-runtime-3.5.2.jar\n",
            "spark-3.0.1-bin-hadoop2.7/jars/spark-streaming_2.12-3.0.1.jar\n",
            "spark-3.0.1-bin-hadoop2.7/jars/commons-net-3.1.jar\n",
            "spark-3.0.1-bin-hadoop2.7/jars/audience-annotations-0.5.0.jar\n",
            "spark-3.0.1-bin-hadoop2.7/jars/velocity-1.5.jar\n",
            "spark-3.0.1-bin-hadoop2.7/jars/hive-storage-api-2.7.1.jar\n",
            "spark-3.0.1-bin-hadoop2.7/jars/commons-compress-1.8.1.jar\n",
            "spark-3.0.1-bin-hadoop2.7/jars/breeze_2.12-1.0.jar\n",
            "spark-3.0.1-bin-hadoop2.7/jars/xmlenc-0.52.jar\n",
            "spark-3.0.1-bin-hadoop2.7/jars/hadoop-mapreduce-client-core-2.7.4.jar\n",
            "spark-3.0.1-bin-hadoop2.7/jars/netty-all-4.1.47.Final.jar\n",
            "spark-3.0.1-bin-hadoop2.7/jars/zjsonpatch-0.3.0.jar\n",
            "spark-3.0.1-bin-hadoop2.7/jars/chill-java-0.9.5.jar\n",
            "spark-3.0.1-bin-hadoop2.7/jars/activation-1.1.1.jar\n",
            "spark-3.0.1-bin-hadoop2.7/jars/spark-mllib_2.12-3.0.1.jar\n",
            "spark-3.0.1-bin-hadoop2.7/jars/dropwizard-metrics-hadoop-metrics2-reporter-0.1.2.jar\n",
            "spark-3.0.1-bin-hadoop2.7/jars/spark-launcher_2.12-3.0.1.jar\n",
            "spark-3.0.1-bin-hadoop2.7/jars/api-util-1.0.0-M20.jar\n",
            "spark-3.0.1-bin-hadoop2.7/jars/spark-network-common_2.12-3.0.1.jar\n",
            "spark-3.0.1-bin-hadoop2.7/jars/jackson-mapper-asl-1.9.13.jar\n",
            "spark-3.0.1-bin-hadoop2.7/jars/oro-2.0.8.jar\n",
            "spark-3.0.1-bin-hadoop2.7/jars/kubernetes-client-4.9.2.jar\n",
            "spark-3.0.1-bin-hadoop2.7/jars/jsr305-3.0.0.jar\n",
            "spark-3.0.1-bin-hadoop2.7/jars/jaxb-api-2.2.2.jar\n",
            "spark-3.0.1-bin-hadoop2.7/jars/spark-yarn_2.12-3.0.1.jar\n",
            "spark-3.0.1-bin-hadoop2.7/jars/spark-mllib-local_2.12-3.0.1.jar\n",
            "spark-3.0.1-bin-hadoop2.7/jars/json4s-core_2.12-3.6.6.jar\n",
            "spark-3.0.1-bin-hadoop2.7/jars/xz-1.5.jar\n",
            "spark-3.0.1-bin-hadoop2.7/jars/zookeeper-3.4.14.jar\n",
            "spark-3.0.1-bin-hadoop2.7/jars/threeten-extra-1.5.0.jar\n",
            "spark-3.0.1-bin-hadoop2.7/jars/parquet-column-1.10.1.jar\n",
            "spark-3.0.1-bin-hadoop2.7/jars/hadoop-mapreduce-client-shuffle-2.7.4.jar\n",
            "spark-3.0.1-bin-hadoop2.7/jars/spark-sql_2.12-3.0.1.jar\n",
            "spark-3.0.1-bin-hadoop2.7/jars/commons-crypto-1.0.0.jar\n",
            "spark-3.0.1-bin-hadoop2.7/jars/javolution-5.5.1.jar\n",
            "spark-3.0.1-bin-hadoop2.7/jars/aircompressor-0.10.jar\n",
            "spark-3.0.1-bin-hadoop2.7/jars/scala-library-2.12.10.jar\n",
            "spark-3.0.1-bin-hadoop2.7/jars/hadoop-mapreduce-client-app-2.7.4.jar\n",
            "spark-3.0.1-bin-hadoop2.7/jars/hive-common-2.3.7.jar\n",
            "spark-3.0.1-bin-hadoop2.7/jars/commons-dbcp-1.4.jar\n",
            "spark-3.0.1-bin-hadoop2.7/jars/parquet-encoding-1.10.1.jar\n",
            "spark-3.0.1-bin-hadoop2.7/jars/commons-collections-3.2.2.jar\n",
            "spark-3.0.1-bin-hadoop2.7/jars/scala-xml_2.12-1.2.0.jar\n",
            "spark-3.0.1-bin-hadoop2.7/jars/jackson-dataformat-yaml-2.10.0.jar\n",
            "spark-3.0.1-bin-hadoop2.7/jars/cats-kernel_2.12-2.0.0-M4.jar\n",
            "spark-3.0.1-bin-hadoop2.7/jars/scala-reflect-2.12.10.jar\n",
            "spark-3.0.1-bin-hadoop2.7/jars/avro-1.8.2.jar\n",
            "spark-3.0.1-bin-hadoop2.7/jars/minlog-1.3.0.jar\n",
            "spark-3.0.1-bin-hadoop2.7/jars/spark-kubernetes_2.12-3.0.1.jar\n",
            "spark-3.0.1-bin-hadoop2.7/python/\n",
            "spark-3.0.1-bin-hadoop2.7/python/setup.py\n",
            "spark-3.0.1-bin-hadoop2.7/python/pyspark/\n",
            "spark-3.0.1-bin-hadoop2.7/python/pyspark/ml/\n",
            "spark-3.0.1-bin-hadoop2.7/python/pyspark/ml/functions.py\n",
            "spark-3.0.1-bin-hadoop2.7/python/pyspark/ml/util.py\n",
            "spark-3.0.1-bin-hadoop2.7/python/pyspark/ml/regression.py\n",
            "spark-3.0.1-bin-hadoop2.7/python/pyspark/ml/evaluation.py\n",
            "spark-3.0.1-bin-hadoop2.7/python/pyspark/ml/feature.py\n",
            "spark-3.0.1-bin-hadoop2.7/python/pyspark/ml/base.py\n",
            "spark-3.0.1-bin-hadoop2.7/python/pyspark/ml/tuning.py\n",
            "spark-3.0.1-bin-hadoop2.7/python/pyspark/ml/clustering.py\n",
            "spark-3.0.1-bin-hadoop2.7/python/pyspark/ml/stat.py\n",
            "spark-3.0.1-bin-hadoop2.7/python/pyspark/ml/image.py\n",
            "spark-3.0.1-bin-hadoop2.7/python/pyspark/ml/fpm.py\n",
            "spark-3.0.1-bin-hadoop2.7/python/pyspark/ml/recommendation.py\n",
            "spark-3.0.1-bin-hadoop2.7/python/pyspark/ml/pipeline.py\n",
            "spark-3.0.1-bin-hadoop2.7/python/pyspark/ml/param/\n",
            "spark-3.0.1-bin-hadoop2.7/python/pyspark/ml/param/_shared_params_code_gen.py\n",
            "spark-3.0.1-bin-hadoop2.7/python/pyspark/ml/param/__init__.py\n",
            "spark-3.0.1-bin-hadoop2.7/python/pyspark/ml/param/shared.py\n",
            "spark-3.0.1-bin-hadoop2.7/python/pyspark/ml/common.py\n",
            "spark-3.0.1-bin-hadoop2.7/python/pyspark/ml/linalg/\n",
            "spark-3.0.1-bin-hadoop2.7/python/pyspark/ml/linalg/__init__.py\n",
            "spark-3.0.1-bin-hadoop2.7/python/pyspark/ml/classification.py\n",
            "spark-3.0.1-bin-hadoop2.7/python/pyspark/ml/tree.py\n",
            "spark-3.0.1-bin-hadoop2.7/python/pyspark/ml/wrapper.py\n",
            "spark-3.0.1-bin-hadoop2.7/python/pyspark/ml/__init__.py\n",
            "spark-3.0.1-bin-hadoop2.7/python/pyspark/ml/tests/\n",
            "spark-3.0.1-bin-hadoop2.7/python/pyspark/ml/tests/test_wrapper.py\n",
            "spark-3.0.1-bin-hadoop2.7/python/pyspark/ml/tests/test_tuning.py\n",
            "spark-3.0.1-bin-hadoop2.7/python/pyspark/ml/tests/test_base.py\n",
            "spark-3.0.1-bin-hadoop2.7/python/pyspark/ml/tests/test_evaluation.py\n",
            "spark-3.0.1-bin-hadoop2.7/python/pyspark/ml/tests/test_linalg.py\n",
            "spark-3.0.1-bin-hadoop2.7/python/pyspark/ml/tests/test_image.py\n",
            "spark-3.0.1-bin-hadoop2.7/python/pyspark/ml/tests/test_persistence.py\n",
            "spark-3.0.1-bin-hadoop2.7/python/pyspark/ml/tests/test_feature.py\n",
            "spark-3.0.1-bin-hadoop2.7/python/pyspark/ml/tests/test_param.py\n",
            "spark-3.0.1-bin-hadoop2.7/python/pyspark/ml/tests/test_algorithms.py\n",
            "spark-3.0.1-bin-hadoop2.7/python/pyspark/ml/tests/test_pipeline.py\n",
            "spark-3.0.1-bin-hadoop2.7/python/pyspark/ml/tests/__init__.py\n",
            "spark-3.0.1-bin-hadoop2.7/python/pyspark/ml/tests/test_training_summary.py\n",
            "spark-3.0.1-bin-hadoop2.7/python/pyspark/ml/tests/test_stat.py\n",
            "spark-3.0.1-bin-hadoop2.7/python/pyspark/statcounter.py\n",
            "spark-3.0.1-bin-hadoop2.7/python/pyspark/status.py\n",
            "spark-3.0.1-bin-hadoop2.7/python/pyspark/java_gateway.py\n",
            "spark-3.0.1-bin-hadoop2.7/python/pyspark/mllib/\n",
            "spark-3.0.1-bin-hadoop2.7/python/pyspark/mllib/util.py\n",
            "spark-3.0.1-bin-hadoop2.7/python/pyspark/mllib/regression.py\n",
            "spark-3.0.1-bin-hadoop2.7/python/pyspark/mllib/evaluation.py\n",
            "spark-3.0.1-bin-hadoop2.7/python/pyspark/mllib/feature.py\n",
            "spark-3.0.1-bin-hadoop2.7/python/pyspark/mllib/clustering.py\n",
            "spark-3.0.1-bin-hadoop2.7/python/pyspark/mllib/stat/\n",
            "spark-3.0.1-bin-hadoop2.7/python/pyspark/mllib/stat/test.py\n",
            "spark-3.0.1-bin-hadoop2.7/python/pyspark/mllib/stat/_statistics.py\n",
            "spark-3.0.1-bin-hadoop2.7/python/pyspark/mllib/stat/distribution.py\n",
            "spark-3.0.1-bin-hadoop2.7/python/pyspark/mllib/stat/KernelDensity.py\n",
            "spark-3.0.1-bin-hadoop2.7/python/pyspark/mllib/stat/__init__.py\n",
            "spark-3.0.1-bin-hadoop2.7/python/pyspark/mllib/fpm.py\n",
            "spark-3.0.1-bin-hadoop2.7/python/pyspark/mllib/recommendation.py\n",
            "spark-3.0.1-bin-hadoop2.7/python/pyspark/mllib/common.py\n",
            "spark-3.0.1-bin-hadoop2.7/python/pyspark/mllib/linalg/\n",
            "spark-3.0.1-bin-hadoop2.7/python/pyspark/mllib/linalg/distributed.py\n",
            "spark-3.0.1-bin-hadoop2.7/python/pyspark/mllib/linalg/__init__.py\n",
            "spark-3.0.1-bin-hadoop2.7/python/pyspark/mllib/classification.py\n",
            "spark-3.0.1-bin-hadoop2.7/python/pyspark/mllib/tree.py\n",
            "spark-3.0.1-bin-hadoop2.7/python/pyspark/mllib/__init__.py\n",
            "spark-3.0.1-bin-hadoop2.7/python/pyspark/mllib/random.py\n",
            "spark-3.0.1-bin-hadoop2.7/python/pyspark/mllib/tests/\n",
            "spark-3.0.1-bin-hadoop2.7/python/pyspark/mllib/tests/test_util.py\n",
            "spark-3.0.1-bin-hadoop2.7/python/pyspark/mllib/tests/test_linalg.py\n",
            "spark-3.0.1-bin-hadoop2.7/python/pyspark/mllib/tests/test_feature.py\n",
            "spark-3.0.1-bin-hadoop2.7/python/pyspark/mllib/tests/test_algorithms.py\n",
            "spark-3.0.1-bin-hadoop2.7/python/pyspark/mllib/tests/__init__.py\n",
            "spark-3.0.1-bin-hadoop2.7/python/pyspark/mllib/tests/test_streaming_algorithms.py\n",
            "spark-3.0.1-bin-hadoop2.7/python/pyspark/mllib/tests/test_stat.py\n",
            "spark-3.0.1-bin-hadoop2.7/python/pyspark/resource.py\n",
            "spark-3.0.1-bin-hadoop2.7/python/pyspark/serializers.py\n",
            "spark-3.0.1-bin-hadoop2.7/python/pyspark/util.py\n",
            "spark-3.0.1-bin-hadoop2.7/python/pyspark/daemon.py\n",
            "spark-3.0.1-bin-hadoop2.7/python/pyspark/context.py\n",
            "spark-3.0.1-bin-hadoop2.7/python/pyspark/broadcast.py\n",
            "spark-3.0.1-bin-hadoop2.7/python/pyspark/streaming/\n",
            "spark-3.0.1-bin-hadoop2.7/python/pyspark/streaming/util.py\n",
            "spark-3.0.1-bin-hadoop2.7/python/pyspark/streaming/listener.py\n",
            "spark-3.0.1-bin-hadoop2.7/python/pyspark/streaming/kinesis.py\n",
            "spark-3.0.1-bin-hadoop2.7/python/pyspark/streaming/context.py\n",
            "spark-3.0.1-bin-hadoop2.7/python/pyspark/streaming/dstream.py\n",
            "spark-3.0.1-bin-hadoop2.7/python/pyspark/streaming/__init__.py\n",
            "spark-3.0.1-bin-hadoop2.7/python/pyspark/streaming/tests/\n",
            "spark-3.0.1-bin-hadoop2.7/python/pyspark/streaming/tests/test_kinesis.py\n",
            "spark-3.0.1-bin-hadoop2.7/python/pyspark/streaming/tests/test_context.py\n",
            "spark-3.0.1-bin-hadoop2.7/python/pyspark/streaming/tests/test_dstream.py\n",
            "spark-3.0.1-bin-hadoop2.7/python/pyspark/streaming/tests/test_listener.py\n",
            "spark-3.0.1-bin-hadoop2.7/python/pyspark/streaming/tests/__init__.py\n",
            "spark-3.0.1-bin-hadoop2.7/python/pyspark/testing/\n",
            "spark-3.0.1-bin-hadoop2.7/python/pyspark/testing/mllibutils.py\n",
            "spark-3.0.1-bin-hadoop2.7/python/pyspark/testing/utils.py\n",
            "spark-3.0.1-bin-hadoop2.7/python/pyspark/testing/mlutils.py\n",
            "spark-3.0.1-bin-hadoop2.7/python/pyspark/testing/sqlutils.py\n",
            "spark-3.0.1-bin-hadoop2.7/python/pyspark/testing/streamingutils.py\n",
            "spark-3.0.1-bin-hadoop2.7/python/pyspark/testing/__init__.py\n",
            "spark-3.0.1-bin-hadoop2.7/python/pyspark/shell.py\n",
            "spark-3.0.1-bin-hadoop2.7/python/pyspark/heapq3.py\n",
            "spark-3.0.1-bin-hadoop2.7/python/pyspark/version.py\n",
            "spark-3.0.1-bin-hadoop2.7/python/pyspark/rddsampler.py\n",
            "spark-3.0.1-bin-hadoop2.7/python/pyspark/worker.py\n",
            "spark-3.0.1-bin-hadoop2.7/python/pyspark/cloudpickle.py\n",
            "spark-3.0.1-bin-hadoop2.7/python/pyspark/sql/\n",
            "spark-3.0.1-bin-hadoop2.7/python/pyspark/sql/functions.py\n",
            "spark-3.0.1-bin-hadoop2.7/python/pyspark/sql/column.py\n",
            "spark-3.0.1-bin-hadoop2.7/python/pyspark/sql/readwriter.py\n",
            "spark-3.0.1-bin-hadoop2.7/python/pyspark/sql/utils.py\n",
            "spark-3.0.1-bin-hadoop2.7/python/pyspark/sql/context.py\n",
            "spark-3.0.1-bin-hadoop2.7/python/pyspark/sql/avro/\n",
            "spark-3.0.1-bin-hadoop2.7/python/pyspark/sql/avro/functions.py\n",
            "spark-3.0.1-bin-hadoop2.7/python/pyspark/sql/avro/__init__.py\n",
            "spark-3.0.1-bin-hadoop2.7/python/pyspark/sql/window.py\n",
            "spark-3.0.1-bin-hadoop2.7/python/pyspark/sql/session.py\n",
            "spark-3.0.1-bin-hadoop2.7/python/pyspark/sql/types.py\n",
            "spark-3.0.1-bin-hadoop2.7/python/pyspark/sql/group.py\n",
            "spark-3.0.1-bin-hadoop2.7/python/pyspark/sql/dataframe.py\n",
            "spark-3.0.1-bin-hadoop2.7/python/pyspark/sql/catalog.py\n",
            "spark-3.0.1-bin-hadoop2.7/python/pyspark/sql/udf.py\n",
            "spark-3.0.1-bin-hadoop2.7/python/pyspark/sql/pandas/\n",
            "spark-3.0.1-bin-hadoop2.7/python/pyspark/sql/pandas/group_ops.py\n",
            "spark-3.0.1-bin-hadoop2.7/python/pyspark/sql/pandas/serializers.py\n",
            "spark-3.0.1-bin-hadoop2.7/python/pyspark/sql/pandas/functions.py\n",
            "spark-3.0.1-bin-hadoop2.7/python/pyspark/sql/pandas/utils.py\n",
            "spark-3.0.1-bin-hadoop2.7/python/pyspark/sql/pandas/typehints.py\n",
            "spark-3.0.1-bin-hadoop2.7/python/pyspark/sql/pandas/types.py\n",
            "spark-3.0.1-bin-hadoop2.7/python/pyspark/sql/pandas/conversion.py\n",
            "spark-3.0.1-bin-hadoop2.7/python/pyspark/sql/pandas/__init__.py\n",
            "spark-3.0.1-bin-hadoop2.7/python/pyspark/sql/pandas/map_ops.py\n",
            "spark-3.0.1-bin-hadoop2.7/python/pyspark/sql/__init__.py\n",
            "spark-3.0.1-bin-hadoop2.7/python/pyspark/sql/conf.py\n",
            "spark-3.0.1-bin-hadoop2.7/python/pyspark/sql/streaming.py\n",
            "spark-3.0.1-bin-hadoop2.7/python/pyspark/sql/tests/\n",
            "spark-3.0.1-bin-hadoop2.7/python/pyspark/sql/tests/test_column.py\n",
            "spark-3.0.1-bin-hadoop2.7/python/pyspark/sql/tests/test_arrow.py\n",
            "spark-3.0.1-bin-hadoop2.7/python/pyspark/sql/tests/test_conf.py\n",
            "spark-3.0.1-bin-hadoop2.7/python/pyspark/sql/tests/test_pandas_grouped_map.py\n",
            "spark-3.0.1-bin-hadoop2.7/python/pyspark/sql/tests/test_catalog.py\n",
            "spark-3.0.1-bin-hadoop2.7/python/pyspark/sql/tests/test_pandas_cogrouped_map.py\n",
            "spark-3.0.1-bin-hadoop2.7/python/pyspark/sql/tests/test_pandas_udf_typehints.py\n",
            "spark-3.0.1-bin-hadoop2.7/python/pyspark/sql/tests/test_serde.py\n",
            "spark-3.0.1-bin-hadoop2.7/python/pyspark/sql/tests/test_types.py\n",
            "spark-3.0.1-bin-hadoop2.7/python/pyspark/sql/tests/test_pandas_udf_scalar.py\n",
            "spark-3.0.1-bin-hadoop2.7/python/pyspark/sql/tests/test_utils.py\n",
            "spark-3.0.1-bin-hadoop2.7/python/pyspark/sql/tests/test_pandas_map.py\n",
            "spark-3.0.1-bin-hadoop2.7/python/pyspark/sql/tests/test_streaming.py\n",
            "spark-3.0.1-bin-hadoop2.7/python/pyspark/sql/tests/test_functions.py\n",
            "spark-3.0.1-bin-hadoop2.7/python/pyspark/sql/tests/test_context.py\n",
            "spark-3.0.1-bin-hadoop2.7/python/pyspark/sql/tests/test_group.py\n",
            "spark-3.0.1-bin-hadoop2.7/python/pyspark/sql/tests/test_datasources.py\n",
            "spark-3.0.1-bin-hadoop2.7/python/pyspark/sql/tests/test_readwriter.py\n",
            "spark-3.0.1-bin-hadoop2.7/python/pyspark/sql/tests/test_pandas_udf_window.py\n",
            "spark-3.0.1-bin-hadoop2.7/python/pyspark/sql/tests/test_udf.py\n",
            "spark-3.0.1-bin-hadoop2.7/python/pyspark/sql/tests/__init__.py\n",
            "spark-3.0.1-bin-hadoop2.7/python/pyspark/sql/tests/test_session.py\n",
            "spark-3.0.1-bin-hadoop2.7/python/pyspark/sql/tests/test_pandas_udf.py\n",
            "spark-3.0.1-bin-hadoop2.7/python/pyspark/sql/tests/test_pandas_udf_grouped_agg.py\n",
            "spark-3.0.1-bin-hadoop2.7/python/pyspark/sql/tests/test_dataframe.py\n",
            "spark-3.0.1-bin-hadoop2.7/python/pyspark/join.py\n",
            "spark-3.0.1-bin-hadoop2.7/python/pyspark/accumulators.py\n",
            "spark-3.0.1-bin-hadoop2.7/python/pyspark/resultiterable.py\n",
            "spark-3.0.1-bin-hadoop2.7/python/pyspark/profiler.py\n",
            "spark-3.0.1-bin-hadoop2.7/python/pyspark/taskcontext.py\n",
            "spark-3.0.1-bin-hadoop2.7/python/pyspark/storagelevel.py\n",
            "spark-3.0.1-bin-hadoop2.7/python/pyspark/traceback_utils.py\n",
            "spark-3.0.1-bin-hadoop2.7/python/pyspark/files.py\n",
            "spark-3.0.1-bin-hadoop2.7/python/pyspark/_globals.py\n",
            "spark-3.0.1-bin-hadoop2.7/python/pyspark/python/\n",
            "spark-3.0.1-bin-hadoop2.7/python/pyspark/python/pyspark/\n",
            "spark-3.0.1-bin-hadoop2.7/python/pyspark/python/pyspark/shell.py\n",
            "spark-3.0.1-bin-hadoop2.7/python/pyspark/shuffle.py\n",
            "spark-3.0.1-bin-hadoop2.7/python/pyspark/__init__.py\n",
            "spark-3.0.1-bin-hadoop2.7/python/pyspark/rdd.py\n",
            "spark-3.0.1-bin-hadoop2.7/python/pyspark/find_spark_home.py\n",
            "spark-3.0.1-bin-hadoop2.7/python/pyspark/conf.py\n",
            "spark-3.0.1-bin-hadoop2.7/python/pyspark/tests/\n",
            "spark-3.0.1-bin-hadoop2.7/python/pyspark/tests/test_taskcontext.py\n",
            "spark-3.0.1-bin-hadoop2.7/python/pyspark/tests/test_appsubmit.py\n",
            "spark-3.0.1-bin-hadoop2.7/python/pyspark/tests/test_util.py\n",
            "spark-3.0.1-bin-hadoop2.7/python/pyspark/tests/test_conf.py\n",
            "spark-3.0.1-bin-hadoop2.7/python/pyspark/tests/test_daemon.py\n",
            "spark-3.0.1-bin-hadoop2.7/python/pyspark/tests/test_pin_thread.py\n",
            "spark-3.0.1-bin-hadoop2.7/python/pyspark/tests/test_profiler.py\n",
            "spark-3.0.1-bin-hadoop2.7/python/pyspark/tests/test_shuffle.py\n",
            "spark-3.0.1-bin-hadoop2.7/python/pyspark/tests/test_readwrite.py\n",
            "spark-3.0.1-bin-hadoop2.7/python/pyspark/tests/test_serializers.py\n",
            "spark-3.0.1-bin-hadoop2.7/python/pyspark/tests/test_broadcast.py\n",
            "spark-3.0.1-bin-hadoop2.7/python/pyspark/tests/test_rddbarrier.py\n",
            "spark-3.0.1-bin-hadoop2.7/python/pyspark/tests/test_context.py\n",
            "spark-3.0.1-bin-hadoop2.7/python/pyspark/tests/test_join.py\n",
            "spark-3.0.1-bin-hadoop2.7/python/pyspark/tests/__init__.py\n",
            "spark-3.0.1-bin-hadoop2.7/python/pyspark/tests/test_worker.py\n",
            "spark-3.0.1-bin-hadoop2.7/python/pyspark/tests/test_rdd.py\n",
            "spark-3.0.1-bin-hadoop2.7/python/test_coverage/\n",
            "spark-3.0.1-bin-hadoop2.7/python/test_coverage/sitecustomize.py\n",
            "spark-3.0.1-bin-hadoop2.7/python/test_coverage/coverage_daemon.py\n",
            "spark-3.0.1-bin-hadoop2.7/python/test_coverage/conf/\n",
            "spark-3.0.1-bin-hadoop2.7/python/test_coverage/conf/spark-defaults.conf\n",
            "spark-3.0.1-bin-hadoop2.7/python/test_support/\n",
            "spark-3.0.1-bin-hadoop2.7/python/test_support/SimpleHTTPServer.py\n",
            "spark-3.0.1-bin-hadoop2.7/python/test_support/userlibrary.py\n",
            "spark-3.0.1-bin-hadoop2.7/python/test_support/userlib-0.1.zip\n",
            "spark-3.0.1-bin-hadoop2.7/python/test_support/sql/\n",
            "spark-3.0.1-bin-hadoop2.7/python/test_support/sql/streaming/\n",
            "spark-3.0.1-bin-hadoop2.7/python/test_support/sql/streaming/text-test.txt\n",
            "spark-3.0.1-bin-hadoop2.7/python/test_support/sql/people_array_utf16le.json\n",
            "spark-3.0.1-bin-hadoop2.7/python/test_support/sql/ages.csv\n",
            "spark-3.0.1-bin-hadoop2.7/python/test_support/sql/ages_newlines.csv\n",
            "spark-3.0.1-bin-hadoop2.7/python/test_support/sql/text-test.txt\n",
            "spark-3.0.1-bin-hadoop2.7/python/test_support/sql/people1.json\n",
            "spark-3.0.1-bin-hadoop2.7/python/test_support/sql/orc_partitioned/\n",
            "spark-3.0.1-bin-hadoop2.7/python/test_support/sql/orc_partitioned/b=0/\n",
            "spark-3.0.1-bin-hadoop2.7/python/test_support/sql/orc_partitioned/b=0/c=0/\n",
            "spark-3.0.1-bin-hadoop2.7/python/test_support/sql/orc_partitioned/b=0/c=0/.part-r-00000-829af031-b970-49d6-ad39-30460a0be2c8.orc.crc\n",
            "spark-3.0.1-bin-hadoop2.7/python/test_support/sql/orc_partitioned/b=0/c=0/part-r-00000-829af031-b970-49d6-ad39-30460a0be2c8.orc\n",
            "spark-3.0.1-bin-hadoop2.7/python/test_support/sql/orc_partitioned/_SUCCESS\n",
            "spark-3.0.1-bin-hadoop2.7/python/test_support/sql/orc_partitioned/b=1/\n",
            "spark-3.0.1-bin-hadoop2.7/python/test_support/sql/orc_partitioned/b=1/c=1/\n",
            "spark-3.0.1-bin-hadoop2.7/python/test_support/sql/orc_partitioned/b=1/c=1/.part-r-00000-829af031-b970-49d6-ad39-30460a0be2c8.orc.crc\n",
            "spark-3.0.1-bin-hadoop2.7/python/test_support/sql/orc_partitioned/b=1/c=1/part-r-00000-829af031-b970-49d6-ad39-30460a0be2c8.orc\n",
            "spark-3.0.1-bin-hadoop2.7/python/test_support/sql/parquet_partitioned/\n",
            "spark-3.0.1-bin-hadoop2.7/python/test_support/sql/parquet_partitioned/_metadata\n",
            "spark-3.0.1-bin-hadoop2.7/python/test_support/sql/parquet_partitioned/_SUCCESS\n",
            "spark-3.0.1-bin-hadoop2.7/python/test_support/sql/parquet_partitioned/year=2015/\n",
            "spark-3.0.1-bin-hadoop2.7/python/test_support/sql/parquet_partitioned/year=2015/month=10/\n",
            "spark-3.0.1-bin-hadoop2.7/python/test_support/sql/parquet_partitioned/year=2015/month=10/day=26/\n",
            "spark-3.0.1-bin-hadoop2.7/python/test_support/sql/parquet_partitioned/year=2015/month=10/day=26/.part-r-00005.gz.parquet.crc\n",
            "spark-3.0.1-bin-hadoop2.7/python/test_support/sql/parquet_partitioned/year=2015/month=10/day=26/part-r-00005.gz.parquet\n",
            "spark-3.0.1-bin-hadoop2.7/python/test_support/sql/parquet_partitioned/year=2015/month=10/day=25/\n",
            "spark-3.0.1-bin-hadoop2.7/python/test_support/sql/parquet_partitioned/year=2015/month=10/day=25/.part-r-00004.gz.parquet.crc\n",
            "spark-3.0.1-bin-hadoop2.7/python/test_support/sql/parquet_partitioned/year=2015/month=10/day=25/part-r-00002.gz.parquet\n",
            "spark-3.0.1-bin-hadoop2.7/python/test_support/sql/parquet_partitioned/year=2015/month=10/day=25/.part-r-00002.gz.parquet.crc\n",
            "spark-3.0.1-bin-hadoop2.7/python/test_support/sql/parquet_partitioned/year=2015/month=10/day=25/part-r-00004.gz.parquet\n",
            "spark-3.0.1-bin-hadoop2.7/python/test_support/sql/parquet_partitioned/year=2015/month=9/\n",
            "spark-3.0.1-bin-hadoop2.7/python/test_support/sql/parquet_partitioned/year=2015/month=9/day=1/\n",
            "spark-3.0.1-bin-hadoop2.7/python/test_support/sql/parquet_partitioned/year=2015/month=9/day=1/.part-r-00007.gz.parquet.crc\n",
            "spark-3.0.1-bin-hadoop2.7/python/test_support/sql/parquet_partitioned/year=2015/month=9/day=1/part-r-00007.gz.parquet\n",
            "spark-3.0.1-bin-hadoop2.7/python/test_support/sql/parquet_partitioned/_common_metadata\n",
            "spark-3.0.1-bin-hadoop2.7/python/test_support/sql/parquet_partitioned/year=2014/\n",
            "spark-3.0.1-bin-hadoop2.7/python/test_support/sql/parquet_partitioned/year=2014/month=9/\n",
            "spark-3.0.1-bin-hadoop2.7/python/test_support/sql/parquet_partitioned/year=2014/month=9/day=1/\n",
            "spark-3.0.1-bin-hadoop2.7/python/test_support/sql/parquet_partitioned/year=2014/month=9/day=1/.part-r-00008.gz.parquet.crc\n",
            "spark-3.0.1-bin-hadoop2.7/python/test_support/sql/parquet_partitioned/year=2014/month=9/day=1/part-r-00008.gz.parquet\n",
            "spark-3.0.1-bin-hadoop2.7/python/test_support/sql/people_array.json\n",
            "spark-3.0.1-bin-hadoop2.7/python/test_support/sql/people.json\n",
            "spark-3.0.1-bin-hadoop2.7/python/test_support/hello/\n",
            "spark-3.0.1-bin-hadoop2.7/python/test_support/hello/hello.txt\n",
            "spark-3.0.1-bin-hadoop2.7/python/test_support/hello/sub_hello/\n",
            "spark-3.0.1-bin-hadoop2.7/python/test_support/hello/sub_hello/sub_hello.txt\n",
            "spark-3.0.1-bin-hadoop2.7/python/README.md\n",
            "spark-3.0.1-bin-hadoop2.7/python/run-tests-with-coverage\n",
            "spark-3.0.1-bin-hadoop2.7/python/MANIFEST.in\n",
            "spark-3.0.1-bin-hadoop2.7/python/.coveragerc\n",
            "spark-3.0.1-bin-hadoop2.7/python/docs/\n",
            "spark-3.0.1-bin-hadoop2.7/python/docs/pyspark.mllib.rst\n",
            "spark-3.0.1-bin-hadoop2.7/python/docs/index.rst\n",
            "spark-3.0.1-bin-hadoop2.7/python/docs/pyspark.sql.rst\n",
            "spark-3.0.1-bin-hadoop2.7/python/docs/_static/\n",
            "spark-3.0.1-bin-hadoop2.7/python/docs/_static/pyspark.css\n",
            "spark-3.0.1-bin-hadoop2.7/python/docs/_static/copybutton.js\n",
            "spark-3.0.1-bin-hadoop2.7/python/docs/_static/pyspark.js\n",
            "spark-3.0.1-bin-hadoop2.7/python/docs/make.bat\n",
            "spark-3.0.1-bin-hadoop2.7/python/docs/pyspark.resource.rst\n",
            "spark-3.0.1-bin-hadoop2.7/python/docs/pyspark.rst\n",
            "spark-3.0.1-bin-hadoop2.7/python/docs/make2.bat\n",
            "spark-3.0.1-bin-hadoop2.7/python/docs/_templates/\n",
            "spark-3.0.1-bin-hadoop2.7/python/docs/_templates/layout.html\n",
            "spark-3.0.1-bin-hadoop2.7/python/docs/pyspark.streaming.rst\n",
            "spark-3.0.1-bin-hadoop2.7/python/docs/Makefile\n",
            "spark-3.0.1-bin-hadoop2.7/python/docs/conf.py\n",
            "spark-3.0.1-bin-hadoop2.7/python/docs/pyspark.ml.rst\n",
            "spark-3.0.1-bin-hadoop2.7/python/lib/\n",
            "spark-3.0.1-bin-hadoop2.7/python/lib/py4j-0.10.9-src.zip\n",
            "spark-3.0.1-bin-hadoop2.7/python/lib/pyspark.zip\n",
            "spark-3.0.1-bin-hadoop2.7/python/lib/PY4J_LICENSE.txt\n",
            "spark-3.0.1-bin-hadoop2.7/python/run-tests.py\n",
            "spark-3.0.1-bin-hadoop2.7/python/pylintrc\n",
            "spark-3.0.1-bin-hadoop2.7/python/run-tests\n",
            "spark-3.0.1-bin-hadoop2.7/python/pyspark.egg-info/\n",
            "spark-3.0.1-bin-hadoop2.7/python/pyspark.egg-info/dependency_links.txt\n",
            "spark-3.0.1-bin-hadoop2.7/python/pyspark.egg-info/requires.txt\n",
            "spark-3.0.1-bin-hadoop2.7/python/pyspark.egg-info/PKG-INFO\n",
            "spark-3.0.1-bin-hadoop2.7/python/pyspark.egg-info/SOURCES.txt\n",
            "spark-3.0.1-bin-hadoop2.7/python/pyspark.egg-info/top_level.txt\n",
            "spark-3.0.1-bin-hadoop2.7/python/setup.cfg\n",
            "spark-3.0.1-bin-hadoop2.7/python/dist/\n",
            "spark-3.0.1-bin-hadoop2.7/python/.gitignore\n",
            "spark-3.0.1-bin-hadoop2.7/conf/\n",
            "spark-3.0.1-bin-hadoop2.7/conf/fairscheduler.xml.template\n",
            "spark-3.0.1-bin-hadoop2.7/conf/log4j.properties.template\n",
            "spark-3.0.1-bin-hadoop2.7/conf/spark-defaults.conf.template\n",
            "spark-3.0.1-bin-hadoop2.7/conf/metrics.properties.template\n",
            "spark-3.0.1-bin-hadoop2.7/conf/spark-env.sh.template\n",
            "spark-3.0.1-bin-hadoop2.7/conf/slaves.template\n"
          ],
          "name": "stdout"
        }
      ]
    },
    {
      "cell_type": "code",
      "metadata": {
        "id": "wpUEmGrTnTAA",
        "colab": {
          "base_uri": "https://localhost:8080/"
        },
        "outputId": "fe4d9545-07e3-4f98-cafc-85ed142c23c7"
      },
      "source": [
        "!ls /content/spark-3.0.1-bin-hadoop2.7\n",
        "\n",
        "!pip install findspark"
      ],
      "execution_count": null,
      "outputs": [
        {
          "output_type": "stream",
          "text": [
            "bin   data\tjars\t    LICENSE   NOTICE  R\t\t RELEASE  yarn\n",
            "conf  examples\tkubernetes  licenses  python  README.md  sbin\n",
            "Requirement already satisfied: findspark in /usr/local/lib/python3.6/dist-packages (1.4.2)\n"
          ],
          "name": "stdout"
        }
      ]
    },
    {
      "cell_type": "code",
      "metadata": {
        "id": "or9HQeRNnZvf"
      },
      "source": [
        "import os \n",
        "os.environ[\"SPARK_HOME\"] = \"/content/spark-3.0.1-bin-hadoop2.7\"\n",
        "\n",
        "import findspark\n",
        "findspark.init()\n"
      ],
      "execution_count": null,
      "outputs": []
    },
    {
      "cell_type": "code",
      "metadata": {
        "id": "rygBdn8VndU6"
      },
      "source": [
        "from pyspark.sql import SparkSession\n",
        "spark =SparkSession.builder.appName(\"PySpark 3.0 on Google Colab\").getOrCreate()"
      ],
      "execution_count": null,
      "outputs": []
    },
    {
      "cell_type": "code",
      "metadata": {
        "id": "R2oU4IiGng0n"
      },
      "source": [
        "from pyspark import SparkConf, SparkContext\n",
        "from pyspark.sql import SQLContext, Row"
      ],
      "execution_count": null,
      "outputs": []
    },
    {
      "cell_type": "code",
      "metadata": {
        "id": "EqchUL0cnkNK"
      },
      "source": [
        "import os\n",
        "import math\n",
        "import itertools\n",
        "import multiprocessing\n",
        "import pandas\n",
        "import numpy as np\n",
        "import pandas as pd\n",
        "import matplotlib.pyplot as plt\n",
        "import seaborn as sns\n",
        "from time import time\n",
        "from collections import OrderedDict\n",
        "%matplotlib inline\n",
        "gt0 = time()"
      ],
      "execution_count": null,
      "outputs": []
    },
    {
      "cell_type": "code",
      "metadata": {
        "id": "nCkK_3sbnqxf"
      },
      "source": [
        "conf = SparkConf()\\\n",
        "    .setMaster(f\"local[{multiprocessing.cpu_count()}]\")\\\n",
        "    .setAppName(\"PySpark NSL-KDD\")\\\n",
        "    .setAll([(\"spark.driver.memory\", \"8g\"), (\"spark.default.parallelism\", f\"{multiprocessing.cpu_count()}\")])\n",
        "\n",
        "# Creating local SparkContext with specified SparkConf and creating SQLContext based on it\n",
        "sc = SparkContext.getOrCreate(conf=conf)\n",
        "sc.setLogLevel('INFO')\n",
        "sqlContext = SQLContext(sc)"
      ],
      "execution_count": null,
      "outputs": []
    },
    {
      "cell_type": "markdown",
      "metadata": {
        "id": "66UL41EOQS4E"
      },
      "source": [
        "DATA LOADING"
      ]
    },
    {
      "cell_type": "code",
      "metadata": {
        "id": "dnfmzCcMoDEZ"
      },
      "source": [
        "from pyspark.sql.types import *\n",
        "from pyspark.sql.functions import udf, split, col\n",
        "import pyspark.sql.functions as sql\n",
        "train20_nsl_kdd_dataset_path = os.path.join(\"NSL_KDD_Dataset\", \"/content/KDDTrain+_20Percent.txt\")\n",
        "train_nsl_kdd_dataset_path = os.path.join(\"NSL_KDD_Dataset\", \"/content/KDDTrain+.txt\")\n",
        "test_nsl_kdd_dataset_path = os.path.join(\"NSL_KDD_Dataset\", \"/content/KDDTest+.txt\")\n",
        "col_names = np.array([\"duration\",\"protocol_type\",\"service\",\"flag\",\"src_bytes\",\n",
        "    \"dst_bytes\",\"land\",\"wrong_fragment\",\"urgent\",\"hot\",\"num_failed_logins\",\n",
        "    \"logged_in\",\"num_compromised\",\"root_shell\",\"su_attempted\",\"num_root\",\n",
        "    \"num_file_creations\",\"num_shells\",\"num_access_files\",\"num_outbound_cmds\",\n",
        "    \"is_host_login\",\"is_guest_login\",\"count\",\"srv_count\",\"serror_rate\",\n",
        "    \"srv_serror_rate\",\"rerror_rate\",\"srv_rerror_rate\",\"same_srv_rate\",\n",
        "    \"diff_srv_rate\",\"srv_diff_host_rate\",\"dst_host_count\",\"dst_host_srv_count\",\n",
        "    \"dst_host_same_srv_rate\",\"dst_host_diff_srv_rate\",\"dst_host_same_src_port_rate\",\n",
        "    \"dst_host_srv_diff_host_rate\",\"dst_host_serror_rate\",\"dst_host_srv_serror_rate\",\n",
        "    \"dst_host_rerror_rate\",\"dst_host_srv_rerror_rate\",\"labels\"])\n",
        "\n",
        "nominal_inx = [1, 2, 3]\n",
        "binary_inx = [6, 11, 13, 14, 20, 21]\n",
        "numeric_inx = list(set(range(41)).difference(nominal_inx).difference(binary_inx))\n",
        "\n",
        "nominal_cols = col_names[nominal_inx].tolist()\n",
        "binary_cols = col_names[binary_inx].tolist()\n",
        "numeric_cols = col_names[numeric_inx].tolist()"
      ],
      "execution_count": null,
      "outputs": []
    },
    {
      "cell_type": "code",
      "metadata": {
        "id": "IUSHt39ZoH3Z"
      },
      "source": [
        "def load_dataset(path):\n",
        "    dataset_rdd = sc.textFile(path, 8).map(lambda line: line.split(','))\n",
        "    dataset_df = (dataset_rdd.toDF(col_names.tolist()).select(\n",
        "                    col('duration').cast(DoubleType()),\n",
        "                    col('protocol_type').cast(StringType()),\n",
        "                    col('service').cast(StringType()),\n",
        "                    col('flag').cast(StringType()),\n",
        "                    col('src_bytes').cast(DoubleType()),\n",
        "                    col('dst_bytes').cast(DoubleType()),\n",
        "                    col('land').cast(DoubleType()),\n",
        "                    col('wrong_fragment').cast(DoubleType()),\n",
        "                    col('urgent').cast(DoubleType()),\n",
        "                    col('hot').cast(DoubleType()),\n",
        "                    col('num_failed_logins').cast(DoubleType()),\n",
        "                    col('logged_in').cast(DoubleType()),\n",
        "                    col('num_compromised').cast(DoubleType()),\n",
        "                    col('root_shell').cast(DoubleType()),\n",
        "                    col('su_attempted').cast(DoubleType()),\n",
        "                    col('num_root').cast(DoubleType()),\n",
        "                    col('num_file_creations').cast(DoubleType()),\n",
        "                    col('num_shells').cast(DoubleType()),\n",
        "                    col('num_access_files').cast(DoubleType()),\n",
        "                    col('num_outbound_cmds').cast(DoubleType()),\n",
        "                    col('is_host_login').cast(DoubleType()),\n",
        "                    col('is_guest_login').cast(DoubleType()),\n",
        "                    col('count').cast(DoubleType()),\n",
        "                    col('srv_count').cast(DoubleType()),\n",
        "                    col('serror_rate').cast(DoubleType()),\n",
        "                    col('srv_serror_rate').cast(DoubleType()),\n",
        "                    col('rerror_rate').cast(DoubleType()),\n",
        "                    col('srv_rerror_rate').cast(DoubleType()),\n",
        "                    col('same_srv_rate').cast(DoubleType()),\n",
        "                    col('diff_srv_rate').cast(DoubleType()),\n",
        "                    col('srv_diff_host_rate').cast(DoubleType()),\n",
        "                    col('dst_host_count').cast(DoubleType()),\n",
        "                    col('dst_host_srv_count').cast(DoubleType()),\n",
        "                    col('dst_host_same_srv_rate').cast(DoubleType()),\n",
        "                    col('dst_host_diff_srv_rate').cast(DoubleType()),\n",
        "                    col('dst_host_same_src_port_rate').cast(DoubleType()),\n",
        "                    col('dst_host_srv_diff_host_rate').cast(DoubleType()),\n",
        "                    col('dst_host_serror_rate').cast(DoubleType()),\n",
        "                    col('dst_host_srv_serror_rate').cast(DoubleType()),\n",
        "                    col('dst_host_rerror_rate').cast(DoubleType()),\n",
        "                    col('dst_host_srv_rerror_rate').cast(DoubleType()),\n",
        "                    col('labels').cast(StringType())))\n",
        "\n",
        "    return dataset_df"
      ],
      "execution_count": null,
      "outputs": []
    },
    {
      "cell_type": "code",
      "metadata": {
        "id": "BzyZhsRqoQaj"
      },
      "source": [
        "from pyspark.ml import Pipeline, Transformer\n",
        "from pyspark.ml.feature import StringIndexer\n",
        "from pyspark import keyword_only\n",
        "from pyspark.ml.param.shared import HasInputCol, HasOutputCol, Param\n",
        "\n",
        "# Dictionary that contains mapping of various attacks to the four main categories\n",
        "attack_dict = {\n",
        "    'normal': 'normal',\n",
        "    \n",
        "    'back': 'DoS',\n",
        "    'land': 'DoS',\n",
        "    'neptune': 'DoS',\n",
        "    'pod': 'DoS',\n",
        "    'smurf': 'DoS',\n",
        "    'teardrop': 'DoS',\n",
        "    'mailbomb': 'DoS',\n",
        "    'apache2': 'DoS',\n",
        "    'processtable': 'DoS',\n",
        "    'udpstorm': 'DoS',\n",
        "    \n",
        "    'ipsweep': 'Probe',\n",
        "    'nmap': 'Probe',\n",
        "    'portsweep': 'Probe',\n",
        "    'satan': 'Probe',\n",
        "    'mscan': 'Probe',\n",
        "    'saint': 'Probe',\n",
        "\n",
        "    'ftp_write': 'R2L',\n",
        "    'guess_passwd': 'R2L',\n",
        "    'imap': 'R2L',\n",
        "    'multihop': 'R2L',\n",
        "    'phf': 'R2L',\n",
        "    'spy': 'R2L',\n",
        "    'warezclient': 'R2L',\n",
        "    'warezmaster': 'R2L',\n",
        "    'sendmail': 'R2L',\n",
        "    'named': 'R2L',\n",
        "    'snmpgetattack': 'R2L',\n",
        "    'snmpguess': 'R2L',\n",
        "    'xlock': 'R2L',\n",
        "    'xsnoop': 'R2L',\n",
        "    'worm': 'R2L',\n",
        "    \n",
        "    'buffer_overflow': 'U2R',\n",
        "    'loadmodule': 'U2R',\n",
        "    'perl': 'U2R',\n",
        "    'rootkit': 'U2R',\n",
        "    'httptunnel': 'U2R',\n",
        "    'ps': 'U2R',    \n",
        "    'sqlattack': 'U2R',\n",
        "    'xterm': 'U2R'\n",
        "}\n",
        "\n",
        "attack_mapping_udf = udf(lambda v: attack_dict[v])\n",
        "\n",
        "class Labels2Converter(Transformer):\n",
        "\n",
        "    @keyword_only\n",
        "    def __init__(self):\n",
        "        super(Labels2Converter, self).__init__()\n",
        "\n",
        "    def _transform(self, dataset):\n",
        "        return dataset.withColumn('labels2', sql.regexp_replace(col('labels'), '^(?!normal).*$', 'attack'))\n",
        "     \n",
        "class Labels5Converter(Transformer):\n",
        "    \n",
        "    @keyword_only\n",
        "    def __init__(self):\n",
        "        super(Labels5Converter, self).__init__()\n",
        "\n",
        "    def _transform(self, dataset):\n",
        "        return dataset.withColumn('labels5', attack_mapping_udf(col('labels')))\n",
        "    \n",
        "labels2_indexer = StringIndexer(inputCol=\"labels2\", outputCol=\"labels2_index\")\n",
        "labels5_indexer = StringIndexer(inputCol=\"labels5\", outputCol=\"labels5_index\")\n",
        "\n",
        "labels_mapping_pipeline = Pipeline(stages=[Labels2Converter(), Labels5Converter(), labels2_indexer, labels5_indexer])\n",
        "\n",
        "labels2 = ['normal', 'attack']\n",
        "labels5 = ['normal', 'DoS', 'Probe', 'R2L', 'U2R']\n",
        "labels_col = 'labels2_index'"
      ],
      "execution_count": null,
      "outputs": []
    },
    {
      "cell_type": "code",
      "metadata": {
        "id": "awwXK95EoeiD",
        "colab": {
          "base_uri": "https://localhost:8080/"
        },
        "outputId": "f660d827-b2b9-43c3-c13e-c68d9edec348"
      },
      "source": [
        "# Loading train data\n",
        "t0 = time()\n",
        "train_df = load_dataset(train_nsl_kdd_dataset_path)\n",
        "\n",
        "# Fitting preparation pipeline\n",
        "labels_mapping_model = labels_mapping_pipeline.fit(train_df)\n",
        "\n",
        "# Transforming labels column and adding id column\n",
        "train_df = labels_mapping_model.transform(train_df).withColumn('id', sql.monotonically_increasing_id())\n",
        "\n",
        "train_df = train_df.cache()\n",
        "print(f\"Number of examples in train set: {train_df.count()}\")\n",
        "print(f\"Time: {time() - t0:.2f}s\")"
      ],
      "execution_count": null,
      "outputs": [
        {
          "output_type": "stream",
          "text": [
            "Number of examples in train set: 125973\n",
            "Time: 13.39s\n"
          ],
          "name": "stdout"
        }
      ]
    },
    {
      "cell_type": "code",
      "metadata": {
        "id": "j_VNZUU-qGzM",
        "colab": {
          "base_uri": "https://localhost:8080/"
        },
        "outputId": "0c8e9b40-69f9-4782-b230-a07103a34f59"
      },
      "source": [
        "# Loading test data\n",
        "t0 = time()\n",
        "test_df = load_dataset(test_nsl_kdd_dataset_path)\n",
        "\n",
        "# Transforming labels column and adding id column\n",
        "test_df = labels_mapping_model.transform(test_df).withColumn('id', sql.monotonically_increasing_id())\n",
        "\n",
        "test_df = test_df.cache()\n",
        "print(f\"Number of examples in test set: {test_df.count()}\")\n",
        "print(f\"Time: {time() - t0:.2f}s\")"
      ],
      "execution_count": null,
      "outputs": [
        {
          "output_type": "stream",
          "text": [
            "Number of examples in test set: 22544\n",
            "Time: 2.62s\n"
          ],
          "name": "stdout"
        }
      ]
    },
    {
      "cell_type": "markdown",
      "metadata": {
        "id": "fuTV46qaQfs7"
      },
      "source": [
        "EXPLORATORY DATA ANALYSIS"
      ]
    },
    {
      "cell_type": "code",
      "metadata": {
        "id": "Z9KLUEt-qSqE",
        "colab": {
          "base_uri": "https://localhost:8080/"
        },
        "outputId": "9bb411dd-0769-4bce-bf4e-c0fd0d21f26e"
      },
      "source": [
        "# Labels columns\n",
        "(train_df.groupby('labels2').count().show())\n",
        "(train_df.groupby('labels5').count().sort(sql.desc('count')).show())"
      ],
      "execution_count": null,
      "outputs": [
        {
          "output_type": "stream",
          "text": [
            "+-------+-----+\n",
            "|labels2|count|\n",
            "+-------+-----+\n",
            "| normal|67343|\n",
            "| attack|58630|\n",
            "+-------+-----+\n",
            "\n",
            "+-------+-----+\n",
            "|labels5|count|\n",
            "+-------+-----+\n",
            "| normal|67343|\n",
            "|    DoS|45927|\n",
            "|  Probe|11656|\n",
            "|    R2L|  995|\n",
            "|    U2R|   52|\n",
            "+-------+-----+\n",
            "\n"
          ],
          "name": "stdout"
        }
      ]
    },
    {
      "cell_type": "code",
      "metadata": {
        "id": "qsijlssAqYqA",
        "colab": {
          "base_uri": "https://localhost:8080/"
        },
        "outputId": "b66750b4-f70e-47ea-b8bc-60ddc626ae6d"
      },
      "source": [
        "(test_df.groupby('labels2').count().show())\n",
        "(test_df.groupby('labels5').count().sort(sql.desc('count')).show())"
      ],
      "execution_count": null,
      "outputs": [
        {
          "output_type": "stream",
          "text": [
            "+-------+-----+\n",
            "|labels2|count|\n",
            "+-------+-----+\n",
            "| normal| 9711|\n",
            "| attack|12833|\n",
            "+-------+-----+\n",
            "\n",
            "+-------+-----+\n",
            "|labels5|count|\n",
            "+-------+-----+\n",
            "| normal| 9711|\n",
            "|    DoS| 7458|\n",
            "|    R2L| 2754|\n",
            "|  Probe| 2421|\n",
            "|    U2R|  200|\n",
            "+-------+-----+\n",
            "\n"
          ],
          "name": "stdout"
        }
      ]
    },
    {
      "cell_type": "code",
      "metadata": {
        "id": "qpwT2WJmqeor",
        "colab": {
          "base_uri": "https://localhost:8080/"
        },
        "outputId": "4803adb6-1b2b-4c1d-eb26-621248268243"
      },
      "source": [
        "# 'protocol_type' nominal column\n",
        "(train_df.crosstab(nominal_cols[0], 'labels2').sort(sql.asc(nominal_cols[0] + '_labels2')).show())\n",
        "(train_df.crosstab(nominal_cols[0], 'labels5').sort(sql.asc(nominal_cols[0] + '_labels5')).show())"
      ],
      "execution_count": null,
      "outputs": [
        {
          "output_type": "stream",
          "text": [
            "+---------------------+------+------+\n",
            "|protocol_type_labels2|attack|normal|\n",
            "+---------------------+------+------+\n",
            "|                 icmp|  6982|  1309|\n",
            "|                  tcp| 49089| 53600|\n",
            "|                  udp|  2559| 12434|\n",
            "+---------------------+------+------+\n",
            "\n",
            "+---------------------+-----+-----+---+---+------+\n",
            "|protocol_type_labels5|  DoS|Probe|R2L|U2R|normal|\n",
            "+---------------------+-----+-----+---+---+------+\n",
            "|                 icmp| 2847| 4135|  0|  0|  1309|\n",
            "|                  tcp|42188| 5857|995| 49| 53600|\n",
            "|                  udp|  892| 1664|  0|  3| 12434|\n",
            "+---------------------+-----+-----+---+---+------+\n",
            "\n"
          ],
          "name": "stdout"
        }
      ]
    },
    {
      "cell_type": "code",
      "metadata": {
        "id": "83Ibhd6xqnVZ",
        "colab": {
          "base_uri": "https://localhost:8080/"
        },
        "outputId": "0c523d09-1b5e-469c-af58-53a04352435d"
      },
      "source": [
        "# 'service' nominal column\n",
        "print(train_df.select(nominal_cols[1]).distinct().count())\n",
        "(train_df.crosstab(nominal_cols[1], 'labels2').sort(sql.asc(nominal_cols[1] + '_labels2')).show(n=70))\n",
        "(train_df.crosstab(nominal_cols[1], 'labels5').sort(sql.asc(nominal_cols[1] + '_labels5')).show(n=70))"
      ],
      "execution_count": null,
      "outputs": [
        {
          "output_type": "stream",
          "text": [
            "70\n",
            "+---------------+------+------+\n",
            "|service_labels2|attack|normal|\n",
            "+---------------+------+------+\n",
            "|            IRC|     1|   186|\n",
            "|            X11|     6|    67|\n",
            "|         Z39_50|   862|     0|\n",
            "|            aol|     2|     0|\n",
            "|           auth|   719|   236|\n",
            "|            bgp|   710|     0|\n",
            "|        courier|   734|     0|\n",
            "|       csnet_ns|   545|     0|\n",
            "|            ctf|   563|     0|\n",
            "|        daytime|   521|     0|\n",
            "|        discard|   538|     0|\n",
            "|         domain|   531|    38|\n",
            "|       domain_u|     9|  9034|\n",
            "|           echo|   434|     0|\n",
            "|          eco_i|  4089|   497|\n",
            "|          ecr_i|  2887|   190|\n",
            "|            efs|   485|     0|\n",
            "|           exec|   474|     0|\n",
            "|         finger|  1222|   545|\n",
            "|            ftp|   836|   918|\n",
            "|       ftp_data|  1876|  4984|\n",
            "|         gopher|   518|     0|\n",
            "|        harvest|     2|     0|\n",
            "|      hostnames|   460|     0|\n",
            "|           http|  2289| 38049|\n",
            "|      http_2784|     1|     0|\n",
            "|       http_443|   530|     0|\n",
            "|      http_8001|     2|     0|\n",
            "|          imap4|   644|     3|\n",
            "|       iso_tsap|   687|     0|\n",
            "|         klogin|   433|     0|\n",
            "|         kshell|   299|     0|\n",
            "|           ldap|   410|     0|\n",
            "|           link|   475|     0|\n",
            "|          login|   429|     0|\n",
            "|            mtp|   439|     0|\n",
            "|           name|   451|     0|\n",
            "|    netbios_dgm|   405|     0|\n",
            "|     netbios_ns|   347|     0|\n",
            "|    netbios_ssn|   362|     0|\n",
            "|        netstat|   360|     0|\n",
            "|           nnsp|   630|     0|\n",
            "|           nntp|   296|     0|\n",
            "|          ntp_u|     0|   168|\n",
            "|          other|  1755|  2604|\n",
            "|        pm_dump|     5|     0|\n",
            "|          pop_2|    78|     0|\n",
            "|          pop_3|    78|   186|\n",
            "|        printer|    69|     0|\n",
            "|        private| 20871|   982|\n",
            "|          red_i|     0|     8|\n",
            "|     remote_job|    78|     0|\n",
            "|            rje|    86|     0|\n",
            "|          shell|    61|     4|\n",
            "|           smtp|   284|  7029|\n",
            "|        sql_net|   245|     0|\n",
            "|            ssh|   306|     5|\n",
            "|         sunrpc|   381|     0|\n",
            "|         supdup|   544|     0|\n",
            "|         systat|   477|     0|\n",
            "|         telnet|  1436|   917|\n",
            "|         tftp_u|     0|     3|\n",
            "|          tim_i|     3|     5|\n",
            "|           time|   578|    76|\n",
            "|          urh_i|     0|    10|\n",
            "|          urp_i|     3|   599|\n",
            "|           uucp|   780|     0|\n",
            "|      uucp_path|   689|     0|\n",
            "|          vmnet|   617|     0|\n",
            "|          whois|   693|     0|\n",
            "+---------------+------+------+\n",
            "\n",
            "+---------------+-----+-----+---+---+------+\n",
            "|service_labels5|  DoS|Probe|R2L|U2R|normal|\n",
            "+---------------+-----+-----+---+---+------+\n",
            "|            IRC|    0|    1|  0|  0|   186|\n",
            "|            X11|    0|    6|  0|  0|    67|\n",
            "|         Z39_50|  851|   11|  0|  0|     0|\n",
            "|            aol|    0|    2|  0|  0|     0|\n",
            "|           auth|  703|   16|  0|  0|   236|\n",
            "|            bgp|  699|   11|  0|  0|     0|\n",
            "|        courier|  726|    8|  0|  0|     0|\n",
            "|       csnet_ns|  533|   12|  0|  0|     0|\n",
            "|            ctf|  538|   25|  0|  0|     0|\n",
            "|        daytime|  503|   18|  0|  0|     0|\n",
            "|        discard|  520|   18|  0|  0|     0|\n",
            "|         domain|  508|   23|  0|  0|    38|\n",
            "|       domain_u|    0|    9|  0|  0|  9034|\n",
            "|           echo|  416|   18|  0|  0|     0|\n",
            "|          eco_i|    0| 4089|  0|  0|   497|\n",
            "|          ecr_i| 2844|   43|  0|  0|   190|\n",
            "|            efs|  478|    7|  0|  0|     0|\n",
            "|           exec|  465|    9|  0|  0|     0|\n",
            "|         finger| 1168|   54|  0|  0|   545|\n",
            "|            ftp|  489|   32|312|  3|   918|\n",
            "|       ftp_data| 1209|   51|604| 12|  4984|\n",
            "|         gopher|  485|   33|  0|  0|     0|\n",
            "|        harvest|    0|    2|  0|  0|     0|\n",
            "|      hostnames|  447|   13|  0|  0|     0|\n",
            "|           http| 2255|   30|  4|  0| 38049|\n",
            "|      http_2784|    0|    1|  0|  0|     0|\n",
            "|       http_443|  523|    7|  0|  0|     0|\n",
            "|      http_8001|    0|    2|  0|  0|     0|\n",
            "|          imap4|  622|   11| 11|  0|     3|\n",
            "|       iso_tsap|  675|   12|  0|  0|     0|\n",
            "|         klogin|  425|    8|  0|  0|     0|\n",
            "|         kshell|  292|    7|  0|  0|     0|\n",
            "|           ldap|  403|    7|  0|  0|     0|\n",
            "|           link|  454|   21|  0|  0|     0|\n",
            "|          login|  420|    7|  2|  0|     0|\n",
            "|            mtp|  416|   23|  0|  0|     0|\n",
            "|           name|  428|   23|  0|  0|     0|\n",
            "|    netbios_dgm|  392|   13|  0|  0|     0|\n",
            "|     netbios_ns|  336|   11|  0|  0|     0|\n",
            "|    netbios_ssn|  349|   13|  0|  0|     0|\n",
            "|        netstat|  344|   16|  0|  0|     0|\n",
            "|           nnsp|  622|    8|  0|  0|     0|\n",
            "|           nntp|  281|   15|  0|  0|     0|\n",
            "|          ntp_u|    0|    0|  0|  0|   168|\n",
            "|          other|   58| 1689|  5|  3|  2604|\n",
            "|        pm_dump|    0|    5|  0|  0|     0|\n",
            "|          pop_2|   70|    8|  0|  0|     0|\n",
            "|          pop_3|   67|   11|  0|  0|   186|\n",
            "|        printer|   62|    7|  0|  0|     0|\n",
            "|        private|15971| 4900|  0|  0|   982|\n",
            "|          red_i|    0|    0|  0|  0|     8|\n",
            "|     remote_job|   60|   18|  0|  0|     0|\n",
            "|            rje|   68|   18|  0|  0|     0|\n",
            "|          shell|   53|    8|  0|  0|     4|\n",
            "|           smtp|  241|   43|  0|  0|  7029|\n",
            "|        sql_net|  233|   12|  0|  0|     0|\n",
            "|            ssh|  281|   25|  0|  0|     5|\n",
            "|         sunrpc|  369|   12|  0|  0|     0|\n",
            "|         supdup|  528|   16|  0|  0|     0|\n",
            "|         systat|  460|   17|  0|  0|     0|\n",
            "|         telnet| 1312|   33| 57| 34|   917|\n",
            "|         tftp_u|    0|    0|  0|  0|     3|\n",
            "|          tim_i|    3|    0|  0|  0|     5|\n",
            "|           time|  551|   27|  0|  0|    76|\n",
            "|          urh_i|    0|    0|  0|  0|    10|\n",
            "|          urp_i|    0|    3|  0|  0|   599|\n",
            "|           uucp|  769|   11|  0|  0|     0|\n",
            "|      uucp_path|  676|   13|  0|  0|     0|\n",
            "|          vmnet|  606|   11|  0|  0|     0|\n",
            "|          whois|  670|   23|  0|  0|     0|\n",
            "+---------------+-----+-----+---+---+------+\n",
            "\n"
          ],
          "name": "stdout"
        }
      ]
    },
    {
      "cell_type": "code",
      "metadata": {
        "id": "jVfL1zVUqozt",
        "colab": {
          "base_uri": "https://localhost:8080/"
        },
        "outputId": "c6746e04-7838-4426-efa5-9236167e197f"
      },
      "source": [
        "# 'flag' nominal column\n",
        "print(train_df.select(nominal_cols[2]).distinct().count())\n",
        "(train_df.crosstab(nominal_cols[2], 'labels2').sort(sql.asc(nominal_cols[2] + '_labels2')).show())\n",
        "(train_df.crosstab(nominal_cols[2], 'labels5').sort(sql.asc(nominal_cols[2] + '_labels5')).show())"
      ],
      "execution_count": null,
      "outputs": [
        {
          "output_type": "stream",
          "text": [
            "11\n",
            "+------------+------+------+\n",
            "|flag_labels2|attack|normal|\n",
            "+------------+------+------+\n",
            "|         OTH|    35|    11|\n",
            "|         REJ|  8540|  2693|\n",
            "|        RSTO|  1343|   219|\n",
            "|      RSTOS0|   103|     0|\n",
            "|        RSTR|  2275|   146|\n",
            "|          S0| 34497|   354|\n",
            "|          S1|     4|   361|\n",
            "|          S2|     8|   119|\n",
            "|          S3|     4|    45|\n",
            "|          SF| 11552| 63393|\n",
            "|          SH|   269|     2|\n",
            "+------------+------+------+\n",
            "\n",
            "+------------+-----+-----+---+---+------+\n",
            "|flag_labels5|  DoS|Probe|R2L|U2R|normal|\n",
            "+------------+-----+-----+---+---+------+\n",
            "|         OTH|    0|   35|  0|  0|    11|\n",
            "|         REJ| 5671| 2869|  0|  0|  2693|\n",
            "|        RSTO| 1216|   80| 46|  1|   219|\n",
            "|      RSTOS0|    0|  103|  0|  0|     0|\n",
            "|        RSTR|   90| 2180|  5|  0|   146|\n",
            "|          S0|34344|  153|  0|  0|   354|\n",
            "|          S1|    2|    1|  1|  0|   361|\n",
            "|          S2|    5|    2|  1|  0|   119|\n",
            "|          S3|    0|    1|  3|  0|    45|\n",
            "|          SF| 4599| 5967|935| 51| 63393|\n",
            "|          SH|    0|  265|  4|  0|     2|\n",
            "+------------+-----+-----+---+---+------+\n",
            "\n"
          ],
          "name": "stdout"
        }
      ]
    },
    {
      "cell_type": "code",
      "metadata": {
        "id": "Qdj-2DfaqvOA",
        "colab": {
          "base_uri": "https://localhost:8080/",
          "height": 269
        },
        "outputId": "e0780f39-4397-4ec2-dd73-f68acf06e80b"
      },
      "source": [
        "# Binary columns\n",
        "(train_df.select(binary_cols).describe().toPandas().transpose())"
      ],
      "execution_count": null,
      "outputs": [
        {
          "output_type": "execute_result",
          "data": {
            "text/html": [
              "<div>\n",
              "<style scoped>\n",
              "    .dataframe tbody tr th:only-of-type {\n",
              "        vertical-align: middle;\n",
              "    }\n",
              "\n",
              "    .dataframe tbody tr th {\n",
              "        vertical-align: top;\n",
              "    }\n",
              "\n",
              "    .dataframe thead th {\n",
              "        text-align: right;\n",
              "    }\n",
              "</style>\n",
              "<table border=\"1\" class=\"dataframe\">\n",
              "  <thead>\n",
              "    <tr style=\"text-align: right;\">\n",
              "      <th></th>\n",
              "      <th>0</th>\n",
              "      <th>1</th>\n",
              "      <th>2</th>\n",
              "      <th>3</th>\n",
              "      <th>4</th>\n",
              "    </tr>\n",
              "  </thead>\n",
              "  <tbody>\n",
              "    <tr>\n",
              "      <th>summary</th>\n",
              "      <td>count</td>\n",
              "      <td>mean</td>\n",
              "      <td>stddev</td>\n",
              "      <td>min</td>\n",
              "      <td>max</td>\n",
              "    </tr>\n",
              "    <tr>\n",
              "      <th>land</th>\n",
              "      <td>125973</td>\n",
              "      <td>1.9845522453224102E-4</td>\n",
              "      <td>0.014086071671513094</td>\n",
              "      <td>0.0</td>\n",
              "      <td>1.0</td>\n",
              "    </tr>\n",
              "    <tr>\n",
              "      <th>logged_in</th>\n",
              "      <td>125973</td>\n",
              "      <td>0.3957355941352512</td>\n",
              "      <td>0.48901005300524175</td>\n",
              "      <td>0.0</td>\n",
              "      <td>1.0</td>\n",
              "    </tr>\n",
              "    <tr>\n",
              "      <th>root_shell</th>\n",
              "      <td>125973</td>\n",
              "      <td>0.0013415573178379495</td>\n",
              "      <td>0.03660284383979861</td>\n",
              "      <td>0.0</td>\n",
              "      <td>1.0</td>\n",
              "    </tr>\n",
              "    <tr>\n",
              "      <th>su_attempted</th>\n",
              "      <td>125973</td>\n",
              "      <td>0.0011034110483992602</td>\n",
              "      <td>0.04515438381386557</td>\n",
              "      <td>0.0</td>\n",
              "      <td>2.0</td>\n",
              "    </tr>\n",
              "    <tr>\n",
              "      <th>is_host_login</th>\n",
              "      <td>125973</td>\n",
              "      <td>7.938208981289641E-6</td>\n",
              "      <td>0.0028174827384191085</td>\n",
              "      <td>0.0</td>\n",
              "      <td>1.0</td>\n",
              "    </tr>\n",
              "    <tr>\n",
              "      <th>is_guest_login</th>\n",
              "      <td>125973</td>\n",
              "      <td>0.009422654060790804</td>\n",
              "      <td>0.09661232709143104</td>\n",
              "      <td>0.0</td>\n",
              "      <td>1.0</td>\n",
              "    </tr>\n",
              "  </tbody>\n",
              "</table>\n",
              "</div>"
            ],
            "text/plain": [
              "                     0                      1                      2    3    4\n",
              "summary          count                   mean                 stddev  min  max\n",
              "land            125973  1.9845522453224102E-4   0.014086071671513094  0.0  1.0\n",
              "logged_in       125973     0.3957355941352512    0.48901005300524175  0.0  1.0\n",
              "root_shell      125973  0.0013415573178379495    0.03660284383979861  0.0  1.0\n",
              "su_attempted    125973  0.0011034110483992602    0.04515438381386557  0.0  2.0\n",
              "is_host_login   125973   7.938208981289641E-6  0.0028174827384191085  0.0  1.0\n",
              "is_guest_login  125973   0.009422654060790804    0.09661232709143104  0.0  1.0"
            ]
          },
          "metadata": {
            "tags": []
          },
          "execution_count": 58
        }
      ]
    },
    {
      "cell_type": "code",
      "metadata": {
        "id": "4GmOFGHKqy_v",
        "colab": {
          "base_uri": "https://localhost:8080/"
        },
        "outputId": "18d490ae-0ae1-4664-a9a8-556086c70336"
      },
      "source": [
        "# 'su_attempted' should be a binary feature, but has 3 values\n",
        "(train_df.crosstab('su_attempted', 'labels2').show())"
      ],
      "execution_count": null,
      "outputs": [
        {
          "output_type": "stream",
          "text": [
            "+--------------------+------+------+\n",
            "|su_attempted_labels2|attack|normal|\n",
            "+--------------------+------+------+\n",
            "|                 2.0|     0|    59|\n",
            "|                 1.0|     1|    20|\n",
            "|                 0.0| 58629| 67264|\n",
            "+--------------------+------+------+\n",
            "\n"
          ],
          "name": "stdout"
        }
      ]
    },
    {
      "cell_type": "code",
      "metadata": {
        "id": "WnRC1LSzq16m"
      },
      "source": [
        "# '2.0' value is replaced to '0.0' for both train and test datasets\n",
        "train_df = train_df.replace(2.0, 0.0, 'su_attempted')\n",
        "test_df = test_df.replace(2.0, 0.0, 'su_attempted')"
      ],
      "execution_count": null,
      "outputs": []
    },
    {
      "cell_type": "code",
      "metadata": {
        "id": "AH8hv5u_q5iR",
        "colab": {
          "base_uri": "https://localhost:8080/",
          "height": 1000
        },
        "outputId": "fae23eab-f713-4b2b-98cc-41d39554de14"
      },
      "source": [
        "# Numeric columns\n",
        "print(len(numeric_cols))\n",
        "(train_df.select(numeric_cols).describe().toPandas().transpose())"
      ],
      "execution_count": null,
      "outputs": [
        {
          "output_type": "stream",
          "text": [
            "32\n"
          ],
          "name": "stdout"
        },
        {
          "output_type": "execute_result",
          "data": {
            "text/html": [
              "<div>\n",
              "<style scoped>\n",
              "    .dataframe tbody tr th:only-of-type {\n",
              "        vertical-align: middle;\n",
              "    }\n",
              "\n",
              "    .dataframe tbody tr th {\n",
              "        vertical-align: top;\n",
              "    }\n",
              "\n",
              "    .dataframe thead th {\n",
              "        text-align: right;\n",
              "    }\n",
              "</style>\n",
              "<table border=\"1\" class=\"dataframe\">\n",
              "  <thead>\n",
              "    <tr style=\"text-align: right;\">\n",
              "      <th></th>\n",
              "      <th>0</th>\n",
              "      <th>1</th>\n",
              "      <th>2</th>\n",
              "      <th>3</th>\n",
              "      <th>4</th>\n",
              "    </tr>\n",
              "  </thead>\n",
              "  <tbody>\n",
              "    <tr>\n",
              "      <th>summary</th>\n",
              "      <td>count</td>\n",
              "      <td>mean</td>\n",
              "      <td>stddev</td>\n",
              "      <td>min</td>\n",
              "      <td>max</td>\n",
              "    </tr>\n",
              "    <tr>\n",
              "      <th>duration</th>\n",
              "      <td>125973</td>\n",
              "      <td>287.1446500440571</td>\n",
              "      <td>2604.515309867592</td>\n",
              "      <td>0.0</td>\n",
              "      <td>42908.0</td>\n",
              "    </tr>\n",
              "    <tr>\n",
              "      <th>src_bytes</th>\n",
              "      <td>125973</td>\n",
              "      <td>45566.74300048423</td>\n",
              "      <td>5870331.181893551</td>\n",
              "      <td>0.0</td>\n",
              "      <td>1.379963888E9</td>\n",
              "    </tr>\n",
              "    <tr>\n",
              "      <th>dst_bytes</th>\n",
              "      <td>125973</td>\n",
              "      <td>19779.114421344257</td>\n",
              "      <td>4021269.1514414474</td>\n",
              "      <td>0.0</td>\n",
              "      <td>1.309937401E9</td>\n",
              "    </tr>\n",
              "    <tr>\n",
              "      <th>wrong_fragment</th>\n",
              "      <td>125973</td>\n",
              "      <td>0.022687401268525795</td>\n",
              "      <td>0.25352998595201254</td>\n",
              "      <td>0.0</td>\n",
              "      <td>3.0</td>\n",
              "    </tr>\n",
              "    <tr>\n",
              "      <th>urgent</th>\n",
              "      <td>125973</td>\n",
              "      <td>1.1113492573805498E-4</td>\n",
              "      <td>0.014366026620154243</td>\n",
              "      <td>0.0</td>\n",
              "      <td>3.0</td>\n",
              "    </tr>\n",
              "    <tr>\n",
              "      <th>hot</th>\n",
              "      <td>125973</td>\n",
              "      <td>0.20440888126820828</td>\n",
              "      <td>2.1499684337047587</td>\n",
              "      <td>0.0</td>\n",
              "      <td>77.0</td>\n",
              "    </tr>\n",
              "    <tr>\n",
              "      <th>num_failed_logins</th>\n",
              "      <td>125973</td>\n",
              "      <td>0.0012224841831186047</td>\n",
              "      <td>0.045239138981329835</td>\n",
              "      <td>0.0</td>\n",
              "      <td>5.0</td>\n",
              "    </tr>\n",
              "    <tr>\n",
              "      <th>num_compromised</th>\n",
              "      <td>125973</td>\n",
              "      <td>0.279250315543807</td>\n",
              "      <td>23.942042242795125</td>\n",
              "      <td>0.0</td>\n",
              "      <td>7479.0</td>\n",
              "    </tr>\n",
              "    <tr>\n",
              "      <th>num_root</th>\n",
              "      <td>125973</td>\n",
              "      <td>0.30219173949973405</td>\n",
              "      <td>24.3996180888374</td>\n",
              "      <td>0.0</td>\n",
              "      <td>7468.0</td>\n",
              "    </tr>\n",
              "    <tr>\n",
              "      <th>num_file_creations</th>\n",
              "      <td>125973</td>\n",
              "      <td>0.012669381534138267</td>\n",
              "      <td>0.48393506939604286</td>\n",
              "      <td>0.0</td>\n",
              "      <td>43.0</td>\n",
              "    </tr>\n",
              "    <tr>\n",
              "      <th>num_shells</th>\n",
              "      <td>125973</td>\n",
              "      <td>4.1278686702706137E-4</td>\n",
              "      <td>0.02218112867869418</td>\n",
              "      <td>0.0</td>\n",
              "      <td>2.0</td>\n",
              "    </tr>\n",
              "    <tr>\n",
              "      <th>num_access_files</th>\n",
              "      <td>125973</td>\n",
              "      <td>0.004096115834345455</td>\n",
              "      <td>0.09936955575066156</td>\n",
              "      <td>0.0</td>\n",
              "      <td>9.0</td>\n",
              "    </tr>\n",
              "    <tr>\n",
              "      <th>num_outbound_cmds</th>\n",
              "      <td>125973</td>\n",
              "      <td>0.0</td>\n",
              "      <td>0.0</td>\n",
              "      <td>0.0</td>\n",
              "      <td>0.0</td>\n",
              "    </tr>\n",
              "    <tr>\n",
              "      <th>count</th>\n",
              "      <td>125973</td>\n",
              "      <td>84.1075547934875</td>\n",
              "      <td>114.50860735418405</td>\n",
              "      <td>0.0</td>\n",
              "      <td>511.0</td>\n",
              "    </tr>\n",
              "    <tr>\n",
              "      <th>srv_count</th>\n",
              "      <td>125973</td>\n",
              "      <td>27.737888277646796</td>\n",
              "      <td>72.6358396472384</td>\n",
              "      <td>0.0</td>\n",
              "      <td>511.0</td>\n",
              "    </tr>\n",
              "    <tr>\n",
              "      <th>serror_rate</th>\n",
              "      <td>125973</td>\n",
              "      <td>0.2844845323997998</td>\n",
              "      <td>0.4464556243310233</td>\n",
              "      <td>0.0</td>\n",
              "      <td>1.0</td>\n",
              "    </tr>\n",
              "    <tr>\n",
              "      <th>srv_serror_rate</th>\n",
              "      <td>125973</td>\n",
              "      <td>0.2824853738499519</td>\n",
              "      <td>0.44702249836401703</td>\n",
              "      <td>0.0</td>\n",
              "      <td>1.0</td>\n",
              "    </tr>\n",
              "    <tr>\n",
              "      <th>rerror_rate</th>\n",
              "      <td>125973</td>\n",
              "      <td>0.11995848316702805</td>\n",
              "      <td>0.3204355207495171</td>\n",
              "      <td>0.0</td>\n",
              "      <td>1.0</td>\n",
              "    </tr>\n",
              "    <tr>\n",
              "      <th>srv_rerror_rate</th>\n",
              "      <td>125973</td>\n",
              "      <td>0.12118326943075099</td>\n",
              "      <td>0.3236472280054629</td>\n",
              "      <td>0.0</td>\n",
              "      <td>1.0</td>\n",
              "    </tr>\n",
              "    <tr>\n",
              "      <th>same_srv_rate</th>\n",
              "      <td>125973</td>\n",
              "      <td>0.660927659101567</td>\n",
              "      <td>0.4396228624074799</td>\n",
              "      <td>0.0</td>\n",
              "      <td>1.0</td>\n",
              "    </tr>\n",
              "    <tr>\n",
              "      <th>diff_srv_rate</th>\n",
              "      <td>125973</td>\n",
              "      <td>0.06305263826375185</td>\n",
              "      <td>0.18031440750857483</td>\n",
              "      <td>0.0</td>\n",
              "      <td>1.0</td>\n",
              "    </tr>\n",
              "    <tr>\n",
              "      <th>srv_diff_host_rate</th>\n",
              "      <td>125973</td>\n",
              "      <td>0.0973216482897124</td>\n",
              "      <td>0.25983049812115877</td>\n",
              "      <td>0.0</td>\n",
              "      <td>1.0</td>\n",
              "    </tr>\n",
              "    <tr>\n",
              "      <th>dst_host_count</th>\n",
              "      <td>125973</td>\n",
              "      <td>182.14894461511594</td>\n",
              "      <td>99.20621303459785</td>\n",
              "      <td>0.0</td>\n",
              "      <td>255.0</td>\n",
              "    </tr>\n",
              "    <tr>\n",
              "      <th>dst_host_srv_count</th>\n",
              "      <td>125973</td>\n",
              "      <td>115.65300500900987</td>\n",
              "      <td>110.7027407808648</td>\n",
              "      <td>0.0</td>\n",
              "      <td>255.0</td>\n",
              "    </tr>\n",
              "    <tr>\n",
              "      <th>dst_host_same_srv_rate</th>\n",
              "      <td>125973</td>\n",
              "      <td>0.521241694648872</td>\n",
              "      <td>0.4489493637176792</td>\n",
              "      <td>0.0</td>\n",
              "      <td>1.0</td>\n",
              "    </tr>\n",
              "    <tr>\n",
              "      <th>dst_host_diff_srv_rate</th>\n",
              "      <td>125973</td>\n",
              "      <td>0.08295110857087822</td>\n",
              "      <td>0.18892179990461458</td>\n",
              "      <td>0.0</td>\n",
              "      <td>1.0</td>\n",
              "    </tr>\n",
              "    <tr>\n",
              "      <th>dst_host_same_src_port_rate</th>\n",
              "      <td>125973</td>\n",
              "      <td>0.14837885896184153</td>\n",
              "      <td>0.30899713037298737</td>\n",
              "      <td>0.0</td>\n",
              "      <td>1.0</td>\n",
              "    </tr>\n",
              "    <tr>\n",
              "      <th>dst_host_srv_diff_host_rate</th>\n",
              "      <td>125973</td>\n",
              "      <td>0.03254244957252654</td>\n",
              "      <td>0.11256380488118982</td>\n",
              "      <td>0.0</td>\n",
              "      <td>1.0</td>\n",
              "    </tr>\n",
              "    <tr>\n",
              "      <th>dst_host_serror_rate</th>\n",
              "      <td>125973</td>\n",
              "      <td>0.2844524620355186</td>\n",
              "      <td>0.44478405031648904</td>\n",
              "      <td>0.0</td>\n",
              "      <td>1.0</td>\n",
              "    </tr>\n",
              "    <tr>\n",
              "      <th>dst_host_srv_serror_rate</th>\n",
              "      <td>125973</td>\n",
              "      <td>0.2784845165233854</td>\n",
              "      <td>0.4456691238860301</td>\n",
              "      <td>0.0</td>\n",
              "      <td>1.0</td>\n",
              "    </tr>\n",
              "    <tr>\n",
              "      <th>dst_host_rerror_rate</th>\n",
              "      <td>125973</td>\n",
              "      <td>0.11883181316631297</td>\n",
              "      <td>0.3065574580251695</td>\n",
              "      <td>0.0</td>\n",
              "      <td>1.0</td>\n",
              "    </tr>\n",
              "    <tr>\n",
              "      <th>dst_host_srv_rerror_rate</th>\n",
              "      <td>125973</td>\n",
              "      <td>0.12023989267541413</td>\n",
              "      <td>0.3194593904552316</td>\n",
              "      <td>0.0</td>\n",
              "      <td>1.0</td>\n",
              "    </tr>\n",
              "  </tbody>\n",
              "</table>\n",
              "</div>"
            ],
            "text/plain": [
              "                                  0                      1  ...    3              4\n",
              "summary                       count                   mean  ...  min            max\n",
              "duration                     125973      287.1446500440571  ...  0.0        42908.0\n",
              "src_bytes                    125973      45566.74300048423  ...  0.0  1.379963888E9\n",
              "dst_bytes                    125973     19779.114421344257  ...  0.0  1.309937401E9\n",
              "wrong_fragment               125973   0.022687401268525795  ...  0.0            3.0\n",
              "urgent                       125973  1.1113492573805498E-4  ...  0.0            3.0\n",
              "hot                          125973    0.20440888126820828  ...  0.0           77.0\n",
              "num_failed_logins            125973  0.0012224841831186047  ...  0.0            5.0\n",
              "num_compromised              125973      0.279250315543807  ...  0.0         7479.0\n",
              "num_root                     125973    0.30219173949973405  ...  0.0         7468.0\n",
              "num_file_creations           125973   0.012669381534138267  ...  0.0           43.0\n",
              "num_shells                   125973  4.1278686702706137E-4  ...  0.0            2.0\n",
              "num_access_files             125973   0.004096115834345455  ...  0.0            9.0\n",
              "num_outbound_cmds            125973                    0.0  ...  0.0            0.0\n",
              "count                        125973       84.1075547934875  ...  0.0          511.0\n",
              "srv_count                    125973     27.737888277646796  ...  0.0          511.0\n",
              "serror_rate                  125973     0.2844845323997998  ...  0.0            1.0\n",
              "srv_serror_rate              125973     0.2824853738499519  ...  0.0            1.0\n",
              "rerror_rate                  125973    0.11995848316702805  ...  0.0            1.0\n",
              "srv_rerror_rate              125973    0.12118326943075099  ...  0.0            1.0\n",
              "same_srv_rate                125973      0.660927659101567  ...  0.0            1.0\n",
              "diff_srv_rate                125973    0.06305263826375185  ...  0.0            1.0\n",
              "srv_diff_host_rate           125973     0.0973216482897124  ...  0.0            1.0\n",
              "dst_host_count               125973     182.14894461511594  ...  0.0          255.0\n",
              "dst_host_srv_count           125973     115.65300500900987  ...  0.0          255.0\n",
              "dst_host_same_srv_rate       125973      0.521241694648872  ...  0.0            1.0\n",
              "dst_host_diff_srv_rate       125973    0.08295110857087822  ...  0.0            1.0\n",
              "dst_host_same_src_port_rate  125973    0.14837885896184153  ...  0.0            1.0\n",
              "dst_host_srv_diff_host_rate  125973    0.03254244957252654  ...  0.0            1.0\n",
              "dst_host_serror_rate         125973     0.2844524620355186  ...  0.0            1.0\n",
              "dst_host_srv_serror_rate     125973     0.2784845165233854  ...  0.0            1.0\n",
              "dst_host_rerror_rate         125973    0.11883181316631297  ...  0.0            1.0\n",
              "dst_host_srv_rerror_rate     125973    0.12023989267541413  ...  0.0            1.0\n",
              "\n",
              "[33 rows x 5 columns]"
            ]
          },
          "metadata": {
            "tags": []
          },
          "execution_count": 61
        }
      ]
    },
    {
      "cell_type": "code",
      "metadata": {
        "id": "C9XbbFZKq8OV",
        "colab": {
          "base_uri": "https://localhost:8080/"
        },
        "outputId": "93119036-10b6-4922-e50b-1db0014a8a55"
      },
      "source": [
        "(train_df.crosstab('num_outbound_cmds', 'labels2').show())"
      ],
      "execution_count": null,
      "outputs": [
        {
          "output_type": "stream",
          "text": [
            "+-------------------------+------+------+\n",
            "|num_outbound_cmds_labels2|attack|normal|\n",
            "+-------------------------+------+------+\n",
            "|                      0.0| 58630| 67343|\n",
            "+-------------------------+------+------+\n",
            "\n"
          ],
          "name": "stdout"
        }
      ]
    },
    {
      "cell_type": "code",
      "metadata": {
        "id": "J4cTlh7orAfx"
      },
      "source": [
        "train_df = train_df.drop('num_outbound_cmds')\n",
        "test_df = test_df.drop('num_outbound_cmds')\n",
        "numeric_cols.remove('num_outbound_cmds')"
      ],
      "execution_count": null,
      "outputs": []
    },
    {
      "cell_type": "markdown",
      "metadata": {
        "id": "kjKlvx1IQ4T_"
      },
      "source": [
        "HOT ENCODING"
      ]
    },
    {
      "cell_type": "markdown",
      "metadata": {
        "id": "-g03n9o9IiU1"
      },
      "source": [
        "One Hot Encoding (OHE) is used for treating categorical variables. Custom function is created for demonstration purposes. However, it could be easily replaced by PySpark OneHotEncoder."
      ]
    },
    {
      "cell_type": "code",
      "metadata": {
        "id": "V_wtnS03rDwi"
      },
      "source": [
        "def ohe_vec(cat_dict, row):\n",
        "    vec = np.zeros(len(cat_dict))\n",
        "    vec[cat_dict[row]] = float(1.0)\n",
        "    return vec.tolist()\n",
        "\n",
        "def ohe(df, nominal_col):\n",
        "    categories = (df.select(nominal_col)\n",
        "                    .distinct()\n",
        "                    .rdd.map(lambda row: row[0])\n",
        "                    .collect())\n",
        "    \n",
        "    cat_dict = dict(zip(categories, range(len(categories))))\n",
        "    \n",
        "    udf_ohe_vec = udf(lambda row: ohe_vec(cat_dict, row), \n",
        "                      StructType([StructField(cat, DoubleType(), False) for cat in categories]))\n",
        "    \n",
        "    df = df.withColumn(nominal_col + '_ohe', udf_ohe_vec(col(nominal_col))).cache()\n",
        "    \n",
        "    nested_cols = [nominal_col + '_ohe.' + cat for cat in categories]\n",
        "    ohe_cols = [nominal_col + '_' + cat for cat in categories]\n",
        "        \n",
        "    for new, old in zip(ohe_cols, nested_cols):\n",
        "        df = df.withColumn(new, col(old))\n",
        "\n",
        "    df = df.drop(nominal_col + '_ohe')\n",
        "                   \n",
        "    return df, ohe_cols"
      ],
      "execution_count": null,
      "outputs": []
    },
    {
      "cell_type": "code",
      "metadata": {
        "id": "h54uZi2ArH2h",
        "colab": {
          "base_uri": "https://localhost:8080/"
        },
        "outputId": "1f461226-b009-4764-90f9-d9cf35ce88d4"
      },
      "source": [
        "t0 = time()\n",
        "train_ohe_cols = []\n",
        "\n",
        "train_df, train_ohe_col0 = ohe(train_df, nominal_cols[0])\n",
        "train_ohe_cols += train_ohe_col0\n",
        "\n",
        "train_df, train_ohe_col1 = ohe(train_df, nominal_cols[1])\n",
        "train_ohe_cols += train_ohe_col1\n",
        "\n",
        "train_df, train_ohe_col2 = ohe(train_df, nominal_cols[2])\n",
        "train_ohe_cols += train_ohe_col2\n",
        "\n",
        "binary_cols += train_ohe_cols\n",
        "\n",
        "train_df = train_df.cache()\n",
        "print(f\"Number of examples in train set: {train_df.count()}\")\n",
        "print(f\"Time: {time() - t0:.2f}s\")"
      ],
      "execution_count": null,
      "outputs": [
        {
          "output_type": "stream",
          "text": [
            "Number of examples in train set: 125973\n",
            "Time: 51.87s\n"
          ],
          "name": "stdout"
        }
      ]
    },
    {
      "cell_type": "code",
      "metadata": {
        "id": "K053wZzvrLpl",
        "colab": {
          "base_uri": "https://localhost:8080/"
        },
        "outputId": "b95c364a-9d9b-4a42-c586-017154612480"
      },
      "source": [
        "t0 = time()\n",
        "test_ohe_cols = []\n",
        "\n",
        "test_df, test_ohe_col0_names = ohe(test_df, nominal_cols[0])\n",
        "test_ohe_cols += test_ohe_col0_names\n",
        "\n",
        "test_df, test_ohe_col1_names = ohe(test_df, nominal_cols[1])\n",
        "test_ohe_cols += test_ohe_col1_names\n",
        "\n",
        "test_df, test_ohe_col2_names = ohe(test_df, nominal_cols[2])\n",
        "test_ohe_cols += test_ohe_col2_names\n",
        "\n",
        "test_binary_cols = col_names[binary_inx].tolist() + test_ohe_cols\n",
        "\n",
        "test_df = test_df.cache()\n",
        "print(f\"Number of examples in test set: {test_df.count()}\")\n",
        "print(f\"Time: {time() - t0:.2f}s\")"
      ],
      "execution_count": null,
      "outputs": [
        {
          "output_type": "stream",
          "text": [
            "Number of examples in test set: 22544\n",
            "Time: 30.77s\n"
          ],
          "name": "stdout"
        }
      ]
    },
    {
      "cell_type": "markdown",
      "metadata": {
        "id": "s77XhDW-RKLf"
      },
      "source": [
        "FEATURE SELECTION"
      ]
    },
    {
      "cell_type": "markdown",
      "metadata": {
        "id": "SScSNe99I0R5"
      },
      "source": [
        "As it is a possible to have 'null' values because binary features could have Frequency(0) = 0, those 'null' values are replaced with 1000.0 (magic number). For NSL KDD dataset it is related only for 'protocol_type_tcp' ohe variable."
      ]
    },
    {
      "cell_type": "code",
      "metadata": {
        "id": "9kf84J_FrQA7"
      },
      "source": [
        "def getAttributeRatio(df, numericCols, binaryCols, labelCol):\n",
        "    ratio_dict = {}\n",
        "    \n",
        "    if numericCols:\n",
        "        avg_dict = (df\n",
        "                .select(list(map(lambda c: sql.avg(c).alias(c), numericCols)))\n",
        "                .first()\n",
        "                .asDict())\n",
        "\n",
        "        ratio_dict.update(df\n",
        "                .groupBy(labelCol)\n",
        "                .avg(*numericCols)\n",
        "                .select(list(map(lambda c: sql.max(col('avg(' + c + ')')/avg_dict[c]).alias(c), numericCols)))\n",
        "                .fillna(0.0)\n",
        "                .first()\n",
        "                .asDict())\n",
        "    \n",
        "    if binaryCols:\n",
        "        ratio_dict.update((df\n",
        "                .groupBy(labelCol)\n",
        "                .agg(*list(map(lambda c: (sql.sum(col(c))/(sql.count(col(c)) - sql.sum(col(c)))).alias(c), binaryCols)))\n",
        "                .fillna(1000.0)\n",
        "                .select(*list(map(lambda c: sql.max(col(c)).alias(c), binaryCols)))\n",
        "                .first()\n",
        "                .asDict()))\n",
        "        \n",
        "    return OrderedDict(sorted(ratio_dict.items(), key=lambda v: -v[1]))\n",
        "\n",
        "def selectFeaturesByAR(ar_dict, min_ar):\n",
        "    return [f for f in ar_dict.keys() if ar_dict[f] >= min_ar]"
      ],
      "execution_count": null,
      "outputs": []
    },
    {
      "cell_type": "code",
      "metadata": {
        "id": "Ahc7-VEprcNn",
        "colab": {
          "base_uri": "https://localhost:8080/"
        },
        "outputId": "c4fcb329-daa0-4b79-cfa1-805fe617a30c"
      },
      "source": [
        "t0 = time()\n",
        "ar_dict = getAttributeRatio(train_df, numeric_cols, binary_cols, 'labels5')\n",
        "\n",
        "print(f\"Number of features in Attribute Ration dict: {len(ar_dict)}\")\n",
        "print(f\"Time: {time() - t0:.2f}s\")\n",
        "ar_dict"
      ],
      "execution_count": null,
      "outputs": [
        {
          "output_type": "stream",
          "text": [
            "Number of features in Attribute Ration dict: 121\n",
            "Time: 23.34s\n"
          ],
          "name": "stdout"
        },
        {
          "output_type": "execute_result",
          "data": {
            "text/plain": [
              "OrderedDict([('protocol_type_tcp', 1000.0),\n",
              "             ('num_shells', 326.11353550295854),\n",
              "             ('urgent', 173.03983516483518),\n",
              "             ('num_file_creations', 62.23362492770388),\n",
              "             ('flag_SF', 51.0),\n",
              "             ('num_failed_logins', 46.03855641845592),\n",
              "             ('hot', 40.77451681709518),\n",
              "             ('logged_in', 10.569767441860465),\n",
              "             ('dst_bytes', 9.154854355343401),\n",
              "             ('src_bytes', 8.464064204948945),\n",
              "             ('duration', 7.225829157212557),\n",
              "             ('dst_host_srv_diff_host_rate', 5.756880682756574),\n",
              "             ('dst_host_diff_srv_rate', 4.83734184897426),\n",
              "             ('num_access_files', 4.694879248658319),\n",
              "             ('dst_host_same_src_port_rate', 4.393080378884017),\n",
              "             ('num_compromised', 4.338539274983927),\n",
              "             ('diff_srv_rate', 4.069085485070395),\n",
              "             ('dst_host_srv_rerror_rate', 3.667920527965924),\n",
              "             ('srv_rerror_rate', 3.667741802325429),\n",
              "             ('rerror_rate', 3.645586087828447),\n",
              "             ('dst_host_rerror_rate', 3.2795669242444494),\n",
              "             ('srv_diff_host_rate', 3.0815657101103984),\n",
              "             ('flag_S0', 2.965034965034965),\n",
              "             ('wrong_fragment', 2.742896335488928),\n",
              "             ('dst_host_srv_serror_rate', 2.6731595957140732),\n",
              "             ('srv_serror_rate', 2.643246318490161),\n",
              "             ('serror_rate', 2.6310546426370265),\n",
              "             ('dst_host_serror_rate', 2.6293396511768043),\n",
              "             ('num_root', 2.6091432537726016),\n",
              "             ('count', 2.1174082949142403),\n",
              "             ('service_telnet', 1.8888888888888888),\n",
              "             ('dst_host_srv_count', 1.6453161847397422),\n",
              "             ('dst_host_same_srv_rate', 1.557578827974319),\n",
              "             ('service_ftp_data', 1.5447570332480818),\n",
              "             ('same_srv_rate', 1.5079612006047083),\n",
              "             ('dst_host_count', 1.3428596865228266),\n",
              "             ('service_http', 1.2988666621151088),\n",
              "             ('srv_count', 1.1773191099992069),\n",
              "             ('root_shell', 1.0),\n",
              "             ('service_private', 0.7252812314979278),\n",
              "             ('protocol_type_icmp', 0.5497939103842574),\n",
              "             ('service_eco_i', 0.5403726708074534),\n",
              "             ('is_guest_login', 0.45894428152492667),\n",
              "             ('service_ftp', 0.4568081991215227),\n",
              "             ('flag_REJ', 0.3265050642995334),\n",
              "             ('flag_RSTR', 0.23005487547488393),\n",
              "             ('protocol_type_udp', 0.22644739478045495),\n",
              "             ('service_other', 0.16945921541085582),\n",
              "             ('service_domain_u', 0.15493320070658045),\n",
              "             ('service_smtp', 0.11654010677454654),\n",
              "             ('service_ecr_i', 0.06601211614790056),\n",
              "             ('flag_RSTO', 0.04847207586933614),\n",
              "             ('service_finger', 0.026095310440358364),\n",
              "             ('flag_SH', 0.02326398033535247),\n",
              "             ('service_Z39_50', 0.018879226195758277),\n",
              "             ('service_uucp', 0.01702909783427078),\n",
              "             ('service_courier', 0.0160615915577089),\n",
              "             ('service_auth', 0.015544843445957898),\n",
              "             ('service_bgp', 0.0154550278588485),\n",
              "             ('service_uucp_path', 0.014938896377980597),\n",
              "             ('service_iso_tsap', 0.014916467780429593),\n",
              "             ('service_whois', 0.014804339660163068),\n",
              "             ('service_nnsp', 0.013729168965897804),\n",
              "             ('service_imap4', 0.013729168965897804),\n",
              "             ('service_vmnet', 0.013371284834844774),\n",
              "             ('service_time', 0.012142983074753174),\n",
              "             ('service_ctf', 0.011853092158893123),\n",
              "             ('service_csnet_ns', 0.011741639864299247),\n",
              "             ('service_supdup', 0.011630212119209674),\n",
              "             ('service_http_443', 0.011518808915514052),\n",
              "             ('service_discard', 0.011451978769793203),\n",
              "             ('service_domain', 0.011184746471740902),\n",
              "             ('service_daytime', 0.01107344135258894),\n",
              "             ('service_gopher', 0.010672945733022314),\n",
              "             ('service_efs', 0.010517283108539242),\n",
              "             ('service_exec', 0.010228322555100963),\n",
              "             ('service_systat', 0.010117227879561),\n",
              "             ('service_link', 0.009983946517713808),\n",
              "             ('service_hostnames', 0.00982849604221636),\n",
              "             ('service_name', 0.009406800149453835),\n",
              "             ('service_klogin', 0.009340248780273395),\n",
              "             ('service_login', 0.009229349330872173),\n",
              "             ('service_mtp', 0.009140647316033486),\n",
              "             ('service_echo', 0.009140647316033486),\n",
              "             ('service_urp_i', 0.0089745894762076),\n",
              "             ('flag_RSTOS0', 0.008915433220808448),\n",
              "             ('service_ldap', 0.008852473420613302),\n",
              "             ('service_netbios_dgm', 0.008608762490392005),\n",
              "             ('service_sunrpc', 0.00809956538917424),\n",
              "             ('service_netbios_ssn', 0.007657203036552723),\n",
              "             ('service_netstat', 0.0075466731018142726),\n",
              "             ('service_netbios_ns', 0.007369875633348687),\n",
              "             ('service_kshell', 0.006398597567656404),\n",
              "             ('service_nntp', 0.006156070630504316),\n",
              "             ('service_ssh', 0.006156070630504316),\n",
              "             ('flag_S1', 0.005389507628915231),\n",
              "             ('service_sql_net', 0.005099137742373178),\n",
              "             ('flag_S3', 0.0030241935483870967),\n",
              "             ('flag_OTH', 0.0030117890026675844),\n",
              "             ('service_pop_3', 0.0027696293759399615),\n",
              "             ('service_IRC', 0.0027696293759399615),\n",
              "             ('service_ntp_u', 0.0025009304056568663),\n",
              "             ('flag_S2', 0.0017702011186481019),\n",
              "             ('service_remote_job', 0.0015466575012888812),\n",
              "             ('service_rje', 0.0015466575012888812),\n",
              "             ('service_pop_2', 0.0015264845061822622),\n",
              "             ('service_printer', 0.0013517933064428214),\n",
              "             ('service_shell', 0.0011553385359898854),\n",
              "             ('su_attempted', 0.001006036217303823),\n",
              "             ('service_X11', 0.0009958974968785302),\n",
              "             ('service_pm_dump', 0.0004291477126426916),\n",
              "             ('land', 0.00039207998431680063),\n",
              "             ('service_harvest', 0.00017161489617298782),\n",
              "             ('service_aol', 0.00017161489617298782),\n",
              "             ('service_http_8001', 0.00017161489617298782),\n",
              "             ('service_urh_i', 0.0001485155867108253),\n",
              "             ('service_red_i', 0.00011880894037276305),\n",
              "             ('service_http_2784', 8.58000858000858e-05),\n",
              "             ('service_tim_i', 7.425227954498203e-05),\n",
              "             ('service_tftp_u', 4.455004455004455e-05),\n",
              "             ('is_host_login', 1.4849573817231445e-05)])"
            ]
          },
          "metadata": {
            "tags": []
          },
          "execution_count": 69
        }
      ]
    },
    {
      "cell_type": "markdown",
      "metadata": {
        "id": "g8qTy6iARZm-"
      },
      "source": [
        "DATA PREPARATION"
      ]
    },
    {
      "cell_type": "markdown",
      "metadata": {
        "id": "PqSMrOqlI8eH"
      },
      "source": [
        "Standartization is necessary as a lot of distance based algorithms are used below. Custom standartization is created for demonstration purposes, so it could be easily replaced by PySpark StandardScaler. Note that data is sparse, so it is reasonable to not substract mean for avoiding violating sparsity."
      ]
    },
    {
      "cell_type": "code",
      "metadata": {
        "id": "SnezlXQtrlt7",
        "colab": {
          "base_uri": "https://localhost:8080/"
        },
        "outputId": "310438d8-3975-49cd-8d69-da5c8e6dad05"
      },
      "source": [
        "t0 = time()\n",
        "avg_dict = (train_df.select(list(map(lambda c: sql.avg(c).alias(c), numeric_cols))).first().asDict())\n",
        "std_dict = (train_df.select(list(map(lambda c: sql.stddev(c).alias(c), numeric_cols))).first().asDict())\n",
        "\n",
        "def standardizer(column):\n",
        "    return ((col(column) - avg_dict[column])/std_dict[column]).alias(column)\n",
        "\n",
        "# Standardizer without mean\n",
        "# def standardizer(column):\n",
        "#     return (col(column)/std_dict[column]).alias(column)\n",
        "\n",
        "train_scaler = [*binary_cols, *list(map(standardizer, numeric_cols)), *['id', 'labels2_index', 'labels2', 'labels5_index', 'labels5']]\n",
        "test_scaler = [*test_binary_cols, *list(map(standardizer, numeric_cols)), *['id', 'labels2_index', 'labels2', 'labels5_index', 'labels5']]\n",
        "\n",
        "scaled_train_df = (train_df.select(train_scaler).cache())\n",
        "scaled_test_df = (test_df.select(test_scaler).cache())\n",
        "\n",
        "print(scaled_train_df.count())\n",
        "print(scaled_test_df.count())\n",
        "print(f\"Time: {time() - t0:.2f}s\")"
      ],
      "execution_count": null,
      "outputs": [
        {
          "output_type": "stream",
          "text": [
            "125973\n",
            "22544\n",
            "Time: 10.54s\n"
          ],
          "name": "stdout"
        }
      ]
    },
    {
      "cell_type": "code",
      "metadata": {
        "id": "HqbuxXOvrqwY"
      },
      "source": [
        "from pyspark.ml.feature import VectorIndexer, VectorAssembler\n",
        "assembler = VectorAssembler(inputCols=selectFeaturesByAR(ar_dict, 0.01), outputCol='raw_features')\n",
        "indexer = VectorIndexer(inputCol='raw_features', outputCol='indexed_features', maxCategories=2)\n",
        "\n",
        "prep_pipeline = Pipeline(stages=[assembler, indexer])\n",
        "prep_model = prep_pipeline.fit(scaled_train_df)"
      ],
      "execution_count": null,
      "outputs": []
    },
    {
      "cell_type": "code",
      "metadata": {
        "id": "OKWLE7Hnry9V",
        "colab": {
          "base_uri": "https://localhost:8080/"
        },
        "outputId": "6c2cf1c3-4f55-4b60-c526-728df7897dd2"
      },
      "source": [
        "t0 = time()\n",
        "scaled_train_df = (prep_model\n",
        "        .transform(scaled_train_df)\n",
        "        .select('id', 'indexed_features', 'labels2_index', 'labels2', 'labels5_index', 'labels5')\n",
        "        .cache())\n",
        "\n",
        "scaled_test_df = (prep_model \n",
        "        .transform(scaled_test_df)\n",
        "        .select('id', 'indexed_features','labels2_index', 'labels2', 'labels5_index', 'labels5')\n",
        "        .cache())\n",
        "\n",
        "print(scaled_train_df.count())\n",
        "print(scaled_test_df.count())\n",
        "print(f\"Time: {time() - t0:.2f}s\")"
      ],
      "execution_count": null,
      "outputs": [
        {
          "output_type": "stream",
          "text": [
            "125973\n",
            "22544\n",
            "Time: 6.78s\n"
          ],
          "name": "stdout"
        }
      ]
    },
    {
      "cell_type": "code",
      "metadata": {
        "id": "qhFB6GAJr2cx",
        "colab": {
          "base_uri": "https://localhost:8080/"
        },
        "outputId": "866f2fea-cd49-480f-86eb-f0e2c7bbb6d1"
      },
      "source": [
        "# Setting seed for reproducibility\n",
        "seed = 4667979835606274383\n",
        "print(seed)"
      ],
      "execution_count": null,
      "outputs": [
        {
          "output_type": "stream",
          "text": [
            "4667979835606274383\n"
          ],
          "name": "stdout"
        }
      ]
    },
    {
      "cell_type": "code",
      "metadata": {
        "id": "YBNyIPB8r5l6",
        "colab": {
          "base_uri": "https://localhost:8080/"
        },
        "outputId": "a9227058-e232-45be-9336-b8031d01819a"
      },
      "source": [
        "split = (scaled_train_df.randomSplit([0.8, 0.2], seed=seed))\n",
        "\n",
        "scaled_train_df = split[0].cache()\n",
        "scaled_cv_df = split[1].cache()\n",
        "\n",
        "print(scaled_train_df.count())\n",
        "print(scaled_cv_df.count())"
      ],
      "execution_count": null,
      "outputs": [
        {
          "output_type": "stream",
          "text": [
            "100828\n",
            "25145\n"
          ],
          "name": "stdout"
        }
      ]
    },
    {
      "cell_type": "code",
      "metadata": {
        "id": "AmgGWQJTr8kf",
        "colab": {
          "base_uri": "https://localhost:8080/"
        },
        "outputId": "484bde50-c7e8-4b1d-a264-16bd7d27f7b2"
      },
      "source": [
        "res_cv_df = scaled_cv_df.select(col('id'), col('labels2_index'), col('labels2'), col('labels5')).cache()\n",
        "res_test_df = scaled_test_df.select(col('id'), col('labels2_index'), col('labels2'), col('labels5')).cache()\n",
        "prob_cols = []\n",
        "pred_cols = []\n",
        "\n",
        "print(res_cv_df.count())\n",
        "print(res_test_df.count())"
      ],
      "execution_count": null,
      "outputs": [
        {
          "output_type": "stream",
          "text": [
            "25145\n",
            "22544\n"
          ],
          "name": "stdout"
        }
      ]
    },
    {
      "cell_type": "markdown",
      "metadata": {
        "id": "gHUredFpJIFs"
      },
      "source": [
        "\n",
        "\n",
        "Different metrics from sklearn are used for evaluating results. The most important from them for this task are False positive Rate, Detection Rate and F1 score. As evaluating via sklearn requires to collect predicted and label columns to the driver, it will be replaced with PySpark metrics later.\n"
      ]
    },
    {
      "cell_type": "code",
      "metadata": {
        "id": "baM9U9Zir_qz"
      },
      "source": [
        "import sklearn.metrics as metrics\n",
        "\n",
        "def printCM(cm, labels):\n",
        "    \"\"\"pretty print for confusion matrixes\"\"\"\n",
        "    columnwidth = max([len(x) for x in labels])\n",
        "    # Print header\n",
        "    print(\" \" * columnwidth, end=\"\\t\")\n",
        "    for label in labels:\n",
        "        print(\"%{0}s\".format(columnwidth) % label, end=\"\\t\")\n",
        "    print()\n",
        "    # Print rows\n",
        "    for i, label1 in enumerate(labels):\n",
        "        print(\"%{0}s\".format(columnwidth) % label1, end=\"\\t\")\n",
        "        for j in range(len(labels)):\n",
        "            print(\"%{0}d\".format(columnwidth) % cm[i, j], end=\"\\t\")\n",
        "        print()\n",
        "\n",
        "def getPrediction(e):\n",
        "    return udf(lambda row: 1.0 if row >= e else 0.0, DoubleType())\n",
        "        \n",
        "def printReport(resDF, probCol, labelCol='labels2_index', e=None, labels=['normal', 'attack']):\n",
        "    if (e):\n",
        "        predictionAndLabels = list(zip(*resDF.rdd\n",
        "                                       .map(lambda row: (1.0 if row[probCol] >= e else 0.0, row[labelCol]))\n",
        "                                       .collect()))\n",
        "    else:\n",
        "        predictionAndLabels = list(zip(*resDF.rdd\n",
        "                                       .map(lambda row: (row[probCol], row[labelCol]))\n",
        "                                       .collect()))\n",
        "    \n",
        "    cm = metrics.confusion_matrix(predictionAndLabels[1], predictionAndLabels[0])\n",
        "    printCM(cm, labels)\n",
        "    print(\" \")\n",
        "    print(\"Accuracy = %g\" % (metrics.accuracy_score(predictionAndLabels[1], predictionAndLabels[0])))\n",
        "    print(\"AUC = %g\" % (metrics.roc_auc_score(predictionAndLabels[1], predictionAndLabels[0])))\n",
        "    print(\" \")\n",
        "    print(\"False Alarm Rate = %g\" % (cm[0][1]/(cm[0][0] + cm[0][1])))\n",
        "    print(\"Detection Rate = %g\" % (cm[1][1]/(cm[1][1] + cm[1][0])))\n",
        "    print(\"F1 score = %g\" % (metrics.f1_score(predictionAndLabels[1], predictionAndLabels[0], labels)))\n",
        "    print(\" \")\n",
        "    print(metrics.classification_report(predictionAndLabels[1], predictionAndLabels[0]))\n",
        "    print(\" \")"
      ],
      "execution_count": null,
      "outputs": []
    },
    {
      "cell_type": "markdown",
      "metadata": {
        "id": "37Q-WbhbRjQ8"
      },
      "source": [
        "VISUALIZATION WITH PCA"
      ]
    },
    {
      "cell_type": "markdown",
      "metadata": {
        "id": "B2zbmzMdJS6m"
      },
      "source": [
        "\n",
        "\n",
        "PCA algorithm is used for visualization purposes. It's also used later as preprocessing for Gaussian Mixture clustering.\n",
        "\n",
        "First graph shows 'attack' vs 'normal' labels, second graph shows 4 different types of attacks vs normal connections.\n"
      ]
    },
    {
      "cell_type": "code",
      "metadata": {
        "id": "eULY8EeOsDmD",
        "colab": {
          "base_uri": "https://localhost:8080/"
        },
        "outputId": "1ebc87f2-1b90-433d-839a-5e1af617339a"
      },
      "source": [
        "from pyspark.ml.feature import VectorSlicer\n",
        "from pyspark.ml.feature import PCA\n",
        "\n",
        "t0 = time()\n",
        "pca_slicer = VectorSlicer(inputCol=\"indexed_features\", outputCol=\"features\", names=selectFeaturesByAR(ar_dict, 0.05))\n",
        "\n",
        "pca = PCA(k=2, inputCol=\"features\", outputCol=\"pca_features\")\n",
        "pca_pipeline = Pipeline(stages=[pca_slicer, pca])\n",
        "\n",
        "pca_train_df = pca_pipeline.fit(scaled_train_df).transform(scaled_train_df)\n",
        "print(f\"Time: {time() - t0:.2f}s\")"
      ],
      "execution_count": null,
      "outputs": [
        {
          "output_type": "stream",
          "text": [
            "Time: 7.00s\n"
          ],
          "name": "stdout"
        }
      ]
    },
    {
      "cell_type": "code",
      "metadata": {
        "id": "Cm2J7EvCsG5J",
        "colab": {
          "base_uri": "https://localhost:8080/",
          "height": 531
        },
        "outputId": "3b99c6bc-515b-4200-9c0c-9c5ddd205469"
      },
      "source": [
        "t0 = time()\n",
        "viz_train_data = np.array(pca_train_df.rdd.map(lambda row: [*row['pca_features'], row['labels2_index'], row['labels5_index']]).collect())\n",
        "plt.figure()\n",
        "plt.scatter(x=viz_train_data[:,0], y=viz_train_data[:,1], c=viz_train_data[:,2], cmap=\"Set1\")\n",
        "plt.figure()\n",
        "plt.scatter(x=viz_train_data[:,0], y=viz_train_data[:,1], c=viz_train_data[:,3], cmap=\"Set1\")\n",
        "plt.show()\n",
        "print(time() - t0)"
      ],
      "execution_count": null,
      "outputs": [
        {
          "output_type": "display_data",
          "data": {
            "image/png": "[encoded data removed]",
            "text/plain": [
              "<Figure size 432x288 with 1 Axes>"
            ]
          },
          "metadata": {
            "tags": [],
            "needs_background": "light"
          }
        },
        {
          "output_type": "display_data",
          "data": {
            "image/png": "[encoded data removed]",
            "text/plain": [
              "<Figure size 432x288 with 1 Axes>"
            ]
          },
          "metadata": {
            "tags": [],
            "needs_background": "light"
          }
        },
        {
          "output_type": "stream",
          "text": [
            "25.287659883499146\n"
          ],
          "name": "stdout"
        }
      ]
    },
    {
      "cell_type": "markdown",
      "metadata": {
        "id": "9ONCc-9gRpBi"
      },
      "source": [
        "KMEANS CLUSTERING WITH RANDOM FOREST CLASSIFIER"
      ]
    },
    {
      "cell_type": "markdown",
      "metadata": {
        "id": "ZwKaQLfVJddk"
      },
      "source": [
        "\n",
        "\n",
        "The idea of the first approach is to clusterize data into clusters and then train different Random Forest classifiers for each of the clusters. As Random Forest returns probabilities, it is possible to improve detection rate for a new types of attacks by adjusting threshold.\n",
        "\n",
        "As KMeans cannot truly handle binary/categorical features only numeric features are used for clustarization.\n"
      ]
    },
    {
      "cell_type": "code",
      "metadata": {
        "id": "-dusoHU2sKP1"
      },
      "source": [
        "kmeans_prob_col = 'kmeans_rf_prob'\n",
        "kmeans_pred_col = 'kmeans_rf_pred'\n",
        "\n",
        "prob_cols.append(kmeans_prob_col)\n",
        "pred_cols.append(kmeans_pred_col)"
      ],
      "execution_count": null,
      "outputs": []
    },
    {
      "cell_type": "code",
      "metadata": {
        "id": "IqDo-J-OsSic",
        "colab": {
          "base_uri": "https://localhost:8080/"
        },
        "outputId": "1c976a2a-82bc-406e-caec-ad0eb199adf2"
      },
      "source": [
        "# KMeans clustrering\n",
        "from pyspark.ml.clustering import KMeans\n",
        "\n",
        "t0 = time()\n",
        "kmeans_slicer = VectorSlicer(inputCol=\"indexed_features\", outputCol=\"features\", \n",
        "                             names=list(set(selectFeaturesByAR(ar_dict, 0.1)).intersection(numeric_cols)))\n",
        "\n",
        "kmeans = KMeans(k=8, initSteps=25, maxIter=100, featuresCol=\"features\", predictionCol=\"cluster\", seed=seed)\n",
        "\n",
        "kmeans_pipeline = Pipeline(stages=[kmeans_slicer, kmeans])\n",
        "\n",
        "kmeans_model = kmeans_pipeline.fit(scaled_train_df)\n",
        "\n",
        "kmeans_train_df = kmeans_model.transform(scaled_train_df).cache()\n",
        "kmeans_cv_df = kmeans_model.transform(scaled_cv_df).cache()\n",
        "kmeans_test_df = kmeans_model.transform(scaled_test_df).cache()\n",
        "\n",
        "print(f\"Time: {time() - t0:.2f}s\")"
      ],
      "execution_count": null,
      "outputs": [
        {
          "output_type": "stream",
          "text": [
            "Time: 32.77s\n"
          ],
          "name": "stdout"
        }
      ]
    },
    {
      "cell_type": "code",
      "metadata": {
        "id": "eSb3JbehsWnq",
        "colab": {
          "base_uri": "https://localhost:8080/"
        },
        "outputId": "026f58fd-da70-4e5c-d836-a76ea5989f45"
      },
      "source": [
        "# Function for describing the contents of the clusters \n",
        "def getClusterCrosstab(df, clusterCol='cluster'):\n",
        "    return (df.crosstab(clusterCol, 'labels2')\n",
        "              .withColumn('count', col('attack') + col('normal'))\n",
        "              .withColumn(clusterCol + '_labels2', col(clusterCol + '_labels2').cast('int'))\n",
        "              .sort(col(clusterCol +'_labels2').asc()))\n",
        "kmeans_crosstab = getClusterCrosstab(kmeans_train_df).cache()\n",
        "kmeans_crosstab.show(n=30)    "
      ],
      "execution_count": null,
      "outputs": [
        {
          "output_type": "stream",
          "text": [
            "+---------------+------+------+-----+\n",
            "|cluster_labels2|attack|normal|count|\n",
            "+---------------+------+------+-----+\n",
            "|              0| 27748|    95|27843|\n",
            "|              1|     4|    18|   22|\n",
            "|              2|  5813| 50767|56580|\n",
            "|              3|  7067|  2270| 9337|\n",
            "|              4|  3460|   491| 3951|\n",
            "|              5|   628|   137|  765|\n",
            "|              6|     0|     1|    1|\n",
            "|              7|  2169|   160| 2329|\n",
            "+---------------+------+------+-----+\n",
            "\n"
          ],
          "name": "stdout"
        }
      ]
    },
    {
      "cell_type": "markdown",
      "metadata": {
        "id": "9C3tWAc8KCBi"
      },
      "source": [
        "Clustres are splitted into two categories. Frist category contains clusters that have both 'attack' and 'normal' connections and have more than 25 connections. For the first category Random Forest classifiers are aplied. Second category contains all other clusters and maps cluster to 'attack' or 'normal' based on majority. All clusters that contains less or equal than 25 connections are treated as outliers and are mapped to 'attack' type."
      ]
    },
    {
      "cell_type": "code",
      "metadata": {
        "id": "2SC5cSKIse2b",
        "colab": {
          "base_uri": "https://localhost:8080/"
        },
        "outputId": "5a77d996-49de-4c92-f0e4-9af14f0552dd"
      },
      "source": [
        "# Function for splitting clusters\n",
        "def splitClusters(crosstab):\n",
        "    exp = ((col('count') > 25) & (col('attack') > 0) & (col('normal') > 0))\n",
        "\n",
        "    cluster_rf = (crosstab\n",
        "        .filter(exp).rdd\n",
        "        .map(lambda row: (int(row['cluster_labels2']), [row['count'], row['attack']/row['count']]))\n",
        "        .collectAsMap())\n",
        "\n",
        "    cluster_mapping = (crosstab\n",
        "        .filter(~exp).rdd\n",
        "        .map(lambda row: (int(row['cluster_labels2']), 1.0 if (row['count'] <= 25) | (row['normal'] == 0) else 0.0))\n",
        "        .collectAsMap())\n",
        "    \n",
        "    return cluster_rf, cluster_mapping\n",
        "\n",
        "kmeans_cluster_rf, kmeans_cluster_mapping = splitClusters(kmeans_crosstab)\n",
        "\n",
        "print(len(kmeans_cluster_rf), len(kmeans_cluster_mapping))\n",
        "print(kmeans_cluster_mapping)\n",
        "kmeans_cluster_rf"
      ],
      "execution_count": null,
      "outputs": [
        {
          "output_type": "stream",
          "text": [
            "6 2\n",
            "{1: 1.0, 6: 1.0}\n"
          ],
          "name": "stdout"
        },
        {
          "output_type": "execute_result",
          "data": {
            "text/plain": [
              "{0: [27843, 0.9965880113493517],\n",
              " 2: [56580, 0.10273948391657829],\n",
              " 3: [9337, 0.7568812252329442],\n",
              " 4: [3951, 0.8757276638825614],\n",
              " 5: [765, 0.8209150326797385],\n",
              " 7: [2329, 0.931300987548304]}"
            ]
          },
          "metadata": {
            "tags": []
          },
          "execution_count": 83
        }
      ]
    },
    {
      "cell_type": "code",
      "metadata": {
        "id": "B8UaKkkusinW"
      },
      "source": [
        "from pyspark.ml.classification import RandomForestClassifier\n",
        "\n",
        "# This function returns Random Forest models for provided clusters\n",
        "def getClusterModels(df, cluster_rf):\n",
        "    cluster_models = {}\n",
        "\n",
        "    labels_col = 'labels2_cl_index'\n",
        "    labels2_indexer.setOutputCol(labels_col)\n",
        "\n",
        "    rf_slicer = VectorSlicer(inputCol=\"indexed_features\", outputCol=\"rf_features\", \n",
        "                             names=selectFeaturesByAR(ar_dict, 0.05))\n",
        "\n",
        "    for cluster in cluster_rf.keys():\n",
        "        t1 = time()\n",
        "        rf_classifier = RandomForestClassifier(labelCol=labels_col, featuresCol='rf_features', seed=seed,\n",
        "                                               numTrees=500, maxDepth=20, featureSubsetStrategy=\"sqrt\")\n",
        "        \n",
        "        rf_pipeline = Pipeline(stages=[labels2_indexer, rf_slicer, rf_classifier])\n",
        "        cluster_models[cluster] = rf_pipeline.fit(df.filter(col('cluster') == cluster))\n",
        "        print(\"Finished %g cluster in %g s\" % (cluster, time() - t1))\n",
        "        \n",
        "    return cluster_models"
      ],
      "execution_count": null,
      "outputs": []
    },
    {
      "cell_type": "code",
      "metadata": {
        "id": "jkW_5OFCsl_s"
      },
      "source": [
        "# This utility function helps to get predictions/probabilities for the new data and return them into one dataframe\n",
        "def getProbabilities(df, probCol, cluster_mapping, cluster_models):\n",
        "    pred_df = (sqlContext.createDataFrame([], StructType([\n",
        "                    StructField('id', LongType(), False),\n",
        "                    StructField(probCol, DoubleType(), False)])))\n",
        "    \n",
        "    udf_map = udf(lambda cluster: cluster_mapping[cluster], DoubleType())\n",
        "    pred_df = pred_df.union(df.filter(col('cluster').isin(list(cluster_mapping.keys())))\n",
        "                            .withColumn(probCol, udf_map(col('cluster')))\n",
        "                            .select('id', probCol))\n",
        "\n",
        "                                       \n",
        "    for k in cluster_models.keys():\n",
        "        maj_label = cluster_models[k].stages[0].labels[0]\n",
        "        udf_remap_prob = udf(lambda row: float(row[0]) if (maj_label == 'attack') else float(row[1]), DoubleType())\n",
        "\n",
        "        pred_df = pred_df.union(cluster_models[k]\n",
        "                         .transform(df.filter(col('cluster') == k))\n",
        "                         .withColumn(probCol, udf_remap_prob(col('probability')))\n",
        "                         .select('id', probCol))\n",
        "\n",
        "    return pred_df"
      ],
      "execution_count": null,
      "outputs": []
    },
    {
      "cell_type": "code",
      "metadata": {
        "id": "sblxRwQouHXA",
        "colab": {
          "base_uri": "https://localhost:8080/"
        },
        "outputId": "e3e5857d-66ed-48fd-ef4d-1de6ba6b54fb"
      },
      "source": [
        "# Training Random Forest classifiers for each of the clusters\n",
        "t0 = time()\n",
        "kmeans_cluster_models = getClusterModels(kmeans_train_df, kmeans_cluster_rf)\n",
        "print(f\"Time: {time() - t0:.2f}s\")"
      ],
      "execution_count": null,
      "outputs": [
        {
          "output_type": "stream",
          "text": [
            "Finished 0 cluster in 57.5679 s\n",
            "Finished 2 cluster in 698.448 s\n",
            "Finished 3 cluster in 67.315 s\n",
            "Finished 4 cluster in 37.1528 s\n",
            "Finished 5 cluster in 8.87204 s\n",
            "Finished 7 cluster in 16.1184 s\n",
            "Time: 885.49s\n"
          ],
          "name": "stdout"
        }
      ]
    },
    {
      "cell_type": "code",
      "metadata": {
        "id": "8dsBugmysr_v",
        "colab": {
          "base_uri": "https://localhost:8080/"
        },
        "outputId": "6112196a-ffa0-4d53-f56f-aaea282fa88c"
      },
      "source": [
        "# Getting probabilities for CV data\n",
        "t0 = time()\n",
        "res_cv_df = (res_cv_df.drop(kmeans_prob_col)\n",
        "             .join(getProbabilities(kmeans_cv_df, kmeans_prob_col, kmeans_cluster_mapping, kmeans_cluster_models), 'id')\n",
        "             .cache())\n",
        "\n",
        "print(res_cv_df.count())\n",
        "print(f\"Time: {time() - t0:.2f}s\")"
      ],
      "execution_count": null,
      "outputs": [
        {
          "output_type": "stream",
          "text": [
            "25145\n",
            "Time: 113.70s\n"
          ],
          "name": "stdout"
        }
      ]
    },
    {
      "cell_type": "code",
      "metadata": {
        "id": "VxwzB4hEsvcl",
        "colab": {
          "base_uri": "https://localhost:8080/"
        },
        "outputId": "61e179fd-6a83-4fc4-e4c0-1e67d1ed4c6c"
      },
      "source": [
        "# Getting probabilities for Test data\n",
        "t0 = time()\n",
        "res_test_df = (res_test_df.drop(kmeans_prob_col)\n",
        "               .join(getProbabilities(kmeans_test_df, kmeans_prob_col, kmeans_cluster_mapping, kmeans_cluster_models), 'id')\n",
        "               .cache())\n",
        "\n",
        "print(res_test_df.count())\n",
        "print(f\"Time: {time() - t0:.2f}s\")"
      ],
      "execution_count": null,
      "outputs": [
        {
          "output_type": "stream",
          "text": [
            "22544\n",
            "Time: 112.22s\n"
          ],
          "name": "stdout"
        }
      ]
    },
    {
      "cell_type": "code",
      "metadata": {
        "id": "f5AsdvbXzLcm",
        "colab": {
          "base_uri": "https://localhost:8080/"
        },
        "outputId": "9244127f-beb6-443d-f881-f3cd50ef5f5a"
      },
      "source": [
        "printReport(res_cv_df, kmeans_prob_col, e=0.5, labels=labels2)"
      ],
      "execution_count": null,
      "outputs": [
        {
          "output_type": "stream",
          "text": [
            "      \tnormal\tattack\t\n",
            "normal\t 13393\t    11\t\n",
            "attack\t    20\t 11721\t\n",
            " \n",
            "Accuracy = 0.998767\n",
            "AUC = 0.998738\n",
            " \n",
            "False Alarm Rate = 0.000820651\n",
            "Detection Rate = 0.998297\n",
            "F1 score = 0.998679\n",
            " \n",
            "              precision    recall  f1-score   support\n",
            "\n",
            "         0.0       1.00      1.00      1.00     13404\n",
            "         1.0       1.00      1.00      1.00     11741\n",
            "\n",
            "    accuracy                           1.00     25145\n",
            "   macro avg       1.00      1.00      1.00     25145\n",
            "weighted avg       1.00      1.00      1.00     25145\n",
            "\n",
            " \n"
          ],
          "name": "stdout"
        }
      ]
    },
    {
      "cell_type": "markdown",
      "metadata": {
        "id": "FvW16GsZKKjx"
      },
      "source": [
        "Because test data is from the different distribution and it is expected to face unseen attack types, it makes sence to adjust a probability threshold to something like 0.01 for attack connections (0.99 for normal connections). For this approach it gives around ~98-99% Detection Rate with around ~14-15% of False Alarm Rate."
      ]
    },
    {
      "cell_type": "code",
      "metadata": {
        "id": "TGafDMjgzq7E",
        "colab": {
          "base_uri": "https://localhost:8080/"
        },
        "outputId": "cfc1b410-1c1a-4921-fdd8-761b652c82e5"
      },
      "source": [
        "printReport(res_test_df, kmeans_prob_col, e=0.01, labels=labels2)"
      ],
      "execution_count": null,
      "outputs": [
        {
          "output_type": "stream",
          "text": [
            "      \tnormal\tattack\t\n",
            "normal\t  8191\t  1520\t\n",
            "attack\t    79\t 12754\t\n",
            " \n",
            "Accuracy = 0.929072\n",
            "AUC = 0.91866\n",
            " \n",
            "False Alarm Rate = 0.156524\n",
            "Detection Rate = 0.993844\n",
            "F1 score = 0.941012\n",
            " \n",
            "              precision    recall  f1-score   support\n",
            "\n",
            "         0.0       0.99      0.84      0.91      9711\n",
            "         1.0       0.89      0.99      0.94     12833\n",
            "\n",
            "    accuracy                           0.93     22544\n",
            "   macro avg       0.94      0.92      0.93     22544\n",
            "weighted avg       0.94      0.93      0.93     22544\n",
            "\n",
            " \n"
          ],
          "name": "stdout"
        }
      ]
    },
    {
      "cell_type": "code",
      "metadata": {
        "id": "6QKXUhBLzr5Y",
        "colab": {
          "base_uri": "https://localhost:8080/"
        },
        "outputId": "f0736cba-c1a5-49b0-8231-153fdb5ad35c"
      },
      "source": [
        "# Adding prediction columns based on chosen thresholds into result dataframes\n",
        "t0 = time()\n",
        "res_cv_df = res_cv_df.withColumn(kmeans_pred_col, getPrediction(0.5)(col(kmeans_prob_col))).cache()\n",
        "res_test_df = res_test_df.withColumn(kmeans_pred_col, getPrediction(0.01)(col(kmeans_prob_col))).cache()\n",
        "\n",
        "print(res_cv_df.count())\n",
        "print(res_test_df.count())\n",
        "print(f\"Time: {time() - t0:.2f}s\")"
      ],
      "execution_count": null,
      "outputs": [
        {
          "output_type": "stream",
          "text": [
            "25145\n",
            "22544\n",
            "Time: 211.35s\n"
          ],
          "name": "stdout"
        }
      ]
    },
    {
      "cell_type": "markdown",
      "metadata": {
        "id": "l7m4Tpgy0c-I"
      },
      "source": [
        "Gaussian Mixture clustering with Random Forest Classifiers\n"
      ]
    },
    {
      "cell_type": "markdown",
      "metadata": {
        "id": "_5TuCIlaKP98"
      },
      "source": [
        "The idea of this approach is to clusterize data into clusters via Gaussian Mixture and then train different Random Forest classifiers for each of the clusters. Gaussian Mixture produces a diffirent clustering than KMeans, so results from both approaches could be combine for improving performance. As Gaussian Mixture clustering doesn't work well on high-demensional data PCA algorithm is used for preprocessing."
      ]
    },
    {
      "cell_type": "code",
      "metadata": {
        "id": "Sg-UkQxj0FyW"
      },
      "source": [
        "gm_prob_col = 'gm_rf_prob'\n",
        "gm_pred_col = 'gm_rf_pred'\n",
        "\n",
        "prob_cols.append(gm_prob_col)\n",
        "pred_cols.append(gm_pred_col)"
      ],
      "execution_count": null,
      "outputs": []
    },
    {
      "cell_type": "code",
      "metadata": {
        "id": "1wRQgu-z1Pip",
        "colab": {
          "base_uri": "https://localhost:8080/"
        },
        "outputId": "d7bbdaa3-e516-4d09-b09b-dafa77872d71"
      },
      "source": [
        "# Gaussian Mixture clustering\n",
        "from pyspark.ml.clustering import GaussianMixture\n",
        "\n",
        "t0 = time()\n",
        "gm = GaussianMixture(k=8, maxIter=150, seed=seed, featuresCol=\"pca_features\", \n",
        "                     predictionCol=\"cluster\", probabilityCol=\"gm_prob\")\n",
        "\n",
        "gm_pipeline = Pipeline(stages=[pca_slicer, pca, gm])\n",
        "gm_model = gm_pipeline.fit(scaled_train_df)\n",
        "\n",
        "gm_train_df = gm_model.transform(scaled_train_df).cache()\n",
        "gm_cv_df = gm_model.transform(scaled_cv_df).cache()\n",
        "gm_test_df = gm_model.transform(scaled_test_df).cache()\n",
        "\n",
        "gm_params = (gm_model.stages[2].gaussiansDF.rdd\n",
        "                  .map(lambda row: [row['mean'].toArray(), row['cov'].toArray()])\n",
        "                  .collect())\n",
        "gm_weights = gm_model.stages[2].weights\n",
        "\n",
        "print(gm_train_df.count())\n",
        "print(gm_cv_df.count())\n",
        "print(gm_test_df.count())\n",
        "print(f\"Time: {time() - t0:.2f}s\")"
      ],
      "execution_count": null,
      "outputs": [
        {
          "output_type": "stream",
          "text": [
            "100828\n",
            "25145\n",
            "22544\n",
            "Time: 75.81s\n"
          ],
          "name": "stdout"
        }
      ]
    },
    {
      "cell_type": "code",
      "metadata": {
        "id": "tNbl1aO51UJZ",
        "colab": {
          "base_uri": "https://localhost:8080/"
        },
        "outputId": "3d94fab7-822c-4bb7-c8b8-447d09ebb133"
      },
      "source": [
        "# Description of the contents of the clusters \n",
        "gm_crosstab = getClusterCrosstab(gm_train_df).cache()\n",
        "gm_crosstab.show(n=30)"
      ],
      "execution_count": null,
      "outputs": [
        {
          "output_type": "stream",
          "text": [
            "+---------------+------+------+-----+\n",
            "|cluster_labels2|attack|normal|count|\n",
            "+---------------+------+------+-----+\n",
            "|              0|  3953|  4160| 8113|\n",
            "|              1|  2194|  5977| 8171|\n",
            "|              2|    10| 26068|26078|\n",
            "|              3|  3228| 15366|18594|\n",
            "|              4|  3907|     0| 3907|\n",
            "|              5|   927|    84| 1011|\n",
            "|              6| 22864|     0|22864|\n",
            "|              7|  9806|  2284|12090|\n",
            "+---------------+------+------+-----+\n",
            "\n"
          ],
          "name": "stdout"
        }
      ]
    },
    {
      "cell_type": "code",
      "metadata": {
        "id": "sB782YM21aRz",
        "colab": {
          "base_uri": "https://localhost:8080/"
        },
        "outputId": "5c524d99-1b7d-4727-89b2-0bf6cf19bd75"
      },
      "source": [
        "# Splitting clusters\n",
        "gm_cluster_rf, gm_cluster_mapping = splitClusters(gm_crosstab)\n",
        "\n",
        "print(len(gm_cluster_rf), len(gm_cluster_mapping))\n",
        "print(gm_cluster_mapping)\n",
        "gm_cluster_rf"
      ],
      "execution_count": null,
      "outputs": [
        {
          "output_type": "stream",
          "text": [
            "6 2\n",
            "{4: 1.0, 6: 1.0}\n"
          ],
          "name": "stdout"
        },
        {
          "output_type": "execute_result",
          "data": {
            "text/plain": [
              "{0: [8113, 0.4872426969061999],\n",
              " 1: [8171, 0.268510586219557],\n",
              " 2: [26078, 0.0003834649896464453],\n",
              " 3: [18594, 0.17360438851242335],\n",
              " 5: [1011, 0.9169139465875371],\n",
              " 7: [12090, 0.8110835401157982]}"
            ]
          },
          "metadata": {
            "tags": []
          },
          "execution_count": 95
        }
      ]
    },
    {
      "cell_type": "code",
      "metadata": {
        "id": "GPAEtn_r1rmW",
        "colab": {
          "base_uri": "https://localhost:8080/"
        },
        "outputId": "02f06922-d7ef-45c7-8ea6-eceec4ab05db"
      },
      "source": [
        "# Training Random Forest classifiers for each of the clusters\n",
        "t0 = time()\n",
        "gm_cluster_models = getClusterModels(gm_train_df, gm_cluster_rf)\n",
        "print(f\"Time: {time() - t0:.2f}s\")"
      ],
      "execution_count": null,
      "outputs": [
        {
          "output_type": "stream",
          "text": [
            "Finished 0 cluster in 110.298 s\n",
            "Finished 1 cluster in 207.022 s\n",
            "Finished 2 cluster in 34.4438 s\n",
            "Finished 3 cluster in 227.027 s\n",
            "Finished 5 cluster in 17.9328 s\n",
            "Finished 7 cluster in 92.6601 s\n",
            "Time: 689.39s\n"
          ],
          "name": "stdout"
        }
      ]
    },
    {
      "cell_type": "code",
      "metadata": {
        "id": "7DUGV3J41u1R",
        "colab": {
          "base_uri": "https://localhost:8080/"
        },
        "outputId": "c5bc85a2-01af-44b0-8f05-e845af9a1be9"
      },
      "source": [
        "# Getting probabilities for CV data\n",
        "t0 = time()\n",
        "res_cv_df = (res_cv_df.drop(gm_prob_col)\n",
        "             .join(getProbabilities(gm_cv_df, gm_prob_col, gm_cluster_mapping, gm_cluster_models), 'id')\n",
        "             .cache())\n",
        "\n",
        "print(res_cv_df.count())\n",
        "print(f\"Time: {time() - t0:.2f}s\")"
      ],
      "execution_count": null,
      "outputs": [
        {
          "output_type": "stream",
          "text": [
            "25145\n",
            "Time: 270.15s\n"
          ],
          "name": "stdout"
        }
      ]
    },
    {
      "cell_type": "code",
      "metadata": {
        "id": "eQCYHrXM1yny",
        "colab": {
          "base_uri": "https://localhost:8080/"
        },
        "outputId": "7f22f156-b5a3-4069-8215-71646b2125c6"
      },
      "source": [
        "# Getting probabilities for Test data\n",
        "t0 = time()\n",
        "res_test_df = (res_test_df.drop(gm_prob_col)\n",
        "               .join(getProbabilities(gm_test_df, gm_prob_col, gm_cluster_mapping, gm_cluster_models), 'id')\n",
        "               .cache())\n",
        "\n",
        "print(res_test_df.count())\n",
        "print(f\"Time: {time() - t0:.2f}s\")"
      ],
      "execution_count": null,
      "outputs": [
        {
          "output_type": "stream",
          "text": [
            "22544\n",
            "Time: 270.68s\n"
          ],
          "name": "stdout"
        }
      ]
    },
    {
      "cell_type": "code",
      "metadata": {
        "id": "05f72WUU12HA",
        "colab": {
          "base_uri": "https://localhost:8080/"
        },
        "outputId": "57cd1e17-717d-4a55-a0ad-aaa2c33c752d"
      },
      "source": [
        "printReport(res_cv_df, gm_prob_col, e=0.5, labels=labels2)"
      ],
      "execution_count": null,
      "outputs": [
        {
          "output_type": "stream",
          "text": [
            "      \tnormal\tattack\t\n",
            "normal\t 13395\t     9\t\n",
            "attack\t    25\t 11716\t\n",
            " \n",
            "Accuracy = 0.998648\n",
            "AUC = 0.9986\n",
            " \n",
            "False Alarm Rate = 0.000671441\n",
            "Detection Rate = 0.997871\n",
            "F1 score = 0.998551\n",
            " \n",
            "              precision    recall  f1-score   support\n",
            "\n",
            "         0.0       1.00      1.00      1.00     13404\n",
            "         1.0       1.00      1.00      1.00     11741\n",
            "\n",
            "    accuracy                           1.00     25145\n",
            "   macro avg       1.00      1.00      1.00     25145\n",
            "weighted avg       1.00      1.00      1.00     25145\n",
            "\n",
            " \n"
          ],
          "name": "stdout"
        }
      ]
    },
    {
      "cell_type": "code",
      "metadata": {
        "id": "tmHM0dzX17qM",
        "colab": {
          "base_uri": "https://localhost:8080/"
        },
        "outputId": "e1e71dd4-0c6c-46e2-f6e3-9cdf32e30eff"
      },
      "source": [
        "printReport(res_test_df, gm_prob_col, e=0.01, labels=labels2)"
      ],
      "execution_count": null,
      "outputs": [
        {
          "output_type": "stream",
          "text": [
            "      \tnormal\tattack\t\n",
            "normal\t  8311\t  1400\t\n",
            "attack\t   321\t 12512\t\n",
            " \n",
            "Accuracy = 0.92366\n",
            "AUC = 0.91541\n",
            " \n",
            "False Alarm Rate = 0.144166\n",
            "Detection Rate = 0.974986\n",
            "F1 score = 0.935652\n",
            " \n",
            "              precision    recall  f1-score   support\n",
            "\n",
            "         0.0       0.96      0.86      0.91      9711\n",
            "         1.0       0.90      0.97      0.94     12833\n",
            "\n",
            "    accuracy                           0.92     22544\n",
            "   macro avg       0.93      0.92      0.92     22544\n",
            "weighted avg       0.93      0.92      0.92     22544\n",
            "\n",
            " \n"
          ],
          "name": "stdout"
        }
      ]
    },
    {
      "cell_type": "code",
      "metadata": {
        "id": "7wDKj-D_1_Eh",
        "colab": {
          "base_uri": "https://localhost:8080/"
        },
        "outputId": "9644c99b-92af-41b8-e26a-1d36eb94ac88"
      },
      "source": [
        "# Adding prediction columns based on chosen thresholds into result dataframes\n",
        "t0 = time()\n",
        "res_cv_df = res_cv_df.withColumn(gm_pred_col, getPrediction(0.5)(col(gm_prob_col))).cache()\n",
        "res_test_df = res_test_df.withColumn(gm_pred_col, getPrediction(0.01)(col(gm_prob_col))).cache()\n",
        "\n",
        "print(res_cv_df.count())\n",
        "\n",
        "#print(res_test_df.count())\n",
        "print(f\"Time: {time() - t0:.2f}s\")"
      ],
      "execution_count": null,
      "outputs": [
        {
          "output_type": "stream",
          "text": [
            "25145\n",
            "Time: 159.83s\n"
          ],
          "name": "stdout"
        }
      ]
    },
    {
      "cell_type": "markdown",
      "metadata": {
        "id": "J0J8akPQlHpO"
      },
      "source": [
        "Supervised approach for dettecting each type of attacks separately\n",
        "\n",
        "The idea of the following approach is training Random Forest Classifiers for each of four major 'attack' categories separately.\n"
      ]
    },
    {
      "cell_type": "markdown",
      "metadata": {
        "id": "aeiVFnvfMEZ_"
      },
      "source": [
        "DoS and normal"
      ]
    },
    {
      "cell_type": "code",
      "metadata": {
        "id": "2evCYoq22CR-"
      },
      "source": [
        "dos_prob_col = 'dos_prob'\n",
        "dos_pred_col = 'dos_pred'\n",
        "\n",
        "prob_cols.append(dos_prob_col)\n",
        "pred_cols.append(dos_pred_col)"
      ],
      "execution_count": null,
      "outputs": []
    },
    {
      "cell_type": "code",
      "metadata": {
        "id": "tXXp9nIeLK--",
        "colab": {
          "base_uri": "https://localhost:8080/"
        },
        "outputId": "276ac6c2-505d-420d-c73f-f42ac6db046b"
      },
      "source": [
        "dos_exp = (col('labels5') == 'DoS') | (col('labels5') == 'normal')\n",
        "dos_train_df = (scaled_train_df.filter(dos_exp).cache())\n",
        "\n",
        "print(dos_train_df.count())\n",
        "(dos_train_df\n",
        "     .groupby('labels5')\n",
        "     .count()\n",
        "     .sort(sql.desc('count'))\n",
        "     .show())"
      ],
      "execution_count": null,
      "outputs": [
        {
          "output_type": "stream",
          "text": [
            "90661\n",
            "+-------+-----+\n",
            "|labels5|count|\n",
            "+-------+-----+\n",
            "| normal|53939|\n",
            "|    DoS|36722|\n",
            "+-------+-----+\n",
            "\n"
          ],
          "name": "stdout"
        }
      ]
    },
    {
      "cell_type": "code",
      "metadata": {
        "id": "H0l3a_n4LL2H",
        "colab": {
          "base_uri": "https://localhost:8080/"
        },
        "outputId": "ff382fca-7d34-4931-8761-deb5b0a1a741"
      },
      "source": [
        "t0 = time()\n",
        "dos_ar_dict = getAttributeRatio(train_df.filter(dos_exp), numeric_cols, binary_cols, 'labels5')\n",
        "\n",
        "print(f\"Time: {time() - t0:.2f}s\")\n",
        "dos_ar_dict"
      ],
      "execution_count": null,
      "outputs": [
        {
          "output_type": "stream",
          "text": [
            "Time: 28.24s\n"
          ],
          "name": "stdout"
        },
        {
          "output_type": "execute_result",
          "data": {
            "text/plain": [
              "OrderedDict([('flag_SF', 16.04886075949367),\n",
              "             ('protocol_type_tcp', 11.283230810377106),\n",
              "             ('flag_S0', 2.965034965034965),\n",
              "             ('wrong_fragment', 2.4663052235068696),\n",
              "             ('logged_in', 2.4559683875603),\n",
              "             ('dst_host_srv_serror_rate', 2.4369460592636014),\n",
              "             ('srv_serror_rate', 2.4091388710886883),\n",
              "             ('serror_rate', 2.403031496724026),\n",
              "             ('dst_host_serror_rate', 2.400741230991577),\n",
              "             ('count', 2.0805650842389314),\n",
              "             ('rerror_rate', 1.729470874459902),\n",
              "             ('srv_rerror_rate', 1.7274542811973763),\n",
              "             ('dst_host_srv_rerror_rate', 1.7208022988464688),\n",
              "             ('dst_host_rerror_rate', 1.7204184332241286),\n",
              "             ('num_failed_logins', 1.6819862494988345),\n",
              "             ('num_root', 1.6819862494988345),\n",
              "             ('urgent', 1.6819862494988342),\n",
              "             ('num_file_creations', 1.6819862494988342),\n",
              "             ('num_shells', 1.6819862494988342),\n",
              "             ('num_access_files', 1.6819862494988342),\n",
              "             ('duration', 1.6819438793516928),\n",
              "             ('num_compromised', 1.639589690499449),\n",
              "             ('dst_bytes', 1.6383223072580753),\n",
              "             ('srv_diff_host_rate', 1.635027252294015),\n",
              "             ('dst_host_srv_diff_host_rate', 1.6123221582570733),\n",
              "             ('src_bytes', 1.585158247265785),\n",
              "             ('dst_host_srv_count', 1.5359730763294566),\n",
              "             ('dst_host_same_srv_rate', 1.523983808504667),\n",
              "             ('hot', 1.5045374266320413),\n",
              "             ('diff_srv_rate', 1.4988971605166357),\n",
              "             ('same_srv_rate', 1.4819253849686713),\n",
              "             ('dst_host_same_src_port_rate', 1.3168437158004334),\n",
              "             ('dst_host_count', 1.30921165492205),\n",
              "             ('dst_host_diff_srv_rate', 1.3068775153420957),\n",
              "             ('service_http', 1.2988666621151088),\n",
              "             ('srv_count', 1.0994997402557993),\n",
              "             ('service_private', 0.5331486179730272),\n",
              "             ('protocol_type_udp', 0.22644739478045495),\n",
              "             ('service_domain_u', 0.15493320070658045),\n",
              "             ('flag_REJ', 0.14087341017488075),\n",
              "             ('service_smtp', 0.11654010677454654),\n",
              "             ('service_ftp_data', 0.07992430924164916),\n",
              "             ('protocol_type_icmp', 0.06608635097493036),\n",
              "             ('service_ecr_i', 0.06601211614790056),\n",
              "             ('service_other', 0.04022304947558659),\n",
              "             ('service_telnet', 0.02940715006163846),\n",
              "             ('flag_RSTO', 0.02719688667218358),\n",
              "             ('service_finger', 0.026095310440358364),\n",
              "             ('service_Z39_50', 0.018879226195758277),\n",
              "             ('service_uucp', 0.01702909783427078),\n",
              "             ('service_courier', 0.0160615915577089),\n",
              "             ('service_auth', 0.015544843445957898),\n",
              "             ('service_bgp', 0.0154550278588485),\n",
              "             ('service_uucp_path', 0.014938896377980597),\n",
              "             ('service_iso_tsap', 0.014916467780429593),\n",
              "             ('service_whois', 0.014804339660163068),\n",
              "             ('service_ftp', 0.013820097854723372),\n",
              "             ('service_nnsp', 0.013729168965897804),\n",
              "             ('service_imap4', 0.013729168965897804),\n",
              "             ('service_vmnet', 0.013371284834844774),\n",
              "             ('is_guest_login', 0.013133744546411915),\n",
              "             ('service_time', 0.012142983074753174),\n",
              "             ('service_ctf', 0.011853092158893123),\n",
              "             ('service_csnet_ns', 0.011741639864299247),\n",
              "             ('service_supdup', 0.011630212119209674),\n",
              "             ('service_http_443', 0.011518808915514052),\n",
              "             ('service_discard', 0.011451978769793203),\n",
              "             ('service_domain', 0.011184746471740902),\n",
              "             ('service_daytime', 0.01107344135258894),\n",
              "             ('service_gopher', 0.010672945733022314),\n",
              "             ('service_efs', 0.010517283108539242),\n",
              "             ('service_exec', 0.010228322555100963),\n",
              "             ('service_systat', 0.010117227879561),\n",
              "             ('service_link', 0.009983946517713808),\n",
              "             ('service_hostnames', 0.00982849604221636),\n",
              "             ('service_name', 0.009406800149453835),\n",
              "             ('service_klogin', 0.009340248780273395),\n",
              "             ('service_login', 0.009229349330872173),\n",
              "             ('service_mtp', 0.009140647316033486),\n",
              "             ('service_echo', 0.009140647316033486),\n",
              "             ('service_urp_i', 0.0089745894762076),\n",
              "             ('service_ldap', 0.008852473420613302),\n",
              "             ('service_netbios_dgm', 0.008608762490392005),\n",
              "             ('service_sunrpc', 0.00809956538917424),\n",
              "             ('service_netbios_ssn', 0.007657203036552723),\n",
              "             ('service_netstat', 0.0075466731018142726),\n",
              "             ('service_eco_i', 0.007434999850402417),\n",
              "             ('service_netbios_ns', 0.007369875633348687),\n",
              "             ('service_kshell', 0.006398597567656404),\n",
              "             ('service_nntp', 0.006156070630504316),\n",
              "             ('service_ssh', 0.006156070630504316),\n",
              "             ('flag_S1', 0.005389507628915231),\n",
              "             ('service_sql_net', 0.005099137742373178),\n",
              "             ('service_pop_3', 0.0027696293759399615),\n",
              "             ('service_IRC', 0.0027696293759399615),\n",
              "             ('service_ntp_u', 0.0025009304056568663),\n",
              "             ('flag_RSTR', 0.002172716043871006),\n",
              "             ('root_shell', 0.0020385084665059667),\n",
              "             ('flag_S2', 0.0017702011186481019),\n",
              "             ('service_pop_2', 0.0015264845061822622),\n",
              "             ('service_rje', 0.0014828059922806865),\n",
              "             ('service_printer', 0.0013517933064428214),\n",
              "             ('service_remote_job', 0.0013081300281247957),\n",
              "             ('service_shell', 0.0011553385359898854),\n",
              "             ('service_X11', 0.0009958974968785302),\n",
              "             ('flag_S3', 0.0006686677167226366),\n",
              "             ('land', 0.00039207998431680063),\n",
              "             ('su_attempted', 0.00029707529373319667),\n",
              "             ('flag_OTH', 0.00016336957167468663),\n",
              "             ('service_urh_i', 0.0001485155867108253),\n",
              "             ('service_red_i', 0.00011880894037276305),\n",
              "             ('service_tim_i', 7.425227954498203e-05),\n",
              "             ('service_tftp_u', 4.455004455004455e-05),\n",
              "             ('flag_SH', 2.969958866069705e-05),\n",
              "             ('is_host_login', 1.4849573817231445e-05),\n",
              "             ('service_http_2784', 0.0),\n",
              "             ('service_harvest', 0.0),\n",
              "             ('service_pm_dump', 0.0),\n",
              "             ('service_aol', 0.0),\n",
              "             ('service_http_8001', 0.0),\n",
              "             ('flag_RSTOS0', 0.0)])"
            ]
          },
          "metadata": {
            "tags": []
          },
          "execution_count": 105
        }
      ]
    },
    {
      "cell_type": "code",
      "metadata": {
        "id": "3gkaymgxLSkZ",
        "colab": {
          "base_uri": "https://localhost:8080/"
        },
        "outputId": "c96cba80-100a-45ed-9649-481d1cd3d5ed"
      },
      "source": [
        "t0 = time()\n",
        "dos_slicer = VectorSlicer(inputCol=\"indexed_features\", outputCol=\"features\", \n",
        "                          names=selectFeaturesByAR(dos_ar_dict, 0.05))\n",
        "\n",
        "dos_rf = RandomForestClassifier(labelCol=labels_col, featuresCol='features', featureSubsetStrategy='sqrt',\n",
        "                                numTrees=500, maxDepth=20, seed=seed)\n",
        "\n",
        "dos_rf_pipeline = Pipeline(stages=[dos_slicer, dos_rf])\n",
        "dos_rf_model = dos_rf_pipeline.fit(dos_train_df)\n",
        "\n",
        "dos_cv_df = dos_rf_model.transform(scaled_cv_df).cache()\n",
        "dos_test_df = dos_rf_model.transform(scaled_test_df).cache()\n",
        "print(dos_cv_df.count())\n",
        "print(dos_test_df.count())\n",
        "\n",
        "print(f\"Time: {time() - t0:.2f}s\")"
      ],
      "execution_count": null,
      "outputs": [
        {
          "output_type": "stream",
          "text": [
            "25145\n",
            "22544\n",
            "Time: 533.38s\n"
          ],
          "name": "stdout"
        }
      ]
    },
    {
      "cell_type": "code",
      "metadata": {
        "id": "SKW-jHFSLX4G",
        "colab": {
          "base_uri": "https://localhost:8080/"
        },
        "outputId": "1153876b-d431-45b8-dd60-9e5725c06242"
      },
      "source": [
        "# Getting probabilities for CV data\n",
        "t0 = time()\n",
        "res_cv_df = (res_cv_df.drop(dos_prob_col)\n",
        "             .join(dos_cv_df.rdd\n",
        "                    .map(lambda row: (row['id'], float(row['probability'][1])))\n",
        "                    .toDF(['id', dos_prob_col]),\n",
        "                    'id')\n",
        "                    .cache())\n",
        "\n",
        "print(res_cv_df.count())\n",
        "print(f\"Time: {time() - t0:.2f}s\")"
      ],
      "execution_count": null,
      "outputs": [
        {
          "output_type": "stream",
          "text": [
            "25145\n",
            "Time: 138.80s\n"
          ],
          "name": "stdout"
        }
      ]
    },
    {
      "cell_type": "code",
      "metadata": {
        "id": "EOAP5GYqLelU",
        "colab": {
          "base_uri": "https://localhost:8080/"
        },
        "outputId": "76d10e6e-9427-4eca-8f5b-363e90676a6c"
      },
      "source": [
        "# Getting probabilities for Test data\n",
        "t0 = time()\n",
        "res_test_df = (res_test_df.drop(dos_prob_col)\n",
        "               .join(dos_test_df.rdd\n",
        "                    .map(lambda row: (row['id'], float(row['probability'][1])))\n",
        "                    .toDF(['id', dos_prob_col]),\n",
        "                    'id')\n",
        "                    .cache())\n",
        "\n",
        "print(res_test_df.count())\n",
        "print(f\"Time: {time() - t0:.2f}s\")"
      ],
      "execution_count": null,
      "outputs": [
        {
          "output_type": "stream",
          "text": [
            "22544\n",
            "Time: 167.37s\n"
          ],
          "name": "stdout"
        }
      ]
    },
    {
      "cell_type": "code",
      "metadata": {
        "id": "1pv2NvIyLsmn",
        "colab": {
          "base_uri": "https://localhost:8080/"
        },
        "outputId": "b11b71ce-d139-4bdf-966c-97fd339a5c1d"
      },
      "source": [
        "printReport(res_cv_df.filter(dos_exp), probCol=dos_prob_col, e=0.5, labels=['normal', 'DoS'])\n",
        "printReport(res_cv_df, probCol=dos_prob_col, e=0.05)"
      ],
      "execution_count": null,
      "outputs": [
        {
          "output_type": "stream",
          "text": [
            "      \tnormal\t   DoS\t\n",
            "normal\t 13403\t     1\t\n",
            "   DoS\t     0\t  9205\t\n",
            " \n",
            "Accuracy = 0.999956\n",
            "AUC = 0.999963\n",
            " \n",
            "False Alarm Rate = 7.46046e-05\n",
            "Detection Rate = 1\n",
            "F1 score = 0.999946\n",
            " \n",
            "              precision    recall  f1-score   support\n",
            "\n",
            "         0.0       1.00      1.00      1.00     13404\n",
            "         1.0       1.00      1.00      1.00      9205\n",
            "\n",
            "    accuracy                           1.00     22609\n",
            "   macro avg       1.00      1.00      1.00     22609\n",
            "weighted avg       1.00      1.00      1.00     22609\n",
            "\n",
            " \n",
            "      \tnormal\tattack\t\n",
            "normal\t 13331\t    73\t\n",
            "attack\t   417\t 11324\t\n",
            " \n",
            "Accuracy = 0.980513\n",
            "AUC = 0.979519\n",
            " \n",
            "False Alarm Rate = 0.00544614\n",
            "Detection Rate = 0.964483\n",
            "F1 score = 0.978823\n",
            " \n",
            "              precision    recall  f1-score   support\n",
            "\n",
            "         0.0       0.97      0.99      0.98     13404\n",
            "         1.0       0.99      0.96      0.98     11741\n",
            "\n",
            "    accuracy                           0.98     25145\n",
            "   macro avg       0.98      0.98      0.98     25145\n",
            "weighted avg       0.98      0.98      0.98     25145\n",
            "\n",
            " \n"
          ],
          "name": "stdout"
        }
      ]
    },
    {
      "cell_type": "code",
      "metadata": {
        "id": "Abrwf1c-Lv5v",
        "colab": {
          "base_uri": "https://localhost:8080/"
        },
        "outputId": "3985a094-4cba-43c6-a9f2-94ff8694feb2"
      },
      "source": [
        "printReport(res_test_df.filter(dos_exp), probCol=dos_prob_col, e=0.5, labels=['normal', 'DoS'])\n",
        "printReport(res_test_df, probCol=dos_prob_col, e=0.01)"
      ],
      "execution_count": null,
      "outputs": [
        {
          "output_type": "stream",
          "text": [
            "      \tnormal\t   DoS\t\n",
            "normal\t  9633\t    78\t\n",
            "   DoS\t  1635\t  5823\t\n",
            " \n",
            "Accuracy = 0.900227\n",
            "AUC = 0.88637\n",
            " \n",
            "False Alarm Rate = 0.00803213\n",
            "Detection Rate = 0.780772\n",
            "F1 score = 0.871772\n",
            " \n",
            "              precision    recall  f1-score   support\n",
            "\n",
            "         0.0       0.85      0.99      0.92      9711\n",
            "         1.0       0.99      0.78      0.87      7458\n",
            "\n",
            "    accuracy                           0.90     17169\n",
            "   macro avg       0.92      0.89      0.90     17169\n",
            "weighted avg       0.91      0.90      0.90     17169\n",
            "\n",
            " \n",
            "      \tnormal\tattack\t\n",
            "normal\t  8745\t   966\t\n",
            "attack\t  2789\t 10044\t\n",
            " \n",
            "Accuracy = 0.833437\n",
            "AUC = 0.841597\n",
            " \n",
            "False Alarm Rate = 0.0994748\n",
            "Detection Rate = 0.78267\n",
            "F1 score = 0.842511\n",
            " \n",
            "              precision    recall  f1-score   support\n",
            "\n",
            "         0.0       0.76      0.90      0.82      9711\n",
            "         1.0       0.91      0.78      0.84     12833\n",
            "\n",
            "    accuracy                           0.83     22544\n",
            "   macro avg       0.84      0.84      0.83     22544\n",
            "weighted avg       0.85      0.83      0.83     22544\n",
            "\n",
            " \n"
          ],
          "name": "stdout"
        }
      ]
    },
    {
      "cell_type": "code",
      "metadata": {
        "id": "1MASzbPlL07D",
        "colab": {
          "base_uri": "https://localhost:8080/"
        },
        "outputId": "be9a45aa-801c-4fbc-e2a9-98f290c8bedf"
      },
      "source": [
        "# Adding prediction columns based on chosen thresholds into result dataframes\n",
        "t0 = time()\n",
        "res_cv_df = res_cv_df.withColumn(dos_pred_col, getPrediction(0.05)(col(dos_prob_col))).cache()\n",
        "res_test_df = res_test_df.withColumn(dos_pred_col, getPrediction(0.01)(col(dos_prob_col))).cache()\n",
        "\n",
        "print(res_cv_df.count())\n",
        "print(res_test_df.count())\n",
        "print(f\"Time: {time() - t0:.2f}s\")"
      ],
      "execution_count": null,
      "outputs": [
        {
          "output_type": "stream",
          "text": [
            "25145\n",
            "22544\n",
            "Time: 14.98s\n"
          ],
          "name": "stdout"
        }
      ]
    },
    {
      "cell_type": "markdown",
      "metadata": {
        "id": "uQ4Om0WML9B_"
      },
      "source": [
        " Probe and normal"
      ]
    },
    {
      "cell_type": "code",
      "metadata": {
        "id": "140xooLjL5cz"
      },
      "source": [
        "probe_prob_col = 'probe_prob'\n",
        "probe_pred_col = 'probe_pred'\n",
        "\n",
        "prob_cols.append(probe_prob_col)\n",
        "pred_cols.append(probe_pred_col)"
      ],
      "execution_count": null,
      "outputs": []
    },
    {
      "cell_type": "code",
      "metadata": {
        "id": "VPkHHIekMNcF",
        "colab": {
          "base_uri": "https://localhost:8080/"
        },
        "outputId": "c3a33137-90a8-4e0e-fde5-e68caf62cf7e"
      },
      "source": [
        "probe_exp = (col('labels5') == 'Probe') | (col('labels5') == 'normal')\n",
        "probe_train_df = (scaled_train_df.filter(probe_exp).cache())\n",
        "\n",
        "print(probe_train_df.count())\n",
        "(probe_train_df\n",
        "     .groupby('labels5')\n",
        "     .count()\n",
        "     .sort(sql.desc('count'))\n",
        "     .show())"
      ],
      "execution_count": null,
      "outputs": [
        {
          "output_type": "stream",
          "text": [
            "63278\n",
            "+-------+-----+\n",
            "|labels5|count|\n",
            "+-------+-----+\n",
            "| normal|53939|\n",
            "|  Probe| 9339|\n",
            "+-------+-----+\n",
            "\n"
          ],
          "name": "stdout"
        }
      ]
    },
    {
      "cell_type": "code",
      "metadata": {
        "id": "cUvz7tizMRwX",
        "colab": {
          "base_uri": "https://localhost:8080/"
        },
        "outputId": "a060da02-4479-4146-f396-2a1f30df70fe"
      },
      "source": [
        "t0 = time()\n",
        "probe_ar_dict = getAttributeRatio(train_df.filter(probe_exp), numeric_cols, binary_cols, 'labels5')\n",
        "\n",
        "print(f\"Time: {time() - t0:.2f}s\")\n",
        "probe_ar_dict"
      ],
      "execution_count": null,
      "outputs": [
        {
          "output_type": "stream",
          "text": [
            "Time: 18.64s\n"
          ],
          "name": "stdout"
        },
        {
          "output_type": "execute_result",
          "data": {
            "text/plain": [
              "OrderedDict([('flag_SF', 16.04886075949367),\n",
              "             ('dst_bytes', 5.954890189917854),\n",
              "             ('src_bytes', 5.663342453521275),\n",
              "             ('duration', 4.612329795738909),\n",
              "             ('dst_host_diff_srv_rate', 4.295388446518038),\n",
              "             ('srv_rerror_rate', 4.289248359824753),\n",
              "             ('rerror_rate', 4.279060093009581),\n",
              "             ('dst_host_srv_rerror_rate', 4.274560348159813),\n",
              "             ('diff_srv_rate', 4.111925438331699),\n",
              "             ('dst_host_rerror_rate', 4.008755744761299),\n",
              "             ('protocol_type_tcp', 3.900167357927672),\n",
              "             ('dst_host_srv_diff_host_rate', 3.761764380647146),\n",
              "             ('dst_host_srv_serror_rate', 3.5899755168448144),\n",
              "             ('dst_host_same_src_port_rate', 3.260144247441684),\n",
              "             ('serror_rate', 2.5392653643867047),\n",
              "             ('count', 2.520990695784333),\n",
              "             ('srv_serror_rate', 2.475062409348203),\n",
              "             ('logged_in', 2.4559683875603),\n",
              "             ('dst_host_serror_rate', 2.422128377779547),\n",
              "             ('srv_diff_host_rate', 1.9745638565439239),\n",
              "             ('service_http', 1.2988666621151088),\n",
              "             ('urgent', 1.1730840621890917),\n",
              "             ('num_access_files', 1.1730840621890917),\n",
              "             ('num_shells', 1.1730840621890914),\n",
              "             ('num_root', 1.1728674890158846),\n",
              "             ('num_compromised', 1.1728436409203076),\n",
              "             ('hot', 1.171650896218053),\n",
              "             ('num_file_creations', 1.1576487455813405),\n",
              "             ('dst_host_srv_count', 1.129554174884712),\n",
              "             ('num_failed_logins', 1.1247094616864488),\n",
              "             ('srv_count', 1.0980131509657178),\n",
              "             ('dst_host_same_srv_rate', 1.082859898411067),\n",
              "             ('same_srv_rate', 1.0432163005405286),\n",
              "             ('dst_host_count', 1.002234530632061),\n",
              "             ('service_private', 0.7252812314979278),\n",
              "             ('protocol_type_icmp', 0.5497939103842574),\n",
              "             ('service_eco_i', 0.5403726708074534),\n",
              "             ('flag_REJ', 0.3265050642995334),\n",
              "             ('flag_RSTR', 0.23005487547488393),\n",
              "             ('protocol_type_udp', 0.22644739478045495),\n",
              "             ('service_other', 0.16945921541085582),\n",
              "             ('service_domain_u', 0.15493320070658045),\n",
              "             ('service_smtp', 0.11654010677454654),\n",
              "             ('service_ftp_data', 0.07992430924164916),\n",
              "             ('flag_SH', 0.02326398033535247),\n",
              "             ('service_ftp', 0.013820097854723372),\n",
              "             ('service_telnet', 0.013804835455996147),\n",
              "             ('flag_S0', 0.013300878031817787),\n",
              "             ('is_guest_login', 0.013133744546411915),\n",
              "             ('service_urp_i', 0.0089745894762076),\n",
              "             ('flag_RSTOS0', 0.008915433220808448),\n",
              "             ('service_finger', 0.00815892691397946),\n",
              "             ('flag_RSTO', 0.006910850034554251),\n",
              "             ('flag_S1', 0.005389507628915231),\n",
              "             ('service_ecr_i', 0.0037027469215534315),\n",
              "             ('service_auth', 0.003516771722771097),\n",
              "             ('flag_OTH', 0.0030117890026675844),\n",
              "             ('service_gopher', 0.002839198141615762),\n",
              "             ('service_pop_3', 0.0027696293759399615),\n",
              "             ('service_IRC', 0.0027696293759399615),\n",
              "             ('service_ntp_u', 0.0025009304056568663),\n",
              "             ('service_time', 0.0023217817525152634),\n",
              "             ('service_ctf', 0.0021494282520849455),\n",
              "             ('service_ssh', 0.0021494282520849455),\n",
              "             ('root_shell', 0.0020385084665059667),\n",
              "             ('service_name', 0.001977134015301298),\n",
              "             ('service_mtp', 0.001977134015301298),\n",
              "             ('service_domain', 0.001977134015301298),\n",
              "             ('service_whois', 0.001977134015301298),\n",
              "             ('service_link', 0.0018048990116029222),\n",
              "             ('flag_S2', 0.0017702011186481019),\n",
              "             ('service_discard', 0.0015466575012888812),\n",
              "             ('service_daytime', 0.0015466575012888812),\n",
              "             ('service_echo', 0.0015466575012888812),\n",
              "             ('service_remote_job', 0.0015466575012888812),\n",
              "             ('service_rje', 0.0015466575012888812),\n",
              "             ('service_systat', 0.0014606065813214193),\n",
              "             ('service_supdup', 0.0013745704467353953),\n",
              "             ('service_netstat', 0.0013745704467353953),\n",
              "             ('service_nntp', 0.0012885490937204708),\n",
              "             ('service_uucp_path', 0.0011165507171691145),\n",
              "             ('service_netbios_dgm', 0.0011165507171691145),\n",
              "             ('service_netbios_ssn', 0.0011165507171691145),\n",
              "             ('service_hostnames', 0.0011165507171691145),\n",
              "             ('service_iso_tsap', 0.0010305736860185502),\n",
              "             ('service_sql_net', 0.0010305736860185502),\n",
              "             ('service_csnet_ns', 0.0010305736860185502),\n",
              "             ('service_sunrpc', 0.0010305736860185502),\n",
              "             ('service_X11', 0.0009958974968785302),\n",
              "             ('service_Z39_50', 0.0009446114212108201),\n",
              "             ('service_netbios_ns', 0.0009446114212108201),\n",
              "             ('service_vmnet', 0.0009446114212108201),\n",
              "             ('service_imap4', 0.0009446114212108201),\n",
              "             ('service_uucp', 0.0009446114212108201),\n",
              "             ('service_bgp', 0.0009446114212108201),\n",
              "             ('service_exec', 0.0007727311754099768),\n",
              "             ('service_courier', 0.0006868131868131869),\n",
              "             ('service_pop_2', 0.0006868131868131869),\n",
              "             ('service_nnsp', 0.0006868131868131869),\n",
              "             ('service_klogin', 0.0006868131868131869),\n",
              "             ('service_shell', 0.0006868131868131869),\n",
              "             ('flag_S3', 0.0006686677167226366),\n",
              "             ('service_ldap', 0.0006009099493518757),\n",
              "             ('service_login', 0.0006009099493518757),\n",
              "             ('service_kshell', 0.0006009099493518757),\n",
              "             ('service_efs', 0.0006009099493518757),\n",
              "             ('service_printer', 0.0006009099493518757),\n",
              "             ('service_http_443', 0.0006009099493518757),\n",
              "             ('service_pm_dump', 0.0004291477126426916),\n",
              "             ('su_attempted', 0.00029707529373319667),\n",
              "             ('service_harvest', 0.00017161489617298782),\n",
              "             ('service_aol', 0.00017161489617298782),\n",
              "             ('service_http_8001', 0.00017161489617298782),\n",
              "             ('service_urh_i', 0.0001485155867108253),\n",
              "             ('service_red_i', 0.00011880894037276305),\n",
              "             ('land', 0.00010395627895924914),\n",
              "             ('service_http_2784', 8.58000858000858e-05),\n",
              "             ('service_tim_i', 7.425227954498203e-05),\n",
              "             ('service_tftp_u', 4.455004455004455e-05),\n",
              "             ('is_host_login', 1.4849573817231445e-05),\n",
              "             ('wrong_fragment', 0.0)])"
            ]
          },
          "metadata": {
            "tags": []
          },
          "execution_count": 126
        }
      ]
    },
    {
      "cell_type": "code",
      "metadata": {
        "id": "rftJyERcMVyZ",
        "colab": {
          "base_uri": "https://localhost:8080/"
        },
        "outputId": "867c1620-2d2c-4da7-9560-7887cd9cdc54"
      },
      "source": [
        "t0 = time()\n",
        "probe_slicer = VectorSlicer(inputCol=\"indexed_features\", outputCol=\"features\",\n",
        "                            names=selectFeaturesByAR(probe_ar_dict, 0.05))\n",
        "\n",
        "probe_rf = RandomForestClassifier(labelCol=labels_col, featuresCol='features', featureSubsetStrategy='sqrt',\n",
        "                                  numTrees=500, maxDepth=20, seed=seed)\n",
        "probe_rf_pipeline = Pipeline(stages=[probe_slicer, probe_rf])\n",
        "\n",
        "probe_rf_model = probe_rf_pipeline.fit(probe_train_df)\n",
        "\n",
        "probe_cv_df = probe_rf_model.transform(scaled_cv_df).cache()\n",
        "probe_test_df = probe_rf_model.transform(scaled_test_df).cache()\n",
        "\n",
        "print(probe_cv_df.count())\n",
        "print(probe_test_df.count())\n",
        "print(f\"Time: {time() - t0:.2f}s\")"
      ],
      "execution_count": null,
      "outputs": [
        {
          "output_type": "stream",
          "text": [
            "25145\n",
            "22544\n",
            "Time: 668.47s\n"
          ],
          "name": "stdout"
        }
      ]
    },
    {
      "cell_type": "code",
      "metadata": {
        "id": "S5c0xtF1ManS",
        "colab": {
          "base_uri": "https://localhost:8080/"
        },
        "outputId": "0ad21184-e16e-4560-b210-103a84492249"
      },
      "source": [
        "# Getting probabilities for CV data\n",
        "t0 = time()\n",
        "res_cv_df = (res_cv_df.drop(probe_prob_col)\n",
        "             .join(probe_cv_df.rdd\n",
        "                    .map(lambda row: (row['id'], float(row['probability'][1])))\n",
        "                    .toDF(['id', probe_prob_col]), 'id')\n",
        "                    .cache())\n",
        "\n",
        "print(res_cv_df.count())\n",
        "print(f\"Time: {time() - t0:.2f}s\")"
      ],
      "execution_count": null,
      "outputs": [
        {
          "output_type": "stream",
          "text": [
            "25145\n",
            "Time: 20.71s\n"
          ],
          "name": "stdout"
        }
      ]
    },
    {
      "cell_type": "code",
      "metadata": {
        "id": "VHCc5wcPMf0Y",
        "colab": {
          "base_uri": "https://localhost:8080/"
        },
        "outputId": "406fa67d-1a96-4e17-fd1d-a11ff66fb6f7"
      },
      "source": [
        "# Getting probabilities for Test data\n",
        "t0 = time()\n",
        "res_test_df = (res_test_df.drop(probe_prob_col)\n",
        "               .join(probe_test_df.rdd\n",
        "                    .map(lambda row: (row['id'], float(row['probability'][1])))\n",
        "                    .toDF(['id', probe_prob_col]), 'id')\n",
        "                    .cache())\n",
        "\n",
        "print(res_test_df.count())\n",
        "print(f\"Time: {time() - t0:.2f}s\")"
      ],
      "execution_count": null,
      "outputs": [
        {
          "output_type": "stream",
          "text": [
            "22544\n",
            "Time: 18.78s\n"
          ],
          "name": "stdout"
        }
      ]
    },
    {
      "cell_type": "code",
      "metadata": {
        "id": "lzThq23bMkj_",
        "colab": {
          "base_uri": "https://localhost:8080/"
        },
        "outputId": "7bd301f7-d427-4151-e969-76b7ef8a6e2e"
      },
      "source": [
        "printReport(res_cv_df.filter(probe_exp), probCol=probe_prob_col, e=0.5, labels=['normal', 'Probe'])\n",
        "printReport(res_cv_df, probCol=probe_prob_col, e=0.05)"
      ],
      "execution_count": null,
      "outputs": [
        {
          "output_type": "stream",
          "text": [
            "      \tnormal\t Probe\t\n",
            "normal\t 13398\t     6\t\n",
            " Probe\t    14\t  2303\t\n",
            " \n",
            "Accuracy = 0.998728\n",
            "AUC = 0.996755\n",
            " \n",
            "False Alarm Rate = 0.000447628\n",
            "Detection Rate = 0.993958\n",
            "F1 score = 0.995677\n",
            " \n",
            "              precision    recall  f1-score   support\n",
            "\n",
            "         0.0       1.00      1.00      1.00     13404\n",
            "         1.0       1.00      0.99      1.00      2317\n",
            "\n",
            "    accuracy                           1.00     15721\n",
            "   macro avg       1.00      1.00      1.00     15721\n",
            "weighted avg       1.00      1.00      1.00     15721\n",
            "\n",
            " \n",
            "      \tnormal\tattack\t\n",
            "normal\t 13233\t   171\t\n",
            "attack\t   435\t 11306\t\n",
            " \n",
            "Accuracy = 0.9759\n",
            "AUC = 0.975096\n",
            " \n",
            "False Alarm Rate = 0.0127574\n",
            "Detection Rate = 0.96295\n",
            "F1 score = 0.9739\n",
            " \n",
            "              precision    recall  f1-score   support\n",
            "\n",
            "         0.0       0.97      0.99      0.98     13404\n",
            "         1.0       0.99      0.96      0.97     11741\n",
            "\n",
            "    accuracy                           0.98     25145\n",
            "   macro avg       0.98      0.98      0.98     25145\n",
            "weighted avg       0.98      0.98      0.98     25145\n",
            "\n",
            " \n"
          ],
          "name": "stdout"
        }
      ]
    },
    {
      "cell_type": "code",
      "metadata": {
        "id": "9xVA86C5MnvQ",
        "colab": {
          "base_uri": "https://localhost:8080/"
        },
        "outputId": "614a506b-778a-42a0-abfc-194b40eb11d4"
      },
      "source": [
        "printReport(res_test_df.filter(probe_exp), probCol=probe_prob_col, e=0.5, labels=['normal', 'Probe'])\n",
        "printReport(res_test_df, probCol=probe_prob_col, e=0.01)"
      ],
      "execution_count": null,
      "outputs": [
        {
          "output_type": "stream",
          "text": [
            "      \tnormal\t Probe\t\n",
            "normal\t  9496\t   215\t\n",
            " Probe\t   979\t  1442\t\n",
            " \n",
            "Accuracy = 0.901583\n",
            "AUC = 0.786741\n",
            " \n",
            "False Alarm Rate = 0.0221398\n",
            "Detection Rate = 0.595622\n",
            "F1 score = 0.707209\n",
            " \n",
            "              precision    recall  f1-score   support\n",
            "\n",
            "         0.0       0.91      0.98      0.94      9711\n",
            "         1.0       0.87      0.60      0.71      2421\n",
            "\n",
            "    accuracy                           0.90     12132\n",
            "   macro avg       0.89      0.79      0.82     12132\n",
            "weighted avg       0.90      0.90      0.89     12132\n",
            "\n",
            " \n",
            "      \tnormal\tattack\t\n",
            "normal\t  8393\t  1318\t\n",
            "attack\t  1538\t 11295\t\n",
            " \n",
            "Accuracy = 0.873314\n",
            "AUC = 0.872215\n",
            " \n",
            "False Alarm Rate = 0.135722\n",
            "Detection Rate = 0.880153\n",
            "F1 score = 0.887762\n",
            " \n",
            "              precision    recall  f1-score   support\n",
            "\n",
            "         0.0       0.85      0.86      0.85      9711\n",
            "         1.0       0.90      0.88      0.89     12833\n",
            "\n",
            "    accuracy                           0.87     22544\n",
            "   macro avg       0.87      0.87      0.87     22544\n",
            "weighted avg       0.87      0.87      0.87     22544\n",
            "\n",
            " \n"
          ],
          "name": "stdout"
        }
      ]
    },
    {
      "cell_type": "code",
      "metadata": {
        "id": "Hl2S0YwgMrmS",
        "colab": {
          "base_uri": "https://localhost:8080/"
        },
        "outputId": "c035ff38-7764-433e-be4f-61fd3096da52"
      },
      "source": [
        "# Adding prediction columns based on chosen thresholds into result dataframes\n",
        "t0 = time()\n",
        "res_cv_df = res_cv_df.withColumn(probe_pred_col, getPrediction(0.05)(col(probe_prob_col))).cache()\n",
        "res_test_df = res_test_df.withColumn(probe_pred_col, getPrediction(0.01)(col(probe_prob_col))).cache()\n",
        "\n",
        "print(res_cv_df.count())\n",
        "print(res_test_df.count())\n",
        "print(f\"Time: {time() - t0:.2f}s\")"
      ],
      "execution_count": null,
      "outputs": [
        {
          "output_type": "stream",
          "text": [
            "25145\n",
            "22544\n",
            "Time: 21.86s\n"
          ],
          "name": "stdout"
        }
      ]
    },
    {
      "cell_type": "markdown",
      "metadata": {
        "id": "qnchV6k9MzD2"
      },
      "source": [
        "R2L, U2R and normal types"
      ]
    },
    {
      "cell_type": "code",
      "metadata": {
        "id": "nc69UmfhMvCJ"
      },
      "source": [
        "r2l_u2r_prob_col = 'r2l_u2r_prob'\n",
        "r2l_u2r_pred_col = 'r2l_u2r_pred'\n",
        "\n",
        "prob_cols.append(r2l_u2r_prob_col)\n",
        "pred_cols.append(r2l_u2r_pred_col)"
      ],
      "execution_count": null,
      "outputs": []
    },
    {
      "cell_type": "code",
      "metadata": {
        "id": "FA66CaiRPLA_",
        "colab": {
          "base_uri": "https://localhost:8080/"
        },
        "outputId": "91b2abae-ec11-42a6-b259-322a70138b53"
      },
      "source": [
        "r2l_u2r_exp = (col('labels5') == 'R2L') | (col('labels5') == 'U2R') | (col('labels5') == 'normal')\n",
        "r2l_u2r_train_df = (scaled_train_df.filter(r2l_u2r_exp).cache())\n",
        "\n",
        "print(r2l_u2r_train_df.count())\n",
        "(r2l_u2r_train_df\n",
        "     .groupby('labels5')\n",
        "     .count()\n",
        "     .sort(sql.desc('count'))\n",
        "     .show())"
      ],
      "execution_count": null,
      "outputs": [
        {
          "output_type": "stream",
          "text": [
            "54767\n",
            "+-------+-----+\n",
            "|labels5|count|\n",
            "+-------+-----+\n",
            "| normal|53939|\n",
            "|    R2L|  782|\n",
            "|    U2R|   46|\n",
            "+-------+-----+\n",
            "\n"
          ],
          "name": "stdout"
        }
      ]
    },
    {
      "cell_type": "code",
      "metadata": {
        "id": "t7ufZxQ-PPcD",
        "colab": {
          "base_uri": "https://localhost:8080/"
        },
        "outputId": "bb546211-2139-4f67-ea7f-97661a8720ee"
      },
      "source": [
        "t0 = time()\n",
        "r2l_u2r_ar_dict = getAttributeRatio(train_df.filter(r2l_u2r_exp), numeric_cols, binary_cols, 'labels5')\n",
        "\n",
        "print(f\"Time: {time() - t0:.2f}s\")\n",
        "r2l_u2r_ar_dict"
      ],
      "execution_count": null,
      "outputs": [
        {
          "output_type": "stream",
          "text": [
            "Time: 24.34s\n"
          ],
          "name": "stdout"
        },
        {
          "output_type": "execute_result",
          "data": {
            "text/plain": [
              "OrderedDict([('protocol_type_tcp', 1000.0),\n",
              "             ('num_shells', 177.04511834319524),\n",
              "             ('urgent', 93.9423076923077),\n",
              "             ('flag_SF', 51.0),\n",
              "             ('num_file_creations', 34.215028309254194),\n",
              "             ('num_failed_logins', 25.660569514237856),\n",
              "             ('hot', 23.850718086856727),\n",
              "             ('src_bytes', 17.67531409051069),\n",
              "             ('dst_bytes', 14.991946554922052),\n",
              "             ('logged_in', 10.569767441860465),\n",
              "             ('dst_host_same_src_port_rate', 4.6280053915595785),\n",
              "             ('duration', 3.6136716211332516),\n",
              "             ('dst_host_srv_diff_host_rate', 3.186499677327565),\n",
              "             ('serror_rate', 2.8336950817010025),\n",
              "             ('dst_host_srv_serror_rate', 2.550033066061569),\n",
              "             ('num_access_files', 2.5488223017292784),\n",
              "             ('num_compromised', 2.416504765066944),\n",
              "             ('diff_srv_rate', 2.2340127157717946),\n",
              "             ('service_telnet', 1.8888888888888888),\n",
              "             ('dst_host_serror_rate', 1.6957954188400486),\n",
              "             ('service_ftp_data', 1.5447570332480818),\n",
              "             ('num_root', 1.4167490243394714),\n",
              "             ('service_http', 1.2988666621151088),\n",
              "             ('rerror_rate', 1.1689013372512598),\n",
              "             ('srv_rerror_rate', 1.1637508327448693),\n",
              "             ('dst_host_rerror_rate', 1.0957297788537126),\n",
              "             ('dst_host_srv_rerror_rate', 1.059242501878443),\n",
              "             ('same_srv_rate', 1.0277652952510852),\n",
              "             ('count', 1.0144815637217448),\n",
              "             ('srv_count', 1.0141813848818528),\n",
              "             ('srv_diff_host_rate', 1.013512607275963),\n",
              "             ('dst_host_srv_count', 1.0121712135809817),\n",
              "             ('dst_host_diff_srv_rate', 1.0068745777366659),\n",
              "             ('dst_host_count', 1.0063161527990898),\n",
              "             ('srv_serror_rate', 1.00201435928576),\n",
              "             ('dst_host_same_srv_rate', 1.0015453739903877),\n",
              "             ('root_shell', 1.0),\n",
              "             ('is_guest_login', 0.45894428152492667),\n",
              "             ('service_ftp', 0.4568081991215227),\n",
              "             ('protocol_type_udp', 0.22644739478045495),\n",
              "             ('service_domain_u', 0.15493320070658045),\n",
              "             ('service_smtp', 0.11654010677454654),\n",
              "             ('service_other', 0.061224489795918366),\n",
              "             ('flag_RSTO', 0.04847207586933614),\n",
              "             ('flag_REJ', 0.04165506573859242),\n",
              "             ('protocol_type_icmp', 0.019823121422297606),\n",
              "             ('service_private', 0.014797848133692983),\n",
              "             ('service_imap4', 0.011178861788617886),\n",
              "             ('service_urp_i', 0.0089745894762076),\n",
              "             ('service_finger', 0.00815892691397946),\n",
              "             ('service_eco_i', 0.007434999850402417),\n",
              "             ('flag_S1', 0.005389507628915231),\n",
              "             ('flag_S0', 0.005284449685769305),\n",
              "             ('flag_RSTR', 0.005050505050505051),\n",
              "             ('flag_SH', 0.004036326942482341),\n",
              "             ('service_auth', 0.003516771722771097),\n",
              "             ('flag_S3', 0.0030241935483870967),\n",
              "             ('service_ecr_i', 0.002829359820112281),\n",
              "             ('service_pop_3', 0.0027696293759399615),\n",
              "             ('service_IRC', 0.0027696293759399615),\n",
              "             ('service_ntp_u', 0.0025009304056568663),\n",
              "             ('service_login', 0.002014098690835851),\n",
              "             ('flag_S2', 0.0017702011186481019),\n",
              "             ('service_time', 0.0011298259176119047),\n",
              "             ('su_attempted', 0.001006036217303823),\n",
              "             ('service_X11', 0.0009958974968785302),\n",
              "             ('service_domain', 0.0005645940123319218),\n",
              "             ('flag_OTH', 0.00016336957167468663),\n",
              "             ('service_urh_i', 0.0001485155867108253),\n",
              "             ('service_red_i', 0.00011880894037276305),\n",
              "             ('land', 0.00010395627895924914),\n",
              "             ('service_tim_i', 7.425227954498203e-05),\n",
              "             ('service_ssh', 7.425227954498203e-05),\n",
              "             ('service_shell', 5.940094150492285e-05),\n",
              "             ('service_tftp_u', 4.455004455004455e-05),\n",
              "             ('is_host_login', 1.4849573817231445e-05),\n",
              "             ('wrong_fragment', 0.0),\n",
              "             ('service_iso_tsap', 0.0),\n",
              "             ('service_systat', 0.0),\n",
              "             ('service_name', 0.0),\n",
              "             ('service_sql_net', 0.0),\n",
              "             ('service_ldap', 0.0),\n",
              "             ('service_discard', 0.0),\n",
              "             ('service_Z39_50', 0.0),\n",
              "             ('service_daytime', 0.0),\n",
              "             ('service_http_2784', 0.0),\n",
              "             ('service_mtp', 0.0),\n",
              "             ('service_harvest', 0.0),\n",
              "             ('service_link', 0.0),\n",
              "             ('service_courier', 0.0),\n",
              "             ('service_kshell', 0.0),\n",
              "             ('service_pop_2', 0.0),\n",
              "             ('service_exec', 0.0),\n",
              "             ('service_efs', 0.0),\n",
              "             ('service_nnsp', 0.0),\n",
              "             ('service_pm_dump', 0.0),\n",
              "             ('service_whois', 0.0),\n",
              "             ('service_nntp', 0.0),\n",
              "             ('service_netbios_ns', 0.0),\n",
              "             ('service_aol', 0.0),\n",
              "             ('service_klogin', 0.0),\n",
              "             ('service_uucp_path', 0.0),\n",
              "             ('service_vmnet', 0.0),\n",
              "             ('service_ctf', 0.0),\n",
              "             ('service_supdup', 0.0),\n",
              "             ('service_http_8001', 0.0),\n",
              "             ('service_netbios_dgm', 0.0),\n",
              "             ('service_printer', 0.0),\n",
              "             ('service_netbios_ssn', 0.0),\n",
              "             ('service_csnet_ns', 0.0),\n",
              "             ('service_hostnames', 0.0),\n",
              "             ('service_sunrpc', 0.0),\n",
              "             ('service_http_443', 0.0),\n",
              "             ('service_echo', 0.0),\n",
              "             ('service_netstat', 0.0),\n",
              "             ('service_remote_job', 0.0),\n",
              "             ('service_gopher', 0.0),\n",
              "             ('service_uucp', 0.0),\n",
              "             ('service_rje', 0.0),\n",
              "             ('service_bgp', 0.0),\n",
              "             ('flag_RSTOS0', 0.0)])"
            ]
          },
          "metadata": {
            "tags": []
          },
          "execution_count": 123
        }
      ]
    },
    {
      "cell_type": "code",
      "metadata": {
        "id": "4SNIBZtxPTNE",
        "colab": {
          "base_uri": "https://localhost:8080/"
        },
        "outputId": "19f86b98-dc82-4bd5-d30a-7e6f257ea34f"
      },
      "source": [
        "t0 = time()\n",
        "r2l_u2r_slicer = VectorSlicer(inputCol=\"indexed_features\", outputCol=\"features\",\n",
        "                              names=selectFeaturesByAR(r2l_u2r_ar_dict, 0.05))\n",
        "\n",
        "r2l_u2r_rf = RandomForestClassifier(labelCol=labels_col, featuresCol='features', featureSubsetStrategy='sqrt',\n",
        "                                    numTrees=500, maxDepth=20, seed=seed)\n",
        "r2l_u2r_rf_pipeline = Pipeline(stages=[r2l_u2r_slicer, r2l_u2r_rf])\n",
        "\n",
        "r2l_u2r_rf_model = r2l_u2r_rf_pipeline.fit(r2l_u2r_train_df)\n",
        "\n",
        "r2l_u2r_cv_df = r2l_u2r_rf_model.transform(scaled_cv_df).cache()\n",
        "r2l_u2r_test_df = r2l_u2r_rf_model.transform(scaled_test_df).cache()\n",
        "print(r2l_u2r_cv_df.count())\n",
        "print(r2l_u2r_test_df.count())\n",
        "\n",
        "print(f\"Time: {time() - t0:.2f}s\")"
      ],
      "execution_count": null,
      "outputs": [
        {
          "output_type": "stream",
          "text": [
            "25145\n",
            "22544\n",
            "Time: 584.78s\n"
          ],
          "name": "stdout"
        }
      ]
    },
    {
      "cell_type": "code",
      "metadata": {
        "id": "KYr8yaCsPX-Z",
        "colab": {
          "base_uri": "https://localhost:8080/"
        },
        "outputId": "5b5bd195-2f72-48f8-bfb3-015c4e8531ce"
      },
      "source": [
        "# Getting probabilities for CV data\n",
        "t0 = time()\n",
        "res_cv_df = (res_cv_df.drop(r2l_u2r_prob_col)\n",
        "             .join(r2l_u2r_cv_df.rdd\n",
        "                    .map(lambda row: (row['id'], float(row['probability'][1])))\n",
        "                    .toDF(['id', r2l_u2r_prob_col]), 'id')\n",
        "                    .cache())\n",
        "\n",
        "print(res_cv_df.count())\n",
        "print(f\"Time: {time() - t0:.2f}s\")"
      ],
      "execution_count": null,
      "outputs": [
        {
          "output_type": "stream",
          "text": [
            "25145\n",
            "Time: 23.16s\n"
          ],
          "name": "stdout"
        }
      ]
    },
    {
      "cell_type": "code",
      "metadata": {
        "id": "_nfOkdzbPbDc",
        "colab": {
          "base_uri": "https://localhost:8080/"
        },
        "outputId": "3dd0221d-3d7c-42b5-9aff-b88d6c538e3f"
      },
      "source": [
        "# Getting probabilities for Test data\n",
        "t0 = time()\n",
        "res_test_df = (res_test_df.drop(r2l_u2r_prob_col)\n",
        "               .join(r2l_u2r_test_df.rdd\n",
        "                    .map(lambda row: (row['id'], float(row['probability'][1])))\n",
        "                    .toDF(['id', r2l_u2r_prob_col]), 'id')\n",
        "                    .cache())\n",
        "\n",
        "print(res_test_df.count())\n",
        "print(f\"Time: {time() - t0:.2f}s\")"
      ],
      "execution_count": null,
      "outputs": [
        {
          "output_type": "stream",
          "text": [
            "22544\n",
            "Time: 22.28s\n"
          ],
          "name": "stdout"
        }
      ]
    },
    {
      "cell_type": "code",
      "metadata": {
        "id": "bvu9K6WxPdpp",
        "colab": {
          "base_uri": "https://localhost:8080/"
        },
        "outputId": "4ff79064-5254-4039-a989-f8840d2baa49"
      },
      "source": [
        "printReport(res_cv_df.filter(r2l_u2r_exp), probCol=r2l_u2r_prob_col, e=0.5, labels=['normal', 'R2L&U2R'])\n",
        "printReport(res_cv_df, probCol=r2l_u2r_prob_col, e=0.05, labels=labels2)"
      ],
      "execution_count": null,
      "outputs": [
        {
          "output_type": "stream",
          "text": [
            "       \t normal\tR2L&U2R\t\n",
            " normal\t  13403\t      1\t\n",
            "R2L&U2R\t      9\t    210\t\n",
            " \n",
            "Accuracy = 0.999266\n",
            "AUC = 0.979415\n",
            " \n",
            "False Alarm Rate = 7.46046e-05\n",
            "Detection Rate = 0.958904\n",
            "F1 score = 0.976744\n",
            " \n",
            "              precision    recall  f1-score   support\n",
            "\n",
            "         0.0       1.00      1.00      1.00     13404\n",
            "         1.0       1.00      0.96      0.98       219\n",
            "\n",
            "    accuracy                           1.00     13623\n",
            "   macro avg       1.00      0.98      0.99     13623\n",
            "weighted avg       1.00      1.00      1.00     13623\n",
            "\n",
            " \n",
            "      \tnormal\tattack\t\n",
            "normal\t 13354\t    50\t\n",
            "attack\t  4624\t  7117\t\n",
            " \n",
            "Accuracy = 0.814118\n",
            "AUC = 0.801218\n",
            " \n",
            "False Alarm Rate = 0.00373023\n",
            "Detection Rate = 0.606166\n",
            "F1 score = 0.752803\n",
            " \n",
            "              precision    recall  f1-score   support\n",
            "\n",
            "         0.0       0.74      1.00      0.85     13404\n",
            "         1.0       0.99      0.61      0.75     11741\n",
            "\n",
            "    accuracy                           0.81     25145\n",
            "   macro avg       0.87      0.80      0.80     25145\n",
            "weighted avg       0.86      0.81      0.81     25145\n",
            "\n",
            " \n"
          ],
          "name": "stdout"
        }
      ]
    },
    {
      "cell_type": "code",
      "metadata": {
        "id": "X1L65KHiPhDy",
        "colab": {
          "base_uri": "https://localhost:8080/"
        },
        "outputId": "dee0cfd3-2c3a-484b-8fb4-1d3c41a8ff2e"
      },
      "source": [
        "printReport(res_test_df.filter(r2l_u2r_exp), probCol=r2l_u2r_prob_col, e=0.5, labels=['normal', 'R2L&U2R'])\n",
        "printReport(res_test_df, probCol=r2l_u2r_prob_col, e=0.01, labels=labels2)"
      ],
      "execution_count": null,
      "outputs": [
        {
          "output_type": "stream",
          "text": [
            "       \t normal\tR2L&U2R\t\n",
            " normal\t   9710\t      1\t\n",
            "R2L&U2R\t   2739\t    215\t\n",
            " \n",
            "Accuracy = 0.783656\n",
            "AUC = 0.53634\n",
            " \n",
            "False Alarm Rate = 0.000102976\n",
            "Detection Rate = 0.0727827\n",
            "F1 score = 0.135647\n",
            " \n",
            "              precision    recall  f1-score   support\n",
            "\n",
            "         0.0       0.78      1.00      0.88      9711\n",
            "         1.0       1.00      0.07      0.14      2954\n",
            "\n",
            "    accuracy                           0.78     12665\n",
            "   macro avg       0.89      0.54      0.51     12665\n",
            "weighted avg       0.83      0.78      0.70     12665\n",
            "\n",
            " \n",
            "      \tnormal\tattack\t\n",
            "normal\t  9380\t   331\t\n",
            "attack\t  5621\t  7212\t\n",
            " \n",
            "Accuracy = 0.735983\n",
            "AUC = 0.763952\n",
            " \n",
            "False Alarm Rate = 0.0340851\n",
            "Detection Rate = 0.561989\n",
            "F1 score = 0.707892\n",
            " \n",
            "              precision    recall  f1-score   support\n",
            "\n",
            "         0.0       0.63      0.97      0.76      9711\n",
            "         1.0       0.96      0.56      0.71     12833\n",
            "\n",
            "    accuracy                           0.74     22544\n",
            "   macro avg       0.79      0.76      0.73     22544\n",
            "weighted avg       0.81      0.74      0.73     22544\n",
            "\n",
            " \n"
          ],
          "name": "stdout"
        }
      ]
    },
    {
      "cell_type": "code",
      "metadata": {
        "id": "HcFqaqm6PozJ",
        "colab": {
          "base_uri": "https://localhost:8080/"
        },
        "outputId": "1a44dbcc-64e0-4419-de4f-5a5115f9ca2a"
      },
      "source": [
        "# Adding prediction columns based on chosen thresholds into result dataframes\n",
        "t0 = time()\n",
        "res_cv_df = res_cv_df.withColumn(r2l_u2r_pred_col, getPrediction(0.05)(col(r2l_u2r_prob_col))).cache()\n",
        "res_test_df = res_test_df.withColumn(r2l_u2r_pred_col, getPrediction(0.01)(col(r2l_u2r_prob_col))).cache()\n",
        "\n",
        "print(res_cv_df.count())\n",
        "print(res_test_df.count())\n",
        "print(f\"Time: {time() - t0:.2f}s\")"
      ],
      "execution_count": null,
      "outputs": [
        {
          "output_type": "stream",
          "text": [
            "25145\n",
            "22544\n",
            "Time: 21.89s\n"
          ],
          "name": "stdout"
        }
      ]
    },
    {
      "cell_type": "markdown",
      "metadata": {
        "id": "R34l7uOOQYiB"
      },
      "source": [
        "combining result"
      ]
    },
    {
      "cell_type": "code",
      "metadata": {
        "id": "86St5OjBPsP-"
      },
      "source": [
        "sup_prob_col = 'sup_prob'\n",
        "sup_pred_col = 'sup_pred'\n",
        "\n",
        "prob_cols.append(sup_prob_col)\n",
        "pred_cols.append(sup_pred_col)"
      ],
      "execution_count": null,
      "outputs": []
    },
    {
      "cell_type": "code",
      "metadata": {
        "id": "hVnGzJvOPu4-",
        "colab": {
          "base_uri": "https://localhost:8080/"
        },
        "outputId": "68338f62-3da3-45c1-d2b1-a5a30531b7a6"
      },
      "source": [
        "res_cv_df = res_cv_df.withColumn(sup_prob_col, \n",
        "                                 (col(dos_prob_col) + col(probe_prob_col) + col(r2l_u2r_prob_col))/3).cache()\n",
        "\n",
        "printReport(res_cv_df, sup_prob_col, e=0.05, labels=labels2)"
      ],
      "execution_count": null,
      "outputs": [
        {
          "output_type": "stream",
          "text": [
            "      \tnormal\tattack\t\n",
            "normal\t 13277\t   127\t\n",
            "attack\t     2\t 11739\t\n",
            " \n",
            "Accuracy = 0.99487\n",
            "AUC = 0.995177\n",
            " \n",
            "False Alarm Rate = 0.00947478\n",
            "Detection Rate = 0.99983\n",
            "F1 score = 0.994536\n",
            " \n",
            "              precision    recall  f1-score   support\n",
            "\n",
            "         0.0       1.00      0.99      1.00     13404\n",
            "         1.0       0.99      1.00      0.99     11741\n",
            "\n",
            "    accuracy                           0.99     25145\n",
            "   macro avg       0.99      1.00      0.99     25145\n",
            "weighted avg       0.99      0.99      0.99     25145\n",
            "\n",
            " \n"
          ],
          "name": "stdout"
        }
      ]
    },
    {
      "cell_type": "code",
      "metadata": {
        "id": "Dy_Juy7ePyTg",
        "colab": {
          "base_uri": "https://localhost:8080/"
        },
        "outputId": "4ba76de3-afc1-4054-ea81-7168549b8a3a"
      },
      "source": [
        "res_cv_df = res_cv_df.withColumn(sup_pred_col, col(dos_pred_col).cast('int')\n",
        "                                        .bitwiseOR(col(probe_pred_col).cast('int'))\n",
        "                                        .bitwiseOR(col(r2l_u2r_pred_col).cast('int'))).cache()\n",
        "\n",
        "printReport(res_cv_df, sup_pred_col, labels=labels2)"
      ],
      "execution_count": null,
      "outputs": [
        {
          "output_type": "stream",
          "text": [
            "      \tnormal\tattack\t\n",
            "normal\t 13148\t   256\t\n",
            "attack\t     1\t 11740\t\n",
            " \n",
            "Accuracy = 0.989779\n",
            "AUC = 0.990408\n",
            " \n",
            "False Alarm Rate = 0.0190988\n",
            "Detection Rate = 0.999915\n",
            "F1 score = 0.989173\n",
            " \n",
            "              precision    recall  f1-score   support\n",
            "\n",
            "         0.0       1.00      0.98      0.99     13404\n",
            "         1.0       0.98      1.00      0.99     11741\n",
            "\n",
            "    accuracy                           0.99     25145\n",
            "   macro avg       0.99      0.99      0.99     25145\n",
            "weighted avg       0.99      0.99      0.99     25145\n",
            "\n",
            " \n"
          ],
          "name": "stdout"
        }
      ]
    },
    {
      "cell_type": "code",
      "metadata": {
        "id": "NkdnxIRcP2O0",
        "colab": {
          "base_uri": "https://localhost:8080/"
        },
        "outputId": "1a7cf515-de62-451b-b76c-a94e279af0d6"
      },
      "source": [
        "res_test_df = res_test_df.withColumn(sup_prob_col, \n",
        "                                 (col(dos_prob_col) + col(probe_prob_col) + col(r2l_u2r_prob_col))/3).cache()\n",
        "\n",
        "printReport(res_test_df, sup_prob_col, e=0.005, labels=labels2)"
      ],
      "execution_count": null,
      "outputs": [
        {
          "output_type": "stream",
          "text": [
            "      \tnormal\tattack\t\n",
            "normal\t  8367\t  1344\t\n",
            "attack\t   824\t 12009\t\n",
            " \n",
            "Accuracy = 0.903833\n",
            "AUC = 0.898695\n",
            " \n",
            "False Alarm Rate = 0.1384\n",
            "Detection Rate = 0.935791\n",
            "F1 score = 0.917208\n",
            " \n",
            "              precision    recall  f1-score   support\n",
            "\n",
            "         0.0       0.91      0.86      0.89      9711\n",
            "         1.0       0.90      0.94      0.92     12833\n",
            "\n",
            "    accuracy                           0.90     22544\n",
            "   macro avg       0.90      0.90      0.90     22544\n",
            "weighted avg       0.90      0.90      0.90     22544\n",
            "\n",
            " \n"
          ],
          "name": "stdout"
        }
      ]
    },
    {
      "cell_type": "code",
      "metadata": {
        "id": "IZ6ekbDEP5Pu",
        "colab": {
          "base_uri": "https://localhost:8080/"
        },
        "outputId": "aa32659f-173d-46c9-90a5-661b7420f78d"
      },
      "source": [
        "res_test_df = res_test_df.withColumn(sup_pred_col, col(dos_pred_col).cast('int')\n",
        "                                            .bitwiseOR(col(probe_pred_col).cast('int'))\n",
        "                                            .bitwiseOR(col(r2l_u2r_pred_col).cast('int'))).cache()\n",
        "\n",
        "printReport(res_test_df, sup_pred_col, labels=labels2)"
      ],
      "execution_count": null,
      "outputs": [
        {
          "output_type": "stream",
          "text": [
            "      \tnormal\tattack\t\n",
            "normal\t  8288\t  1423\t\n",
            "attack\t   743\t 12090\t\n",
            " \n",
            "Accuracy = 0.903921\n",
            "AUC = 0.897784\n",
            " \n",
            "False Alarm Rate = 0.146535\n",
            "Detection Rate = 0.942102\n",
            "F1 score = 0.917786\n",
            " \n",
            "              precision    recall  f1-score   support\n",
            "\n",
            "         0.0       0.92      0.85      0.88      9711\n",
            "         1.0       0.89      0.94      0.92     12833\n",
            "\n",
            "    accuracy                           0.90     22544\n",
            "   macro avg       0.91      0.90      0.90     22544\n",
            "weighted avg       0.90      0.90      0.90     22544\n",
            "\n",
            " \n"
          ],
          "name": "stdout"
        }
      ]
    },
    {
      "cell_type": "markdown",
      "metadata": {
        "id": "xXkLPj0KVot6"
      },
      "source": [
        "Ensembling experiments\n",
        "\n",
        "Here are some experiments with ensembling and stacking results from different approaches.\n"
      ]
    },
    {
      "cell_type": "markdown",
      "metadata": {
        "id": "diQVeNSIWCJ0"
      },
      "source": [
        " Linear combination of all models"
      ]
    },
    {
      "cell_type": "code",
      "metadata": {
        "id": "8Soj_KdsP76z",
        "colab": {
          "base_uri": "https://localhost:8080/"
        },
        "outputId": "fe765163-83cd-4aab-d93c-3f883525c820"
      },
      "source": [
        "# Printing report of the best single model for comparison\n",
        "printReport(res_test_df, kmeans_pred_col)"
      ],
      "execution_count": null,
      "outputs": [
        {
          "output_type": "stream",
          "text": [
            "      \tnormal\tattack\t\n",
            "normal\t  8191\t  1520\t\n",
            "attack\t    79\t 12754\t\n",
            " \n",
            "Accuracy = 0.929072\n",
            "AUC = 0.91866\n",
            " \n",
            "False Alarm Rate = 0.156524\n",
            "Detection Rate = 0.993844\n",
            "F1 score = 0.941012\n",
            " \n",
            "              precision    recall  f1-score   support\n",
            "\n",
            "         0.0       0.99      0.84      0.91      9711\n",
            "         1.0       0.89      0.99      0.94     12833\n",
            "\n",
            "    accuracy                           0.93     22544\n",
            "   macro avg       0.94      0.92      0.93     22544\n",
            "weighted avg       0.94      0.93      0.93     22544\n",
            "\n",
            " \n"
          ],
          "name": "stdout"
        }
      ]
    },
    {
      "cell_type": "code",
      "metadata": {
        "id": "8enTuLLDVr1l",
        "colab": {
          "base_uri": "https://localhost:8080/"
        },
        "outputId": "be204130-4e7b-4909-b960-2b0233af6538"
      },
      "source": [
        "# Linear combination of all models \n",
        "printReport(res_test_df\n",
        "            .select('labels2_index', ((3 * col(kmeans_prob_col) \\\n",
        "                                        + col(gm_prob_col) \\\n",
        "                                        + col(dos_prob_col) \\\n",
        "                                        + col(probe_prob_col) \\\n",
        "                                        + col(r2l_u2r_prob_col))/7)\n",
        "                    .alias('voting')), \n",
        "            'voting', e=0.005, labels=labels2)"
      ],
      "execution_count": null,
      "outputs": [
        {
          "output_type": "stream",
          "text": [
            "      \tnormal\tattack\t\n",
            "normal\t  8107\t  1604\t\n",
            "attack\t    63\t 12770\t\n",
            " \n",
            "Accuracy = 0.926056\n",
            "AUC = 0.914959\n",
            " \n",
            "False Alarm Rate = 0.165174\n",
            "Detection Rate = 0.995091\n",
            "F1 score = 0.938729\n",
            " \n",
            "              precision    recall  f1-score   support\n",
            "\n",
            "         0.0       0.99      0.83      0.91      9711\n",
            "         1.0       0.89      1.00      0.94     12833\n",
            "\n",
            "    accuracy                           0.93     22544\n",
            "   macro avg       0.94      0.91      0.92     22544\n",
            "weighted avg       0.93      0.93      0.92     22544\n",
            "\n",
            " \n"
          ],
          "name": "stdout"
        }
      ]
    },
    {
      "cell_type": "code",
      "metadata": {
        "id": "bVlwKZlpVwGA",
        "colab": {
          "base_uri": "https://localhost:8080/"
        },
        "outputId": "b588f520-a251-47e9-9010-37c3f650fe4b"
      },
      "source": [
        "printReport(res_test_df\n",
        "            .select('labels2_index', ((2 * col(kmeans_prob_col) \\\n",
        "                                        + col(gm_prob_col) \\\n",
        "                                        + col(sup_prob_col))/4)\n",
        "                    .alias('voting')), \n",
        "            'voting', e=0.005, labels=labels2)"
      ],
      "execution_count": null,
      "outputs": [
        {
          "output_type": "stream",
          "text": [
            "      \tnormal\tattack\t\n",
            "normal\t  8082\t  1629\t\n",
            "attack\t    52\t 12781\t\n",
            " \n",
            "Accuracy = 0.925435\n",
            "AUC = 0.9141\n",
            " \n",
            "False Alarm Rate = 0.167748\n",
            "Detection Rate = 0.995948\n",
            "F1 score = 0.938296\n",
            " \n",
            "              precision    recall  f1-score   support\n",
            "\n",
            "         0.0       0.99      0.83      0.91      9711\n",
            "         1.0       0.89      1.00      0.94     12833\n",
            "\n",
            "    accuracy                           0.93     22544\n",
            "   macro avg       0.94      0.91      0.92     22544\n",
            "weighted avg       0.93      0.93      0.92     22544\n",
            "\n",
            " \n"
          ],
          "name": "stdout"
        }
      ]
    },
    {
      "cell_type": "code",
      "metadata": {
        "id": "7ORDFSDLV2GB",
        "colab": {
          "base_uri": "https://localhost:8080/"
        },
        "outputId": "e2944a35-a0e7-47ed-f88f-8c2552a1750a"
      },
      "source": [
        "printReport(res_test_df\n",
        "            .select('labels2_index', (col(kmeans_pred_col).cast('int')\n",
        "                                      .bitwiseOR(col(gm_pred_col).cast('int'))\n",
        "                                      .bitwiseOR(col(sup_pred_col).cast('int')))\n",
        "                    .alias('voting')), \n",
        "                    'voting', labels=labels2)"
      ],
      "execution_count": null,
      "outputs": [
        {
          "output_type": "stream",
          "text": [
            "      \tnormal\tattack\t\n",
            "normal\t  8090\t  1621\t\n",
            "attack\t    64\t 12769\t\n",
            " \n",
            "Accuracy = 0.925257\n",
            "AUC = 0.914044\n",
            " \n",
            "False Alarm Rate = 0.166924\n",
            "Detection Rate = 0.995013\n",
            "F1 score = 0.938104\n",
            " \n",
            "              precision    recall  f1-score   support\n",
            "\n",
            "         0.0       0.99      0.83      0.91      9711\n",
            "         1.0       0.89      1.00      0.94     12833\n",
            "\n",
            "    accuracy                           0.93     22544\n",
            "   macro avg       0.94      0.91      0.92     22544\n",
            "weighted avg       0.93      0.93      0.92     22544\n",
            "\n",
            " \n"
          ],
          "name": "stdout"
        }
      ]
    },
    {
      "cell_type": "markdown",
      "metadata": {
        "id": "OU_yZO4bWEx9"
      },
      "source": [
        "Logistic Regression and Random Forest Classifier"
      ]
    },
    {
      "cell_type": "code",
      "metadata": {
        "id": "kKAy6s89V6wd",
        "colab": {
          "base_uri": "https://localhost:8080/"
        },
        "outputId": "33db6de1-4f5a-432d-bd6f-e09d40d2f0f1"
      },
      "source": [
        "from pyspark.ml.classification import LogisticRegression\n",
        "\n",
        "t0 = time()\n",
        "lr_assembler = VectorAssembler(inputCols=[\n",
        "                            kmeans_prob_col, \n",
        "                            gm_prob_col, \n",
        "                            dos_prob_col, \n",
        "                            probe_prob_col, \n",
        "                            r2l_u2r_prob_col\n",
        "                            ], \n",
        "                            outputCol=\"features\")\n",
        "\n",
        "lr = LogisticRegression(maxIter=100, labelCol=\"labels2_index\", standardization=False, weightCol='weights')\n",
        "lr_pipeline = Pipeline(stages=[lr_assembler, lr])\n",
        "\n",
        "weights_dict = {\n",
        "    'normal': 1.0,\n",
        "    'DoS': 100.0,\n",
        "    'Probe': 100.0,\n",
        "    'R2L': 100.0,\n",
        "    'U2R': 100.0\n",
        "}\n",
        "\n",
        "udf_weight = udf(lambda row: weights_dict[row], DoubleType())\n",
        "lr_model = lr_pipeline.fit(res_cv_df.withColumn('weights', udf_weight('labels5')))\n",
        "lr_test_df = lr_model.transform(res_test_df).cache()\n",
        "\n",
        "res_test_df = (res_test_df.drop('lr_prob')\n",
        "                    .join(lr_test_df.rdd\n",
        "                    .map(lambda row: (row['id'], float(row['probability'][1])))\n",
        "                    .toDF(['id', 'lr_prob']), 'id')\n",
        "                    .cache())\n",
        "\n",
        "print(res_test_df.count())\n",
        "print(f\"Time: {time() - t0:.2f}s\")"
      ],
      "execution_count": null,
      "outputs": [
        {
          "output_type": "stream",
          "text": [
            "22544\n",
            "Time: 352.14s\n"
          ],
          "name": "stdout"
        }
      ]
    },
    {
      "cell_type": "code",
      "metadata": {
        "id": "I12YBFaUWK_p",
        "colab": {
          "base_uri": "https://localhost:8080/"
        },
        "outputId": "cc5ca05c-4981-4696-e73b-9042399e6c8e"
      },
      "source": [
        "printReport(res_test_df, 'lr_prob', e=0.01, labels=labels2)"
      ],
      "execution_count": null,
      "outputs": [
        {
          "output_type": "stream",
          "text": [
            "      \tnormal\tattack\t\n",
            "normal\t  8415\t  1296\t\n",
            "attack\t   419\t 12414\t\n",
            " \n",
            "Accuracy = 0.923927\n",
            "AUC = 0.916946\n",
            " \n",
            "False Alarm Rate = 0.133457\n",
            "Detection Rate = 0.96735\n",
            "F1 score = 0.935388\n",
            " \n",
            "              precision    recall  f1-score   support\n",
            "\n",
            "         0.0       0.95      0.87      0.91      9711\n",
            "         1.0       0.91      0.97      0.94     12833\n",
            "\n",
            "    accuracy                           0.92     22544\n",
            "   macro avg       0.93      0.92      0.92     22544\n",
            "weighted avg       0.93      0.92      0.92     22544\n",
            "\n",
            " \n"
          ],
          "name": "stdout"
        }
      ]
    },
    {
      "cell_type": "code",
      "metadata": {
        "id": "FJGKgB_aWPux",
        "colab": {
          "base_uri": "https://localhost:8080/"
        },
        "outputId": "3e7a63a7-25fc-48b6-ce10-0eed8be068d9"
      },
      "source": [
        "t0 = time()\n",
        "rf_assembler = VectorAssembler(inputCols=[\n",
        "                            kmeans_pred_col, \n",
        "                            gm_pred_col, \n",
        "                            dos_pred_col, \n",
        "                            probe_pred_col, \n",
        "                            r2l_u2r_pred_col\n",
        "                            ],\n",
        "                            outputCol='features')\n",
        "\n",
        "rf_indexer =  VectorIndexer(inputCol='features', outputCol='indexed_features', maxCategories=2)\n",
        "\n",
        "rf = RandomForestClassifier(labelCol='labels2_index', featuresCol='features', seed=seed,\n",
        "                            numTrees=250, maxDepth=5, featureSubsetStrategy='auto')\n",
        "rf_pipeline = Pipeline(stages=[rf_assembler, \n",
        "                               rf_indexer,\n",
        "                               rf])\n",
        "rf_model = rf_pipeline.fit(res_cv_df)\n",
        "rf_test_df = rf_model.transform(res_test_df).cache()\n",
        "\n",
        "res_test_df = (res_test_df.drop('rf_prob')\n",
        "                    .join(rf_test_df.rdd\n",
        "                    .map(lambda row: (row['id'], float(row['probability'][1])))\n",
        "                    .toDF(['id', 'rf_prob']), 'id')\n",
        "                    .cache())\n",
        "\n",
        "print(res_test_df.count())\n",
        "print(f\"Time: {time() - t0:.2f}s\")"
      ],
      "execution_count": null,
      "outputs": [
        {
          "output_type": "stream",
          "text": [
            "22544\n",
            "Time: 97.13s\n"
          ],
          "name": "stdout"
        }
      ]
    },
    {
      "cell_type": "code",
      "metadata": {
        "id": "QRzh45U0WTiE",
        "colab": {
          "base_uri": "https://localhost:8080/"
        },
        "outputId": "637a95c5-4814-4a9d-ada7-05cb53d0d2cd"
      },
      "source": [
        "printReport(res_test_df, 'rf_prob', e=0.01, labels=labels2)"
      ],
      "execution_count": null,
      "outputs": [
        {
          "output_type": "stream",
          "text": [
            "      \tnormal\tattack\t\n",
            "normal\t  8107\t  1604\t\n",
            "attack\t    64\t 12769\t\n",
            " \n",
            "Accuracy = 0.926011\n",
            "AUC = 0.91492\n",
            " \n",
            "False Alarm Rate = 0.165174\n",
            "Detection Rate = 0.995013\n",
            "F1 score = 0.93869\n",
            " \n",
            "              precision    recall  f1-score   support\n",
            "\n",
            "         0.0       0.99      0.83      0.91      9711\n",
            "         1.0       0.89      1.00      0.94     12833\n",
            "\n",
            "    accuracy                           0.93     22544\n",
            "   macro avg       0.94      0.91      0.92     22544\n",
            "weighted avg       0.93      0.93      0.92     22544\n",
            "\n",
            " \n"
          ],
          "name": "stdout"
        }
      ]
    },
    {
      "cell_type": "code",
      "metadata": {
        "id": "MO8tIMMFWWMG",
        "colab": {
          "base_uri": "https://localhost:8080/"
        },
        "outputId": "6e6f357b-474f-4581-c1ca-6151ae0b3c36"
      },
      "source": [
        "# Adding prediction columns based on chosen thresholds into result dataframes\n",
        "t0 = time()\n",
        "res_test_df = res_test_df.withColumn('lr_pred', getPrediction(0.01)(col('lr_prob'))).cache()\n",
        "res_test_df = res_test_df.withColumn('rf_pred', getPrediction(0.01)(col('rf_prob'))).cache()\n",
        "\n",
        "print(res_test_df.count())\n",
        "print(f\"Time: {time() - t0:.2f}s\")"
      ],
      "execution_count": null,
      "outputs": [
        {
          "output_type": "stream",
          "text": [
            "22544\n",
            "Time: 15.74s\n"
          ],
          "name": "stdout"
        }
      ]
    },
    {
      "cell_type": "code",
      "metadata": {
        "id": "3fywqZnxWZcw",
        "colab": {
          "base_uri": "https://localhost:8080/"
        },
        "outputId": "62fb0bf4-6652-4742-dc4c-9872d004e86e"
      },
      "source": [
        "printReport(res_test_df\n",
        "            .select('labels2_index', ((col('lr_prob') + col('rf_prob'))/2)\n",
        "                    .alias('voting')), \n",
        "                    'voting', e=0.01, labels=labels2)"
      ],
      "execution_count": null,
      "outputs": [
        {
          "output_type": "stream",
          "text": [
            "      \tnormal\tattack\t\n",
            "normal\t  8107\t  1604\t\n",
            "attack\t    64\t 12769\t\n",
            " \n",
            "Accuracy = 0.926011\n",
            "AUC = 0.91492\n",
            " \n",
            "False Alarm Rate = 0.165174\n",
            "Detection Rate = 0.995013\n",
            "F1 score = 0.93869\n",
            " \n",
            "              precision    recall  f1-score   support\n",
            "\n",
            "         0.0       0.99      0.83      0.91      9711\n",
            "         1.0       0.89      1.00      0.94     12833\n",
            "\n",
            "    accuracy                           0.93     22544\n",
            "   macro avg       0.94      0.91      0.92     22544\n",
            "weighted avg       0.93      0.93      0.92     22544\n",
            "\n",
            " \n"
          ],
          "name": "stdout"
        }
      ]
    },
    {
      "cell_type": "markdown",
      "metadata": {
        "id": "SndngCFgWj9Y"
      },
      "source": [
        "Stacking with Random Forest Classifier"
      ]
    },
    {
      "cell_type": "code",
      "metadata": {
        "id": "ZwEzcZfUWfZC",
        "colab": {
          "base_uri": "https://localhost:8080/"
        },
        "outputId": "f9c4f8a2-6434-4f38-dabc-53ededc90ff9"
      },
      "source": [
        "stack_cv_df = scaled_cv_df.join(res_cv_df.select('id', *[\n",
        "                            kmeans_pred_col, \n",
        "                            gm_pred_col, \n",
        "                            dos_pred_col, \n",
        "                            probe_pred_col, \n",
        "                            r2l_u2r_pred_col,\n",
        "                            sup_pred_col\n",
        "                            ]), 'id').cache()\n",
        "\n",
        "stack_test_df = scaled_test_df.join(res_test_df.select('id', *[\n",
        "                            kmeans_pred_col, \n",
        "                            gm_pred_col, \n",
        "                            dos_pred_col, \n",
        "                            probe_pred_col, \n",
        "                            r2l_u2r_pred_col,\n",
        "                            sup_pred_col\n",
        "                            ]), 'id').cache()\n",
        "\n",
        "print(stack_cv_df.count())\n",
        "print(stack_test_df.count())"
      ],
      "execution_count": null,
      "outputs": [
        {
          "output_type": "stream",
          "text": [
            "25145\n",
            "22544\n"
          ],
          "name": "stdout"
        }
      ]
    },
    {
      "cell_type": "code",
      "metadata": {
        "id": "USZB6lIFWmxO",
        "colab": {
          "base_uri": "https://localhost:8080/"
        },
        "outputId": "19561808-d3be-4c84-dfbb-dc37bae62224"
      },
      "source": [
        "t0 = time()\n",
        "pred_assembler = VectorAssembler(inputCols=[\n",
        "                            kmeans_pred_col, \n",
        "                            gm_pred_col, \n",
        "                            dos_pred_col, \n",
        "                            probe_pred_col, \n",
        "                            r2l_u2r_pred_col,\n",
        "                            sup_pred_col\n",
        "                            ], outputCol='pred_features')\n",
        "pred_indexer = VectorIndexer(inputCol='pred_features', outputCol='indexed_pred_features', maxCategories=2)\n",
        "\n",
        "rf_stack_slicer = VectorSlicer(inputCol='indexed_features', outputCol='selected_features', \n",
        "                               names=selectFeaturesByAR(ar_dict, 1.5))\n",
        "\n",
        "rf_stack_assembler = VectorAssembler(inputCols=['selected_features', 'indexed_pred_features'], outputCol='rf_features')\n",
        "\n",
        "rf_stack_classifier = RandomForestClassifier(labelCol=labels_col, featuresCol='rf_features', seed=seed,\n",
        "                                             numTrees=500, maxDepth=20, featureSubsetStrategy=\"auto\")\n",
        "\n",
        "stack_pipeline = Pipeline(stages=[pred_assembler, \n",
        "                                  pred_indexer, \n",
        "                                  rf_stack_slicer, \n",
        "                                  rf_stack_assembler,\n",
        "                                  rf_stack_classifier\n",
        "                                 ])\n",
        "stack_model = stack_pipeline.fit(stack_cv_df)\n",
        "\n",
        "pred_stack_cv_df = stack_model.transform(stack_cv_df).cache()\n",
        "pred_stack_test_df = stack_model.transform(stack_test_df).cache()\n",
        "print(pred_stack_cv_df.count())\n",
        "print(pred_stack_test_df.count())\n",
        "\n",
        "print(f\"Time: {time() - t0:.2f}s\")"
      ],
      "execution_count": null,
      "outputs": [
        {
          "output_type": "stream",
          "text": [
            "25145\n",
            "22544\n",
            "Time: 356.78s\n"
          ],
          "name": "stdout"
        }
      ]
    },
    {
      "cell_type": "markdown",
      "metadata": {
        "id": "7lKpAzA_W5AM"
      },
      "source": [
        "Results summary"
      ]
    },
    {
      "cell_type": "markdown",
      "metadata": {
        "id": "cPAOe6rLW8O_"
      },
      "source": [
        "\n",
        "\n",
        "###The best result from a single approach was achieved by KMeans Clustering with Random Forest Classifiers. It gives around ~98-99% of detection rate with reasonable ~14-15% of false alarm rate. F1 score is 0.94, weighted F1 score is 0.93.\n",
        "\n",
        "For improving detection rate ensembling approaches are used. The best of them gives ~99.5-99.6% of detection rate with ~16.1-16.6% of false alarm rate. So there are only about 40-90 attack connections from 12833 (including unknown before) which haven't been recognized.\n"
      ]
    },
    {
      "cell_type": "code",
      "metadata": {
        "id": "xafbbLvtoyGD"
      },
      "source": [
        ""
      ],
      "execution_count": null,
      "outputs": []
    }
  ]
}